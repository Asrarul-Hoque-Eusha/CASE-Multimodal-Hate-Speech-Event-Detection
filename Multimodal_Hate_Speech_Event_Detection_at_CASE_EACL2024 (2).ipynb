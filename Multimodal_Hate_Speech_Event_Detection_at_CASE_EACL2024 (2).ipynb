{
  "nbformat": 4,
  "nbformat_minor": 0,
  "metadata": {
    "colab": {
      "provenance": [],
      "toc_visible": true,
      "gpuType": "T4"
    },
    "kernelspec": {
      "name": "python3",
      "display_name": "Python 3"
    },
    "language_info": {
      "name": "python"
    },
    "accelerator": "GPU"
  },
  "cells": [
    {
      "cell_type": "code",
      "source": [],
      "metadata": {
        "id": "g9kA1BBvaSXJ"
      },
      "execution_count": null,
      "outputs": []
    },
    {
      "cell_type": "markdown",
      "metadata": {
        "id": "9iYmnKKPaS6S"
      },
      "source": [
        "# Sub Task A"
      ]
    },
    {
      "cell_type": "markdown",
      "source": [
        "## Import Libraries"
      ],
      "metadata": {
        "id": "qJsXeAiDDabN"
      }
    },
    {
      "cell_type": "code",
      "execution_count": null,
      "metadata": {
        "colab": {
          "base_uri": "https://localhost:8080/"
        },
        "outputId": "8e243e04-b275-4af9-acbb-d577468a9026",
        "id": "GIbtf2n3aS6T"
      },
      "outputs": [
        {
          "output_type": "stream",
          "name": "stderr",
          "text": [
            "[nltk_data] Downloading package punkt to /root/nltk_data...\n",
            "[nltk_data]   Package punkt is already up-to-date!\n"
          ]
        },
        {
          "output_type": "stream",
          "name": "stdout",
          "text": [
            "CPU times: user 6.37 s, sys: 1.09 s, total: 7.46 s\n",
            "Wall time: 15.3 s\n"
          ]
        }
      ],
      "source": [
        "%%time\n",
        "import os\n",
        "from glob import glob\n",
        "import numpy as np\n",
        "import matplotlib.pyplot as plt\n",
        "%matplotlib inline\n",
        "import pandas as pd\n",
        "import seaborn as sns\n",
        "import re,nltk,json\n",
        "from sklearn.metrics import confusion_matrix,classification_report\n",
        "from sklearn.model_selection import train_test_split\n",
        "from sklearn.metrics import accuracy_score,precision_score,recall_score,f1_score,roc_auc_score\n",
        "from sklearn.metrics import average_precision_score,roc_auc_score, roc_curve, precision_recall_curve\n",
        "#from keras.utils.vis_utils import plot_model\n",
        "np.random.seed(42)\n",
        "nltk.download('punkt')\n",
        "from nltk.corpus import stopwords\n",
        "from nltk.tokenize import word_tokenize\n",
        "from nltk.tokenize import ToktokTokenizer\n",
        "import string, spacy,unicodedata, random\n",
        "from bs4 import BeautifulSoup\n",
        "class color: # Text style\n",
        "   PURPLE = '\\033[95m'\n",
        "   CYAN = '\\033[96m'\n",
        "   DARKCYAN = '\\033[36m'\n",
        "   BLUE = '\\033[94m'\n",
        "   GREEN = '\\033[92m'\n",
        "   YELLOW = '\\033[93m'\n",
        "   RED = '\\033[91m'\n",
        "   BOLD = '\\033[1m'\n",
        "   UNDERLINE = '\\033[4m'\n",
        "   END = '\\033[0m'\n",
        "import warnings\n",
        "warnings.filterwarnings('ignore')"
      ]
    },
    {
      "cell_type": "code",
      "execution_count": null,
      "metadata": {
        "colab": {
          "base_uri": "https://localhost:8080/"
        },
        "outputId": "9a26702c-236b-4718-e990-b61039a8cc11",
        "id": "7DXyr5O2aS6T"
      },
      "outputs": [
        {
          "output_type": "stream",
          "name": "stdout",
          "text": [
            "Drive already mounted at /content/drive; to attempt to forcibly remount, call drive.mount(\"/content/drive\", force_remount=True).\n"
          ]
        }
      ],
      "source": [
        "from google.colab import drive\n",
        "drive.mount('/content/drive')"
      ]
    },
    {
      "cell_type": "code",
      "execution_count": null,
      "metadata": {
        "id": "h3pAsZ5zaS6U"
      },
      "outputs": [],
      "source": [
        "from keras.preprocessing import image\n",
        "from keras.applications.vgg16 import VGG16\n",
        "from keras.applications.inception_v3 import InceptionV3\n",
        "from tensorflow.keras.applications.resnet50 import ResNet50\n",
        "from keras.applications.vgg16 import preprocess_input\n",
        "from keras.preprocessing.text import Tokenizer\n",
        "from keras.layers import Dense, GlobalAveragePooling2D, Embedding, LSTM, multiply\n",
        "from keras.models import Model\n",
        "from keras import preprocessing, Input\n",
        "from tensorflow import keras\n",
        "from keras.models import Sequential\n",
        "#Import from keras_preprocessing not from keras.preprocessing\n",
        "#from keras_preprocessing.image import ImageDataGenerator\n",
        "from keras.layers import Dense, Activation, Flatten, Dropout, BatchNormalization\n",
        "from keras.layers import Conv2D, MaxPooling2D\n",
        "from keras import regularizers, optimizers\n",
        "from tensorflow.keras.models import load_model\n",
        "import itertools\n",
        "from PIL import Image, ImageFile\n",
        "import tensorflow as tf\n",
        "import tensorflow.keras as keras\n",
        "from tensorflow.keras.preprocessing.text import Tokenizer\n",
        "from tensorflow.keras.preprocessing.sequence import pad_sequences\n",
        "from tensorflow.keras.layers import Concatenate, Dense, Input, LSTM, Embedding, Dropout, Activation, GRU, Flatten\n",
        "from tensorflow.keras.layers import Bidirectional, GlobalMaxPool1D\n",
        "from tensorflow.keras.models import Model, Sequential\n",
        "from tensorflow.keras.layers import Convolution1D,MaxPooling1D,Conv1D\n",
        "from tensorflow.keras import initializers, regularizers, constraints, optimizers, layers\n",
        "from tensorflow.keras.layers import Add, BatchNormalization, Activation, Dropout\n",
        "from tensorflow.keras.optimizers import RMSprop,Adam,SGD,Nadam\n",
        "keras.backend.clear_session()"
      ]
    },
    {
      "cell_type": "markdown",
      "metadata": {
        "id": "7pWsEnwRaS6U"
      },
      "source": [
        "## Import Data"
      ]
    },
    {
      "cell_type": "code",
      "execution_count": null,
      "metadata": {
        "id": "IgNgEVE-aS6U"
      },
      "outputs": [],
      "source": [
        "#train_data_hate = pd.read_csv('/content/drive/MyDrive/Colab Notebooks/hate_stA_train.csv')\n",
        "#train_data_nonhate = pd.read_csv('/content/drive/MyDrive/Colab Notebooks/nohate_stA_train.csv')\n",
        "train_data = pd.read_csv('/content/drive/MyDrive/Colab Notebooks/train_stA_sorted_file.csv')\n",
        "dev_data = pd.read_csv('/content/drive/MyDrive/Colab Notebooks/devstA (1).csv')  # don't forget to add levels\n",
        "#dev_data_labels =  pd.read_csv('/content/drive/MyDrive/Colab Notebooks/eval_subtaskA - eval_subtaskA.csv')\n",
        "test_data = pd.read_csv('/content/drive/MyDrive/Colab Notebooks/stA_test.csv')"
      ]
    },
    {
      "cell_type": "code",
      "execution_count": null,
      "metadata": {
        "id": "3v2axVPyaS6U"
      },
      "outputs": [],
      "source": [
        "#print(train_data_hate.shape)\n",
        "#print(train_data_nonhate.shape)"
      ]
    },
    {
      "cell_type": "code",
      "execution_count": null,
      "metadata": {
        "id": "4mJl9f6uaS6U"
      },
      "outputs": [],
      "source": [
        "#train_data_hate['Label'] ='hate'\n",
        "#train_data_nonhate['Label'] ='non-hate'\n",
        "\n",
        "#for i in range(train_data_hate.shape[0]):\n",
        " # train_data_hate['Level'][i]='hate'"
      ]
    },
    {
      "cell_type": "code",
      "execution_count": null,
      "metadata": {
        "id": "5zEhFvwZaS6U"
      },
      "outputs": [],
      "source": [
        "#print(train_data_hate.shape)\n",
        "#print(train_data_nonhate.shape)"
      ]
    },
    {
      "cell_type": "code",
      "execution_count": null,
      "metadata": {
        "id": "7Gsj-zunaS6V"
      },
      "outputs": [],
      "source": [
        "#display(train_data_hate.head(5))\n",
        "#display(train_data_nonhate.head(5))"
      ]
    },
    {
      "cell_type": "code",
      "execution_count": null,
      "metadata": {
        "colab": {
          "base_uri": "https://localhost:8080/",
          "height": 395
        },
        "outputId": "52be4e29-0ff3-4b20-8aee-8150e501d7b7",
        "id": "ZvrifoaSaS6V"
      },
      "outputs": [
        {
          "output_type": "display_data",
          "data": {
            "text/plain": [
              "                                            filename  \\\n",
              "0  /content/drive/MyDrive/CASE2023_Task4/CASE2023...   \n",
              "1  /content/drive/MyDrive/CASE2023_Task4/CASE2023...   \n",
              "2  /content/drive/MyDrive/CASE2023_Task4/CASE2023...   \n",
              "3  /content/drive/MyDrive/CASE2023_Task4/CASE2023...   \n",
              "4  /content/drive/MyDrive/CASE2023_Task4/CASE2023...   \n",
              "\n",
              "                                                text     Label  enc_label  \\\n",
              "0  Brian Lilley @brianlilley. 21h It's time for C...  non-hate          1   \n",
              "1  19:40 3 gab TeoAnon17 @Teoquanon 22m ANONS Mil...  non-hate          1   \n",
              "2  pulse sports Babatunde Koiki @Babatu... Dear @...      hate          0   \n",
              "3  Near Belgorod, Russia 12:36 AM BREAKING NEWS U...  non-hate          1   \n",
              "4  Russia destroys Chernobyl nuclear plant lab th...  non-hate          1   \n",
              "\n",
              "   imgname  \n",
              "0    10008  \n",
              "1    10032  \n",
              "2    10041  \n",
              "3    10139  \n",
              "4    10146  "
            ],
            "text/html": [
              "\n",
              "  <div id=\"df-c3139adf-6e74-449c-869c-380cbc622ecb\" class=\"colab-df-container\">\n",
              "    <div>\n",
              "<style scoped>\n",
              "    .dataframe tbody tr th:only-of-type {\n",
              "        vertical-align: middle;\n",
              "    }\n",
              "\n",
              "    .dataframe tbody tr th {\n",
              "        vertical-align: top;\n",
              "    }\n",
              "\n",
              "    .dataframe thead th {\n",
              "        text-align: right;\n",
              "    }\n",
              "</style>\n",
              "<table border=\"1\" class=\"dataframe\">\n",
              "  <thead>\n",
              "    <tr style=\"text-align: right;\">\n",
              "      <th></th>\n",
              "      <th>filename</th>\n",
              "      <th>text</th>\n",
              "      <th>Label</th>\n",
              "      <th>enc_label</th>\n",
              "      <th>imgname</th>\n",
              "    </tr>\n",
              "  </thead>\n",
              "  <tbody>\n",
              "    <tr>\n",
              "      <th>0</th>\n",
              "      <td>/content/drive/MyDrive/CASE2023_Task4/CASE2023...</td>\n",
              "      <td>Brian Lilley @brianlilley. 21h It's time for C...</td>\n",
              "      <td>non-hate</td>\n",
              "      <td>1</td>\n",
              "      <td>10008</td>\n",
              "    </tr>\n",
              "    <tr>\n",
              "      <th>1</th>\n",
              "      <td>/content/drive/MyDrive/CASE2023_Task4/CASE2023...</td>\n",
              "      <td>19:40 3 gab TeoAnon17 @Teoquanon 22m ANONS Mil...</td>\n",
              "      <td>non-hate</td>\n",
              "      <td>1</td>\n",
              "      <td>10032</td>\n",
              "    </tr>\n",
              "    <tr>\n",
              "      <th>2</th>\n",
              "      <td>/content/drive/MyDrive/CASE2023_Task4/CASE2023...</td>\n",
              "      <td>pulse sports Babatunde Koiki @Babatu... Dear @...</td>\n",
              "      <td>hate</td>\n",
              "      <td>0</td>\n",
              "      <td>10041</td>\n",
              "    </tr>\n",
              "    <tr>\n",
              "      <th>3</th>\n",
              "      <td>/content/drive/MyDrive/CASE2023_Task4/CASE2023...</td>\n",
              "      <td>Near Belgorod, Russia 12:36 AM BREAKING NEWS U...</td>\n",
              "      <td>non-hate</td>\n",
              "      <td>1</td>\n",
              "      <td>10139</td>\n",
              "    </tr>\n",
              "    <tr>\n",
              "      <th>4</th>\n",
              "      <td>/content/drive/MyDrive/CASE2023_Task4/CASE2023...</td>\n",
              "      <td>Russia destroys Chernobyl nuclear plant lab th...</td>\n",
              "      <td>non-hate</td>\n",
              "      <td>1</td>\n",
              "      <td>10146</td>\n",
              "    </tr>\n",
              "  </tbody>\n",
              "</table>\n",
              "</div>\n",
              "    <div class=\"colab-df-buttons\">\n",
              "\n",
              "  <div class=\"colab-df-container\">\n",
              "    <button class=\"colab-df-convert\" onclick=\"convertToInteractive('df-c3139adf-6e74-449c-869c-380cbc622ecb')\"\n",
              "            title=\"Convert this dataframe to an interactive table.\"\n",
              "            style=\"display:none;\">\n",
              "\n",
              "  <svg xmlns=\"http://www.w3.org/2000/svg\" height=\"24px\" viewBox=\"0 -960 960 960\">\n",
              "    <path d=\"M120-120v-720h720v720H120Zm60-500h600v-160H180v160Zm220 220h160v-160H400v160Zm0 220h160v-160H400v160ZM180-400h160v-160H180v160Zm440 0h160v-160H620v160ZM180-180h160v-160H180v160Zm440 0h160v-160H620v160Z\"/>\n",
              "  </svg>\n",
              "    </button>\n",
              "\n",
              "  <style>\n",
              "    .colab-df-container {\n",
              "      display:flex;\n",
              "      gap: 12px;\n",
              "    }\n",
              "\n",
              "    .colab-df-convert {\n",
              "      background-color: #E8F0FE;\n",
              "      border: none;\n",
              "      border-radius: 50%;\n",
              "      cursor: pointer;\n",
              "      display: none;\n",
              "      fill: #1967D2;\n",
              "      height: 32px;\n",
              "      padding: 0 0 0 0;\n",
              "      width: 32px;\n",
              "    }\n",
              "\n",
              "    .colab-df-convert:hover {\n",
              "      background-color: #E2EBFA;\n",
              "      box-shadow: 0px 1px 2px rgba(60, 64, 67, 0.3), 0px 1px 3px 1px rgba(60, 64, 67, 0.15);\n",
              "      fill: #174EA6;\n",
              "    }\n",
              "\n",
              "    .colab-df-buttons div {\n",
              "      margin-bottom: 4px;\n",
              "    }\n",
              "\n",
              "    [theme=dark] .colab-df-convert {\n",
              "      background-color: #3B4455;\n",
              "      fill: #D2E3FC;\n",
              "    }\n",
              "\n",
              "    [theme=dark] .colab-df-convert:hover {\n",
              "      background-color: #434B5C;\n",
              "      box-shadow: 0px 1px 3px 1px rgba(0, 0, 0, 0.15);\n",
              "      filter: drop-shadow(0px 1px 2px rgba(0, 0, 0, 0.3));\n",
              "      fill: #FFFFFF;\n",
              "    }\n",
              "  </style>\n",
              "\n",
              "    <script>\n",
              "      const buttonEl =\n",
              "        document.querySelector('#df-c3139adf-6e74-449c-869c-380cbc622ecb button.colab-df-convert');\n",
              "      buttonEl.style.display =\n",
              "        google.colab.kernel.accessAllowed ? 'block' : 'none';\n",
              "\n",
              "      async function convertToInteractive(key) {\n",
              "        const element = document.querySelector('#df-c3139adf-6e74-449c-869c-380cbc622ecb');\n",
              "        const dataTable =\n",
              "          await google.colab.kernel.invokeFunction('convertToInteractive',\n",
              "                                                    [key], {});\n",
              "        if (!dataTable) return;\n",
              "\n",
              "        const docLinkHtml = 'Like what you see? Visit the ' +\n",
              "          '<a target=\"_blank\" href=https://colab.research.google.com/notebooks/data_table.ipynb>data table notebook</a>'\n",
              "          + ' to learn more about interactive tables.';\n",
              "        element.innerHTML = '';\n",
              "        dataTable['output_type'] = 'display_data';\n",
              "        await google.colab.output.renderOutput(dataTable, element);\n",
              "        const docLink = document.createElement('div');\n",
              "        docLink.innerHTML = docLinkHtml;\n",
              "        element.appendChild(docLink);\n",
              "      }\n",
              "    </script>\n",
              "  </div>\n",
              "\n",
              "\n",
              "<div id=\"df-85e34424-7611-4850-b75f-6f079fce2f06\">\n",
              "  <button class=\"colab-df-quickchart\" onclick=\"quickchart('df-85e34424-7611-4850-b75f-6f079fce2f06')\"\n",
              "            title=\"Suggest charts\"\n",
              "            style=\"display:none;\">\n",
              "\n",
              "<svg xmlns=\"http://www.w3.org/2000/svg\" height=\"24px\"viewBox=\"0 0 24 24\"\n",
              "     width=\"24px\">\n",
              "    <g>\n",
              "        <path d=\"M19 3H5c-1.1 0-2 .9-2 2v14c0 1.1.9 2 2 2h14c1.1 0 2-.9 2-2V5c0-1.1-.9-2-2-2zM9 17H7v-7h2v7zm4 0h-2V7h2v10zm4 0h-2v-4h2v4z\"/>\n",
              "    </g>\n",
              "</svg>\n",
              "  </button>\n",
              "\n",
              "<style>\n",
              "  .colab-df-quickchart {\n",
              "      --bg-color: #E8F0FE;\n",
              "      --fill-color: #1967D2;\n",
              "      --hover-bg-color: #E2EBFA;\n",
              "      --hover-fill-color: #174EA6;\n",
              "      --disabled-fill-color: #AAA;\n",
              "      --disabled-bg-color: #DDD;\n",
              "  }\n",
              "\n",
              "  [theme=dark] .colab-df-quickchart {\n",
              "      --bg-color: #3B4455;\n",
              "      --fill-color: #D2E3FC;\n",
              "      --hover-bg-color: #434B5C;\n",
              "      --hover-fill-color: #FFFFFF;\n",
              "      --disabled-bg-color: #3B4455;\n",
              "      --disabled-fill-color: #666;\n",
              "  }\n",
              "\n",
              "  .colab-df-quickchart {\n",
              "    background-color: var(--bg-color);\n",
              "    border: none;\n",
              "    border-radius: 50%;\n",
              "    cursor: pointer;\n",
              "    display: none;\n",
              "    fill: var(--fill-color);\n",
              "    height: 32px;\n",
              "    padding: 0;\n",
              "    width: 32px;\n",
              "  }\n",
              "\n",
              "  .colab-df-quickchart:hover {\n",
              "    background-color: var(--hover-bg-color);\n",
              "    box-shadow: 0 1px 2px rgba(60, 64, 67, 0.3), 0 1px 3px 1px rgba(60, 64, 67, 0.15);\n",
              "    fill: var(--button-hover-fill-color);\n",
              "  }\n",
              "\n",
              "  .colab-df-quickchart-complete:disabled,\n",
              "  .colab-df-quickchart-complete:disabled:hover {\n",
              "    background-color: var(--disabled-bg-color);\n",
              "    fill: var(--disabled-fill-color);\n",
              "    box-shadow: none;\n",
              "  }\n",
              "\n",
              "  .colab-df-spinner {\n",
              "    border: 2px solid var(--fill-color);\n",
              "    border-color: transparent;\n",
              "    border-bottom-color: var(--fill-color);\n",
              "    animation:\n",
              "      spin 1s steps(1) infinite;\n",
              "  }\n",
              "\n",
              "  @keyframes spin {\n",
              "    0% {\n",
              "      border-color: transparent;\n",
              "      border-bottom-color: var(--fill-color);\n",
              "      border-left-color: var(--fill-color);\n",
              "    }\n",
              "    20% {\n",
              "      border-color: transparent;\n",
              "      border-left-color: var(--fill-color);\n",
              "      border-top-color: var(--fill-color);\n",
              "    }\n",
              "    30% {\n",
              "      border-color: transparent;\n",
              "      border-left-color: var(--fill-color);\n",
              "      border-top-color: var(--fill-color);\n",
              "      border-right-color: var(--fill-color);\n",
              "    }\n",
              "    40% {\n",
              "      border-color: transparent;\n",
              "      border-right-color: var(--fill-color);\n",
              "      border-top-color: var(--fill-color);\n",
              "    }\n",
              "    60% {\n",
              "      border-color: transparent;\n",
              "      border-right-color: var(--fill-color);\n",
              "    }\n",
              "    80% {\n",
              "      border-color: transparent;\n",
              "      border-right-color: var(--fill-color);\n",
              "      border-bottom-color: var(--fill-color);\n",
              "    }\n",
              "    90% {\n",
              "      border-color: transparent;\n",
              "      border-bottom-color: var(--fill-color);\n",
              "    }\n",
              "  }\n",
              "</style>\n",
              "\n",
              "  <script>\n",
              "    async function quickchart(key) {\n",
              "      const quickchartButtonEl =\n",
              "        document.querySelector('#' + key + ' button');\n",
              "      quickchartButtonEl.disabled = true;  // To prevent multiple clicks.\n",
              "      quickchartButtonEl.classList.add('colab-df-spinner');\n",
              "      try {\n",
              "        const charts = await google.colab.kernel.invokeFunction(\n",
              "            'suggestCharts', [key], {});\n",
              "      } catch (error) {\n",
              "        console.error('Error during call to suggestCharts:', error);\n",
              "      }\n",
              "      quickchartButtonEl.classList.remove('colab-df-spinner');\n",
              "      quickchartButtonEl.classList.add('colab-df-quickchart-complete');\n",
              "    }\n",
              "    (() => {\n",
              "      let quickchartButtonEl =\n",
              "        document.querySelector('#df-85e34424-7611-4850-b75f-6f079fce2f06 button');\n",
              "      quickchartButtonEl.style.display =\n",
              "        google.colab.kernel.accessAllowed ? 'block' : 'none';\n",
              "    })();\n",
              "  </script>\n",
              "</div>\n",
              "\n",
              "    </div>\n",
              "  </div>\n"
            ],
            "application/vnd.google.colaboratory.intrinsic+json": {
              "type": "dataframe",
              "summary": "{\n  \"name\": \"display(train_data\",\n  \"rows\": 5,\n  \"fields\": [\n    {\n      \"column\": \"filename\",\n      \"properties\": {\n        \"dtype\": \"string\",\n        \"num_unique_values\": 5,\n        \"samples\": [\n          \"/content/drive/MyDrive/CASE2023_Task4/CASE2023_TASK4_TrainData/subTaskA/No Hate Speech/10032.jpg\",\n          \"/content/drive/MyDrive/CASE2023_Task4/CASE2023_TASK4_TrainData/subTaskA/No Hate Speech/10146.jpg\",\n          \"/content/drive/MyDrive/CASE2023_Task4/CASE2023_TASK4_TrainData/subTaskA/Hate Speech/10041.jpg\"\n        ],\n        \"semantic_type\": \"\",\n        \"description\": \"\"\n      }\n    },\n    {\n      \"column\": \"text\",\n      \"properties\": {\n        \"dtype\": \"string\",\n        \"num_unique_values\": 5,\n        \"samples\": [\n          \"19:40 3 gab TeoAnon17 @Teoquanon 22m ANONS Military Precision (()) Movie Moves & Counter moves Doubles everywhere Read more NOTHING IS WHAT IT SEEMS IT'S GONNA BE BIBLICAL 7 likes 5 reposts 4 ... ID O 99 Vol) :\",\n          \"Russia destroys Chernobyl nuclear plant lab that helped manage radioactive waste Russian military forces have destroyed a new lak ratory at the Chernobyl nuclear power plant that worked to improve management of radioactive waste, the Ukrainian state agency said. The laboratory contained \\\"highly active samples and samples of radionuclides that are now in the hands of the enemy, which we hope will harm itself and not the civilised world\\\", the agency added. Radiation monitors around plant stopped working\",\n          \"pulse sports Babatunde Koiki @Babatu... Dear @FIFAcom, while you're at it, in the spirit of equity and justice, kindly extend bans to Israel for their depredations on the Palestinians, China for their depredations on the Uighurs and Saudi Arabia and it's allies for their depredations on Yemen.\"\n        ],\n        \"semantic_type\": \"\",\n        \"description\": \"\"\n      }\n    },\n    {\n      \"column\": \"Label\",\n      \"properties\": {\n        \"dtype\": \"category\",\n        \"num_unique_values\": 2,\n        \"samples\": [\n          \"hate\",\n          \"non-hate\"\n        ],\n        \"semantic_type\": \"\",\n        \"description\": \"\"\n      }\n    },\n    {\n      \"column\": \"enc_label\",\n      \"properties\": {\n        \"dtype\": \"number\",\n        \"std\": 0,\n        \"min\": 0,\n        \"max\": 1,\n        \"num_unique_values\": 2,\n        \"samples\": [\n          0,\n          1\n        ],\n        \"semantic_type\": \"\",\n        \"description\": \"\"\n      }\n    },\n    {\n      \"column\": \"imgname\",\n      \"properties\": {\n        \"dtype\": \"number\",\n        \"std\": 64,\n        \"min\": 10008,\n        \"max\": 10146,\n        \"num_unique_values\": 5,\n        \"samples\": [\n          10032,\n          10146\n        ],\n        \"semantic_type\": \"\",\n        \"description\": \"\"\n      }\n    }\n  ]\n}"
            }
          },
          "metadata": {}
        },
        {
          "output_type": "display_data",
          "data": {
            "text/plain": [
              "                                               filename  \\\n",
              "3595  /content/drive/MyDrive/CASE2023_Task4/CASE2023...   \n",
              "3596  /content/drive/MyDrive/CASE2023_Task4/CASE2023...   \n",
              "3597  /content/drive/MyDrive/CASE2023_Task4/CASE2023...   \n",
              "3598  /content/drive/MyDrive/CASE2023_Task4/CASE2023...   \n",
              "3599  /content/drive/MyDrive/CASE2023_Task4/CASE2023...   \n",
              "\n",
              "                                                   text     Label  enc_label  \\\n",
              "3595           Please leave. No. Now youse can't leave.      hate          0   \n",
              "3596  Sign in Contribute The. Guardian For 200 years...  non-hate          1   \n",
              "3597  8:05 7 Dmytro Yarosh poses with Ukraine's Comm...      hate          0   \n",
              "3598  Rob Lee @RALee85 Colonel Alexey Gorobets, the ...  non-hate          1   \n",
              "3599  news24 Breaking News. First BREAKING: Vladamir...      hate          0   \n",
              "\n",
              "      imgname  \n",
              "3595    99874  \n",
              "3596    99882  \n",
              "3597    99903  \n",
              "3598    99927  \n",
              "3599    99954  "
            ],
            "text/html": [
              "\n",
              "  <div id=\"df-6115503f-da9e-400e-ba63-cb1a3fe245a6\" class=\"colab-df-container\">\n",
              "    <div>\n",
              "<style scoped>\n",
              "    .dataframe tbody tr th:only-of-type {\n",
              "        vertical-align: middle;\n",
              "    }\n",
              "\n",
              "    .dataframe tbody tr th {\n",
              "        vertical-align: top;\n",
              "    }\n",
              "\n",
              "    .dataframe thead th {\n",
              "        text-align: right;\n",
              "    }\n",
              "</style>\n",
              "<table border=\"1\" class=\"dataframe\">\n",
              "  <thead>\n",
              "    <tr style=\"text-align: right;\">\n",
              "      <th></th>\n",
              "      <th>filename</th>\n",
              "      <th>text</th>\n",
              "      <th>Label</th>\n",
              "      <th>enc_label</th>\n",
              "      <th>imgname</th>\n",
              "    </tr>\n",
              "  </thead>\n",
              "  <tbody>\n",
              "    <tr>\n",
              "      <th>3595</th>\n",
              "      <td>/content/drive/MyDrive/CASE2023_Task4/CASE2023...</td>\n",
              "      <td>Please leave. No. Now youse can't leave.</td>\n",
              "      <td>hate</td>\n",
              "      <td>0</td>\n",
              "      <td>99874</td>\n",
              "    </tr>\n",
              "    <tr>\n",
              "      <th>3596</th>\n",
              "      <td>/content/drive/MyDrive/CASE2023_Task4/CASE2023...</td>\n",
              "      <td>Sign in Contribute The. Guardian For 200 years...</td>\n",
              "      <td>non-hate</td>\n",
              "      <td>1</td>\n",
              "      <td>99882</td>\n",
              "    </tr>\n",
              "    <tr>\n",
              "      <th>3597</th>\n",
              "      <td>/content/drive/MyDrive/CASE2023_Task4/CASE2023...</td>\n",
              "      <td>8:05 7 Dmytro Yarosh poses with Ukraine's Comm...</td>\n",
              "      <td>hate</td>\n",
              "      <td>0</td>\n",
              "      <td>99903</td>\n",
              "    </tr>\n",
              "    <tr>\n",
              "      <th>3598</th>\n",
              "      <td>/content/drive/MyDrive/CASE2023_Task4/CASE2023...</td>\n",
              "      <td>Rob Lee @RALee85 Colonel Alexey Gorobets, the ...</td>\n",
              "      <td>non-hate</td>\n",
              "      <td>1</td>\n",
              "      <td>99927</td>\n",
              "    </tr>\n",
              "    <tr>\n",
              "      <th>3599</th>\n",
              "      <td>/content/drive/MyDrive/CASE2023_Task4/CASE2023...</td>\n",
              "      <td>news24 Breaking News. First BREAKING: Vladamir...</td>\n",
              "      <td>hate</td>\n",
              "      <td>0</td>\n",
              "      <td>99954</td>\n",
              "    </tr>\n",
              "  </tbody>\n",
              "</table>\n",
              "</div>\n",
              "    <div class=\"colab-df-buttons\">\n",
              "\n",
              "  <div class=\"colab-df-container\">\n",
              "    <button class=\"colab-df-convert\" onclick=\"convertToInteractive('df-6115503f-da9e-400e-ba63-cb1a3fe245a6')\"\n",
              "            title=\"Convert this dataframe to an interactive table.\"\n",
              "            style=\"display:none;\">\n",
              "\n",
              "  <svg xmlns=\"http://www.w3.org/2000/svg\" height=\"24px\" viewBox=\"0 -960 960 960\">\n",
              "    <path d=\"M120-120v-720h720v720H120Zm60-500h600v-160H180v160Zm220 220h160v-160H400v160Zm0 220h160v-160H400v160ZM180-400h160v-160H180v160Zm440 0h160v-160H620v160ZM180-180h160v-160H180v160Zm440 0h160v-160H620v160Z\"/>\n",
              "  </svg>\n",
              "    </button>\n",
              "\n",
              "  <style>\n",
              "    .colab-df-container {\n",
              "      display:flex;\n",
              "      gap: 12px;\n",
              "    }\n",
              "\n",
              "    .colab-df-convert {\n",
              "      background-color: #E8F0FE;\n",
              "      border: none;\n",
              "      border-radius: 50%;\n",
              "      cursor: pointer;\n",
              "      display: none;\n",
              "      fill: #1967D2;\n",
              "      height: 32px;\n",
              "      padding: 0 0 0 0;\n",
              "      width: 32px;\n",
              "    }\n",
              "\n",
              "    .colab-df-convert:hover {\n",
              "      background-color: #E2EBFA;\n",
              "      box-shadow: 0px 1px 2px rgba(60, 64, 67, 0.3), 0px 1px 3px 1px rgba(60, 64, 67, 0.15);\n",
              "      fill: #174EA6;\n",
              "    }\n",
              "\n",
              "    .colab-df-buttons div {\n",
              "      margin-bottom: 4px;\n",
              "    }\n",
              "\n",
              "    [theme=dark] .colab-df-convert {\n",
              "      background-color: #3B4455;\n",
              "      fill: #D2E3FC;\n",
              "    }\n",
              "\n",
              "    [theme=dark] .colab-df-convert:hover {\n",
              "      background-color: #434B5C;\n",
              "      box-shadow: 0px 1px 3px 1px rgba(0, 0, 0, 0.15);\n",
              "      filter: drop-shadow(0px 1px 2px rgba(0, 0, 0, 0.3));\n",
              "      fill: #FFFFFF;\n",
              "    }\n",
              "  </style>\n",
              "\n",
              "    <script>\n",
              "      const buttonEl =\n",
              "        document.querySelector('#df-6115503f-da9e-400e-ba63-cb1a3fe245a6 button.colab-df-convert');\n",
              "      buttonEl.style.display =\n",
              "        google.colab.kernel.accessAllowed ? 'block' : 'none';\n",
              "\n",
              "      async function convertToInteractive(key) {\n",
              "        const element = document.querySelector('#df-6115503f-da9e-400e-ba63-cb1a3fe245a6');\n",
              "        const dataTable =\n",
              "          await google.colab.kernel.invokeFunction('convertToInteractive',\n",
              "                                                    [key], {});\n",
              "        if (!dataTable) return;\n",
              "\n",
              "        const docLinkHtml = 'Like what you see? Visit the ' +\n",
              "          '<a target=\"_blank\" href=https://colab.research.google.com/notebooks/data_table.ipynb>data table notebook</a>'\n",
              "          + ' to learn more about interactive tables.';\n",
              "        element.innerHTML = '';\n",
              "        dataTable['output_type'] = 'display_data';\n",
              "        await google.colab.output.renderOutput(dataTable, element);\n",
              "        const docLink = document.createElement('div');\n",
              "        docLink.innerHTML = docLinkHtml;\n",
              "        element.appendChild(docLink);\n",
              "      }\n",
              "    </script>\n",
              "  </div>\n",
              "\n",
              "\n",
              "<div id=\"df-0f7b1b30-ca58-4e61-9b9e-effa1a9e21a0\">\n",
              "  <button class=\"colab-df-quickchart\" onclick=\"quickchart('df-0f7b1b30-ca58-4e61-9b9e-effa1a9e21a0')\"\n",
              "            title=\"Suggest charts\"\n",
              "            style=\"display:none;\">\n",
              "\n",
              "<svg xmlns=\"http://www.w3.org/2000/svg\" height=\"24px\"viewBox=\"0 0 24 24\"\n",
              "     width=\"24px\">\n",
              "    <g>\n",
              "        <path d=\"M19 3H5c-1.1 0-2 .9-2 2v14c0 1.1.9 2 2 2h14c1.1 0 2-.9 2-2V5c0-1.1-.9-2-2-2zM9 17H7v-7h2v7zm4 0h-2V7h2v10zm4 0h-2v-4h2v4z\"/>\n",
              "    </g>\n",
              "</svg>\n",
              "  </button>\n",
              "\n",
              "<style>\n",
              "  .colab-df-quickchart {\n",
              "      --bg-color: #E8F0FE;\n",
              "      --fill-color: #1967D2;\n",
              "      --hover-bg-color: #E2EBFA;\n",
              "      --hover-fill-color: #174EA6;\n",
              "      --disabled-fill-color: #AAA;\n",
              "      --disabled-bg-color: #DDD;\n",
              "  }\n",
              "\n",
              "  [theme=dark] .colab-df-quickchart {\n",
              "      --bg-color: #3B4455;\n",
              "      --fill-color: #D2E3FC;\n",
              "      --hover-bg-color: #434B5C;\n",
              "      --hover-fill-color: #FFFFFF;\n",
              "      --disabled-bg-color: #3B4455;\n",
              "      --disabled-fill-color: #666;\n",
              "  }\n",
              "\n",
              "  .colab-df-quickchart {\n",
              "    background-color: var(--bg-color);\n",
              "    border: none;\n",
              "    border-radius: 50%;\n",
              "    cursor: pointer;\n",
              "    display: none;\n",
              "    fill: var(--fill-color);\n",
              "    height: 32px;\n",
              "    padding: 0;\n",
              "    width: 32px;\n",
              "  }\n",
              "\n",
              "  .colab-df-quickchart:hover {\n",
              "    background-color: var(--hover-bg-color);\n",
              "    box-shadow: 0 1px 2px rgba(60, 64, 67, 0.3), 0 1px 3px 1px rgba(60, 64, 67, 0.15);\n",
              "    fill: var(--button-hover-fill-color);\n",
              "  }\n",
              "\n",
              "  .colab-df-quickchart-complete:disabled,\n",
              "  .colab-df-quickchart-complete:disabled:hover {\n",
              "    background-color: var(--disabled-bg-color);\n",
              "    fill: var(--disabled-fill-color);\n",
              "    box-shadow: none;\n",
              "  }\n",
              "\n",
              "  .colab-df-spinner {\n",
              "    border: 2px solid var(--fill-color);\n",
              "    border-color: transparent;\n",
              "    border-bottom-color: var(--fill-color);\n",
              "    animation:\n",
              "      spin 1s steps(1) infinite;\n",
              "  }\n",
              "\n",
              "  @keyframes spin {\n",
              "    0% {\n",
              "      border-color: transparent;\n",
              "      border-bottom-color: var(--fill-color);\n",
              "      border-left-color: var(--fill-color);\n",
              "    }\n",
              "    20% {\n",
              "      border-color: transparent;\n",
              "      border-left-color: var(--fill-color);\n",
              "      border-top-color: var(--fill-color);\n",
              "    }\n",
              "    30% {\n",
              "      border-color: transparent;\n",
              "      border-left-color: var(--fill-color);\n",
              "      border-top-color: var(--fill-color);\n",
              "      border-right-color: var(--fill-color);\n",
              "    }\n",
              "    40% {\n",
              "      border-color: transparent;\n",
              "      border-right-color: var(--fill-color);\n",
              "      border-top-color: var(--fill-color);\n",
              "    }\n",
              "    60% {\n",
              "      border-color: transparent;\n",
              "      border-right-color: var(--fill-color);\n",
              "    }\n",
              "    80% {\n",
              "      border-color: transparent;\n",
              "      border-right-color: var(--fill-color);\n",
              "      border-bottom-color: var(--fill-color);\n",
              "    }\n",
              "    90% {\n",
              "      border-color: transparent;\n",
              "      border-bottom-color: var(--fill-color);\n",
              "    }\n",
              "  }\n",
              "</style>\n",
              "\n",
              "  <script>\n",
              "    async function quickchart(key) {\n",
              "      const quickchartButtonEl =\n",
              "        document.querySelector('#' + key + ' button');\n",
              "      quickchartButtonEl.disabled = true;  // To prevent multiple clicks.\n",
              "      quickchartButtonEl.classList.add('colab-df-spinner');\n",
              "      try {\n",
              "        const charts = await google.colab.kernel.invokeFunction(\n",
              "            'suggestCharts', [key], {});\n",
              "      } catch (error) {\n",
              "        console.error('Error during call to suggestCharts:', error);\n",
              "      }\n",
              "      quickchartButtonEl.classList.remove('colab-df-spinner');\n",
              "      quickchartButtonEl.classList.add('colab-df-quickchart-complete');\n",
              "    }\n",
              "    (() => {\n",
              "      let quickchartButtonEl =\n",
              "        document.querySelector('#df-0f7b1b30-ca58-4e61-9b9e-effa1a9e21a0 button');\n",
              "      quickchartButtonEl.style.display =\n",
              "        google.colab.kernel.accessAllowed ? 'block' : 'none';\n",
              "    })();\n",
              "  </script>\n",
              "</div>\n",
              "\n",
              "    </div>\n",
              "  </div>\n"
            ],
            "application/vnd.google.colaboratory.intrinsic+json": {
              "type": "dataframe",
              "summary": "{\n  \"name\": \"display(train_data\",\n  \"rows\": 5,\n  \"fields\": [\n    {\n      \"column\": \"filename\",\n      \"properties\": {\n        \"dtype\": \"string\",\n        \"num_unique_values\": 5,\n        \"samples\": [\n          \"/content/drive/MyDrive/CASE2023_Task4/CASE2023_TASK4_TrainData/subTaskA/No Hate Speech/99882.jpg\",\n          \"/content/drive/MyDrive/CASE2023_Task4/CASE2023_TASK4_TrainData/subTaskA/Hate Speech/99954.jpg\",\n          \"/content/drive/MyDrive/CASE2023_Task4/CASE2023_TASK4_TrainData/subTaskA/Hate Speech/99903.jpg\"\n        ],\n        \"semantic_type\": \"\",\n        \"description\": \"\"\n      }\n    },\n    {\n      \"column\": \"text\",\n      \"properties\": {\n        \"dtype\": \"string\",\n        \"num_unique_values\": 5,\n        \"samples\": [\n          \"Sign in Contribute The. Guardian For 200 years News Opinion Sport Culture Lifestyle World Europe US Americas Asia Australia Russia-Ukraine crisis: Putin orders military operation in Ukraine - video Ukraine Russia invades Ukraine as Putin declares war to 'demilitarise' neighbour More Russia appeared to be targeting military infrastructure in early strikes with explosions reported at airfields, military headquarters and military warehouses\",\n          \"news24 Breaking News. First BREAKING: Vladamir Putin has issued statements warning ANC government to desist from meddling their nose on the Russian affairs. He went further said\\\" ANC regime must know that, the war is meant for soldiers not criminals looting from the poor.\",\n          \"8:05 7 Dmytro Yarosh poses with Ukraine's Commander- in-Chief of the Armed Forces A month later, as war with Russia drew closer, Zelensky awarded Right Sector commander Dmytro Kotsyubaylo the \\\"Hero of Ukraine\\\" commendation. Known as \\\"Da Vinci,\\\" Kosyubaylo keeps a pet wolf in his frontline base, and likes to joke to visiting reporters that his fighters \\\"feed it the bones of Russian- speaking children.\\\" thegrayzone.com\"\n        ],\n        \"semantic_type\": \"\",\n        \"description\": \"\"\n      }\n    },\n    {\n      \"column\": \"Label\",\n      \"properties\": {\n        \"dtype\": \"category\",\n        \"num_unique_values\": 2,\n        \"samples\": [\n          \"non-hate\",\n          \"hate\"\n        ],\n        \"semantic_type\": \"\",\n        \"description\": \"\"\n      }\n    },\n    {\n      \"column\": \"enc_label\",\n      \"properties\": {\n        \"dtype\": \"number\",\n        \"std\": 0,\n        \"min\": 0,\n        \"max\": 1,\n        \"num_unique_values\": 2,\n        \"samples\": [\n          1,\n          0\n        ],\n        \"semantic_type\": \"\",\n        \"description\": \"\"\n      }\n    },\n    {\n      \"column\": \"imgname\",\n      \"properties\": {\n        \"dtype\": \"number\",\n        \"std\": 32,\n        \"min\": 99874,\n        \"max\": 99954,\n        \"num_unique_values\": 5,\n        \"samples\": [\n          99882,\n          99954\n        ],\n        \"semantic_type\": \"\",\n        \"description\": \"\"\n      }\n    }\n  ]\n}"
            }
          },
          "metadata": {}
        }
      ],
      "source": [
        "#train_data = pd.concat([train_data_nonhate,train_data_hate],ignore_index=True)\n",
        "display(train_data.head(5))\n",
        "display(train_data.tail(5))"
      ]
    },
    {
      "cell_type": "code",
      "execution_count": null,
      "metadata": {
        "colab": {
          "base_uri": "https://localhost:8080/",
          "height": 206
        },
        "outputId": "a0718d8d-f96f-496e-d37e-481440cb951c",
        "id": "rSjiXimUaS6V"
      },
      "outputs": [
        {
          "output_type": "display_data",
          "data": {
            "text/plain": [
              "                                            filename  \\\n",
              "0  /content/drive/MyDrive/CASE2023_Task4/CASE2023...   \n",
              "1  /content/drive/MyDrive/CASE2023_Task4/CASE2023...   \n",
              "2  /content/drive/MyDrive/CASE2023_Task4/CASE2023...   \n",
              "3  /content/drive/MyDrive/CASE2023_Task4/CASE2023...   \n",
              "4  /content/drive/MyDrive/CASE2023_Task4/CASE2023...   \n",
              "\n",
              "                                                text     Label  enc_label  \\\n",
              "0  Brian Lilley @brianlilley. 21h It's time for C...  non-hate          0   \n",
              "1  19:40 3 gab TeoAnon17 @Teoquanon 22m ANONS Mil...  non-hate          0   \n",
              "2  pulse sports Babatunde Koiki @Babatu... Dear @...      hate          1   \n",
              "3  Near Belgorod, Russia 12:36 AM BREAKING NEWS U...  non-hate          0   \n",
              "4  Russia destroys Chernobyl nuclear plant lab th...  non-hate          0   \n",
              "\n",
              "   imgname  \n",
              "0    10008  \n",
              "1    10032  \n",
              "2    10041  \n",
              "3    10139  \n",
              "4    10146  "
            ],
            "text/html": [
              "\n",
              "  <div id=\"df-fd3491a2-7a2c-43f3-90bc-27013533b604\" class=\"colab-df-container\">\n",
              "    <div>\n",
              "<style scoped>\n",
              "    .dataframe tbody tr th:only-of-type {\n",
              "        vertical-align: middle;\n",
              "    }\n",
              "\n",
              "    .dataframe tbody tr th {\n",
              "        vertical-align: top;\n",
              "    }\n",
              "\n",
              "    .dataframe thead th {\n",
              "        text-align: right;\n",
              "    }\n",
              "</style>\n",
              "<table border=\"1\" class=\"dataframe\">\n",
              "  <thead>\n",
              "    <tr style=\"text-align: right;\">\n",
              "      <th></th>\n",
              "      <th>filename</th>\n",
              "      <th>text</th>\n",
              "      <th>Label</th>\n",
              "      <th>enc_label</th>\n",
              "      <th>imgname</th>\n",
              "    </tr>\n",
              "  </thead>\n",
              "  <tbody>\n",
              "    <tr>\n",
              "      <th>0</th>\n",
              "      <td>/content/drive/MyDrive/CASE2023_Task4/CASE2023...</td>\n",
              "      <td>Brian Lilley @brianlilley. 21h It's time for C...</td>\n",
              "      <td>non-hate</td>\n",
              "      <td>0</td>\n",
              "      <td>10008</td>\n",
              "    </tr>\n",
              "    <tr>\n",
              "      <th>1</th>\n",
              "      <td>/content/drive/MyDrive/CASE2023_Task4/CASE2023...</td>\n",
              "      <td>19:40 3 gab TeoAnon17 @Teoquanon 22m ANONS Mil...</td>\n",
              "      <td>non-hate</td>\n",
              "      <td>0</td>\n",
              "      <td>10032</td>\n",
              "    </tr>\n",
              "    <tr>\n",
              "      <th>2</th>\n",
              "      <td>/content/drive/MyDrive/CASE2023_Task4/CASE2023...</td>\n",
              "      <td>pulse sports Babatunde Koiki @Babatu... Dear @...</td>\n",
              "      <td>hate</td>\n",
              "      <td>1</td>\n",
              "      <td>10041</td>\n",
              "    </tr>\n",
              "    <tr>\n",
              "      <th>3</th>\n",
              "      <td>/content/drive/MyDrive/CASE2023_Task4/CASE2023...</td>\n",
              "      <td>Near Belgorod, Russia 12:36 AM BREAKING NEWS U...</td>\n",
              "      <td>non-hate</td>\n",
              "      <td>0</td>\n",
              "      <td>10139</td>\n",
              "    </tr>\n",
              "    <tr>\n",
              "      <th>4</th>\n",
              "      <td>/content/drive/MyDrive/CASE2023_Task4/CASE2023...</td>\n",
              "      <td>Russia destroys Chernobyl nuclear plant lab th...</td>\n",
              "      <td>non-hate</td>\n",
              "      <td>0</td>\n",
              "      <td>10146</td>\n",
              "    </tr>\n",
              "  </tbody>\n",
              "</table>\n",
              "</div>\n",
              "    <div class=\"colab-df-buttons\">\n",
              "\n",
              "  <div class=\"colab-df-container\">\n",
              "    <button class=\"colab-df-convert\" onclick=\"convertToInteractive('df-fd3491a2-7a2c-43f3-90bc-27013533b604')\"\n",
              "            title=\"Convert this dataframe to an interactive table.\"\n",
              "            style=\"display:none;\">\n",
              "\n",
              "  <svg xmlns=\"http://www.w3.org/2000/svg\" height=\"24px\" viewBox=\"0 -960 960 960\">\n",
              "    <path d=\"M120-120v-720h720v720H120Zm60-500h600v-160H180v160Zm220 220h160v-160H400v160Zm0 220h160v-160H400v160ZM180-400h160v-160H180v160Zm440 0h160v-160H620v160ZM180-180h160v-160H180v160Zm440 0h160v-160H620v160Z\"/>\n",
              "  </svg>\n",
              "    </button>\n",
              "\n",
              "  <style>\n",
              "    .colab-df-container {\n",
              "      display:flex;\n",
              "      gap: 12px;\n",
              "    }\n",
              "\n",
              "    .colab-df-convert {\n",
              "      background-color: #E8F0FE;\n",
              "      border: none;\n",
              "      border-radius: 50%;\n",
              "      cursor: pointer;\n",
              "      display: none;\n",
              "      fill: #1967D2;\n",
              "      height: 32px;\n",
              "      padding: 0 0 0 0;\n",
              "      width: 32px;\n",
              "    }\n",
              "\n",
              "    .colab-df-convert:hover {\n",
              "      background-color: #E2EBFA;\n",
              "      box-shadow: 0px 1px 2px rgba(60, 64, 67, 0.3), 0px 1px 3px 1px rgba(60, 64, 67, 0.15);\n",
              "      fill: #174EA6;\n",
              "    }\n",
              "\n",
              "    .colab-df-buttons div {\n",
              "      margin-bottom: 4px;\n",
              "    }\n",
              "\n",
              "    [theme=dark] .colab-df-convert {\n",
              "      background-color: #3B4455;\n",
              "      fill: #D2E3FC;\n",
              "    }\n",
              "\n",
              "    [theme=dark] .colab-df-convert:hover {\n",
              "      background-color: #434B5C;\n",
              "      box-shadow: 0px 1px 3px 1px rgba(0, 0, 0, 0.15);\n",
              "      filter: drop-shadow(0px 1px 2px rgba(0, 0, 0, 0.3));\n",
              "      fill: #FFFFFF;\n",
              "    }\n",
              "  </style>\n",
              "\n",
              "    <script>\n",
              "      const buttonEl =\n",
              "        document.querySelector('#df-fd3491a2-7a2c-43f3-90bc-27013533b604 button.colab-df-convert');\n",
              "      buttonEl.style.display =\n",
              "        google.colab.kernel.accessAllowed ? 'block' : 'none';\n",
              "\n",
              "      async function convertToInteractive(key) {\n",
              "        const element = document.querySelector('#df-fd3491a2-7a2c-43f3-90bc-27013533b604');\n",
              "        const dataTable =\n",
              "          await google.colab.kernel.invokeFunction('convertToInteractive',\n",
              "                                                    [key], {});\n",
              "        if (!dataTable) return;\n",
              "\n",
              "        const docLinkHtml = 'Like what you see? Visit the ' +\n",
              "          '<a target=\"_blank\" href=https://colab.research.google.com/notebooks/data_table.ipynb>data table notebook</a>'\n",
              "          + ' to learn more about interactive tables.';\n",
              "        element.innerHTML = '';\n",
              "        dataTable['output_type'] = 'display_data';\n",
              "        await google.colab.output.renderOutput(dataTable, element);\n",
              "        const docLink = document.createElement('div');\n",
              "        docLink.innerHTML = docLinkHtml;\n",
              "        element.appendChild(docLink);\n",
              "      }\n",
              "    </script>\n",
              "  </div>\n",
              "\n",
              "\n",
              "<div id=\"df-91c09fbd-7d9b-4924-80c6-9c2f260ae7fa\">\n",
              "  <button class=\"colab-df-quickchart\" onclick=\"quickchart('df-91c09fbd-7d9b-4924-80c6-9c2f260ae7fa')\"\n",
              "            title=\"Suggest charts\"\n",
              "            style=\"display:none;\">\n",
              "\n",
              "<svg xmlns=\"http://www.w3.org/2000/svg\" height=\"24px\"viewBox=\"0 0 24 24\"\n",
              "     width=\"24px\">\n",
              "    <g>\n",
              "        <path d=\"M19 3H5c-1.1 0-2 .9-2 2v14c0 1.1.9 2 2 2h14c1.1 0 2-.9 2-2V5c0-1.1-.9-2-2-2zM9 17H7v-7h2v7zm4 0h-2V7h2v10zm4 0h-2v-4h2v4z\"/>\n",
              "    </g>\n",
              "</svg>\n",
              "  </button>\n",
              "\n",
              "<style>\n",
              "  .colab-df-quickchart {\n",
              "      --bg-color: #E8F0FE;\n",
              "      --fill-color: #1967D2;\n",
              "      --hover-bg-color: #E2EBFA;\n",
              "      --hover-fill-color: #174EA6;\n",
              "      --disabled-fill-color: #AAA;\n",
              "      --disabled-bg-color: #DDD;\n",
              "  }\n",
              "\n",
              "  [theme=dark] .colab-df-quickchart {\n",
              "      --bg-color: #3B4455;\n",
              "      --fill-color: #D2E3FC;\n",
              "      --hover-bg-color: #434B5C;\n",
              "      --hover-fill-color: #FFFFFF;\n",
              "      --disabled-bg-color: #3B4455;\n",
              "      --disabled-fill-color: #666;\n",
              "  }\n",
              "\n",
              "  .colab-df-quickchart {\n",
              "    background-color: var(--bg-color);\n",
              "    border: none;\n",
              "    border-radius: 50%;\n",
              "    cursor: pointer;\n",
              "    display: none;\n",
              "    fill: var(--fill-color);\n",
              "    height: 32px;\n",
              "    padding: 0;\n",
              "    width: 32px;\n",
              "  }\n",
              "\n",
              "  .colab-df-quickchart:hover {\n",
              "    background-color: var(--hover-bg-color);\n",
              "    box-shadow: 0 1px 2px rgba(60, 64, 67, 0.3), 0 1px 3px 1px rgba(60, 64, 67, 0.15);\n",
              "    fill: var(--button-hover-fill-color);\n",
              "  }\n",
              "\n",
              "  .colab-df-quickchart-complete:disabled,\n",
              "  .colab-df-quickchart-complete:disabled:hover {\n",
              "    background-color: var(--disabled-bg-color);\n",
              "    fill: var(--disabled-fill-color);\n",
              "    box-shadow: none;\n",
              "  }\n",
              "\n",
              "  .colab-df-spinner {\n",
              "    border: 2px solid var(--fill-color);\n",
              "    border-color: transparent;\n",
              "    border-bottom-color: var(--fill-color);\n",
              "    animation:\n",
              "      spin 1s steps(1) infinite;\n",
              "  }\n",
              "\n",
              "  @keyframes spin {\n",
              "    0% {\n",
              "      border-color: transparent;\n",
              "      border-bottom-color: var(--fill-color);\n",
              "      border-left-color: var(--fill-color);\n",
              "    }\n",
              "    20% {\n",
              "      border-color: transparent;\n",
              "      border-left-color: var(--fill-color);\n",
              "      border-top-color: var(--fill-color);\n",
              "    }\n",
              "    30% {\n",
              "      border-color: transparent;\n",
              "      border-left-color: var(--fill-color);\n",
              "      border-top-color: var(--fill-color);\n",
              "      border-right-color: var(--fill-color);\n",
              "    }\n",
              "    40% {\n",
              "      border-color: transparent;\n",
              "      border-right-color: var(--fill-color);\n",
              "      border-top-color: var(--fill-color);\n",
              "    }\n",
              "    60% {\n",
              "      border-color: transparent;\n",
              "      border-right-color: var(--fill-color);\n",
              "    }\n",
              "    80% {\n",
              "      border-color: transparent;\n",
              "      border-right-color: var(--fill-color);\n",
              "      border-bottom-color: var(--fill-color);\n",
              "    }\n",
              "    90% {\n",
              "      border-color: transparent;\n",
              "      border-bottom-color: var(--fill-color);\n",
              "    }\n",
              "  }\n",
              "</style>\n",
              "\n",
              "  <script>\n",
              "    async function quickchart(key) {\n",
              "      const quickchartButtonEl =\n",
              "        document.querySelector('#' + key + ' button');\n",
              "      quickchartButtonEl.disabled = true;  // To prevent multiple clicks.\n",
              "      quickchartButtonEl.classList.add('colab-df-spinner');\n",
              "      try {\n",
              "        const charts = await google.colab.kernel.invokeFunction(\n",
              "            'suggestCharts', [key], {});\n",
              "      } catch (error) {\n",
              "        console.error('Error during call to suggestCharts:', error);\n",
              "      }\n",
              "      quickchartButtonEl.classList.remove('colab-df-spinner');\n",
              "      quickchartButtonEl.classList.add('colab-df-quickchart-complete');\n",
              "    }\n",
              "    (() => {\n",
              "      let quickchartButtonEl =\n",
              "        document.querySelector('#df-91c09fbd-7d9b-4924-80c6-9c2f260ae7fa button');\n",
              "      quickchartButtonEl.style.display =\n",
              "        google.colab.kernel.accessAllowed ? 'block' : 'none';\n",
              "    })();\n",
              "  </script>\n",
              "</div>\n",
              "\n",
              "    </div>\n",
              "  </div>\n"
            ]
          },
          "metadata": {}
        }
      ],
      "source": [
        "train_data['enc_label'] = train_data['Label'].replace({'hate':1,'non-hate':0})\n",
        "display(train_data.head(5))"
      ]
    },
    {
      "cell_type": "code",
      "execution_count": null,
      "metadata": {
        "id": "USwnUrgZJIYo"
      },
      "outputs": [],
      "source": [
        "#train_data.to_csv('trainstA_combined.csv', index=False)\n",
        "#dev_data.to_csv('devstA.csv', index=False)\n",
        "#train_data.to_csv('teststA.csv', index=False)"
      ]
    },
    {
      "cell_type": "code",
      "execution_count": null,
      "metadata": {
        "colab": {
          "base_uri": "https://localhost:8080/",
          "height": 206
        },
        "outputId": "48849f7c-a666-493b-ca39-002ea74b4a5b",
        "id": "oQ8C_XM7aS6V"
      },
      "outputs": [
        {
          "output_type": "execute_result",
          "data": {
            "text/plain": [
              "                                            filename  \\\n",
              "0  /content/drive/MyDrive/CASE2023_Task4/CASE2023...   \n",
              "1  /content/drive/MyDrive/CASE2023_Task4/CASE2023...   \n",
              "2  /content/drive/MyDrive/CASE2023_Task4/CASE2023...   \n",
              "3  /content/drive/MyDrive/CASE2023_Task4/CASE2023...   \n",
              "4  /content/drive/MyDrive/CASE2023_Task4/CASE2023...   \n",
              "\n",
              "                                                text  \n",
              "0    When you keep all the good rations for yourself  \n",
              "1  Media 9:28 1 Tucker Carlson, downplaying Russi...  \n",
              "2  Andreeva Bay nuclear waste storage Bolshaya Lo...  \n",
              "3  So many electricians in the Ukraine but no ele...  \n",
              "4  Daily Mail MORE STORIES Q Russia has fired 'ab...  "
            ],
            "text/html": [
              "\n",
              "  <div id=\"df-fd571126-86ca-4216-a37a-2997545f42a5\" class=\"colab-df-container\">\n",
              "    <div>\n",
              "<style scoped>\n",
              "    .dataframe tbody tr th:only-of-type {\n",
              "        vertical-align: middle;\n",
              "    }\n",
              "\n",
              "    .dataframe tbody tr th {\n",
              "        vertical-align: top;\n",
              "    }\n",
              "\n",
              "    .dataframe thead th {\n",
              "        text-align: right;\n",
              "    }\n",
              "</style>\n",
              "<table border=\"1\" class=\"dataframe\">\n",
              "  <thead>\n",
              "    <tr style=\"text-align: right;\">\n",
              "      <th></th>\n",
              "      <th>filename</th>\n",
              "      <th>text</th>\n",
              "    </tr>\n",
              "  </thead>\n",
              "  <tbody>\n",
              "    <tr>\n",
              "      <th>0</th>\n",
              "      <td>/content/drive/MyDrive/CASE2023_Task4/CASE2023...</td>\n",
              "      <td>When you keep all the good rations for yourself</td>\n",
              "    </tr>\n",
              "    <tr>\n",
              "      <th>1</th>\n",
              "      <td>/content/drive/MyDrive/CASE2023_Task4/CASE2023...</td>\n",
              "      <td>Media 9:28 1 Tucker Carlson, downplaying Russi...</td>\n",
              "    </tr>\n",
              "    <tr>\n",
              "      <th>2</th>\n",
              "      <td>/content/drive/MyDrive/CASE2023_Task4/CASE2023...</td>\n",
              "      <td>Andreeva Bay nuclear waste storage Bolshaya Lo...</td>\n",
              "    </tr>\n",
              "    <tr>\n",
              "      <th>3</th>\n",
              "      <td>/content/drive/MyDrive/CASE2023_Task4/CASE2023...</td>\n",
              "      <td>So many electricians in the Ukraine but no ele...</td>\n",
              "    </tr>\n",
              "    <tr>\n",
              "      <th>4</th>\n",
              "      <td>/content/drive/MyDrive/CASE2023_Task4/CASE2023...</td>\n",
              "      <td>Daily Mail MORE STORIES Q Russia has fired 'ab...</td>\n",
              "    </tr>\n",
              "  </tbody>\n",
              "</table>\n",
              "</div>\n",
              "    <div class=\"colab-df-buttons\">\n",
              "\n",
              "  <div class=\"colab-df-container\">\n",
              "    <button class=\"colab-df-convert\" onclick=\"convertToInteractive('df-fd571126-86ca-4216-a37a-2997545f42a5')\"\n",
              "            title=\"Convert this dataframe to an interactive table.\"\n",
              "            style=\"display:none;\">\n",
              "\n",
              "  <svg xmlns=\"http://www.w3.org/2000/svg\" height=\"24px\" viewBox=\"0 -960 960 960\">\n",
              "    <path d=\"M120-120v-720h720v720H120Zm60-500h600v-160H180v160Zm220 220h160v-160H400v160Zm0 220h160v-160H400v160ZM180-400h160v-160H180v160Zm440 0h160v-160H620v160ZM180-180h160v-160H180v160Zm440 0h160v-160H620v160Z\"/>\n",
              "  </svg>\n",
              "    </button>\n",
              "\n",
              "  <style>\n",
              "    .colab-df-container {\n",
              "      display:flex;\n",
              "      gap: 12px;\n",
              "    }\n",
              "\n",
              "    .colab-df-convert {\n",
              "      background-color: #E8F0FE;\n",
              "      border: none;\n",
              "      border-radius: 50%;\n",
              "      cursor: pointer;\n",
              "      display: none;\n",
              "      fill: #1967D2;\n",
              "      height: 32px;\n",
              "      padding: 0 0 0 0;\n",
              "      width: 32px;\n",
              "    }\n",
              "\n",
              "    .colab-df-convert:hover {\n",
              "      background-color: #E2EBFA;\n",
              "      box-shadow: 0px 1px 2px rgba(60, 64, 67, 0.3), 0px 1px 3px 1px rgba(60, 64, 67, 0.15);\n",
              "      fill: #174EA6;\n",
              "    }\n",
              "\n",
              "    .colab-df-buttons div {\n",
              "      margin-bottom: 4px;\n",
              "    }\n",
              "\n",
              "    [theme=dark] .colab-df-convert {\n",
              "      background-color: #3B4455;\n",
              "      fill: #D2E3FC;\n",
              "    }\n",
              "\n",
              "    [theme=dark] .colab-df-convert:hover {\n",
              "      background-color: #434B5C;\n",
              "      box-shadow: 0px 1px 3px 1px rgba(0, 0, 0, 0.15);\n",
              "      filter: drop-shadow(0px 1px 2px rgba(0, 0, 0, 0.3));\n",
              "      fill: #FFFFFF;\n",
              "    }\n",
              "  </style>\n",
              "\n",
              "    <script>\n",
              "      const buttonEl =\n",
              "        document.querySelector('#df-fd571126-86ca-4216-a37a-2997545f42a5 button.colab-df-convert');\n",
              "      buttonEl.style.display =\n",
              "        google.colab.kernel.accessAllowed ? 'block' : 'none';\n",
              "\n",
              "      async function convertToInteractive(key) {\n",
              "        const element = document.querySelector('#df-fd571126-86ca-4216-a37a-2997545f42a5');\n",
              "        const dataTable =\n",
              "          await google.colab.kernel.invokeFunction('convertToInteractive',\n",
              "                                                    [key], {});\n",
              "        if (!dataTable) return;\n",
              "\n",
              "        const docLinkHtml = 'Like what you see? Visit the ' +\n",
              "          '<a target=\"_blank\" href=https://colab.research.google.com/notebooks/data_table.ipynb>data table notebook</a>'\n",
              "          + ' to learn more about interactive tables.';\n",
              "        element.innerHTML = '';\n",
              "        dataTable['output_type'] = 'display_data';\n",
              "        await google.colab.output.renderOutput(dataTable, element);\n",
              "        const docLink = document.createElement('div');\n",
              "        docLink.innerHTML = docLinkHtml;\n",
              "        element.appendChild(docLink);\n",
              "      }\n",
              "    </script>\n",
              "  </div>\n",
              "\n",
              "\n",
              "<div id=\"df-cdc59ebf-ea20-4b39-b3db-b9363fc85e74\">\n",
              "  <button class=\"colab-df-quickchart\" onclick=\"quickchart('df-cdc59ebf-ea20-4b39-b3db-b9363fc85e74')\"\n",
              "            title=\"Suggest charts\"\n",
              "            style=\"display:none;\">\n",
              "\n",
              "<svg xmlns=\"http://www.w3.org/2000/svg\" height=\"24px\"viewBox=\"0 0 24 24\"\n",
              "     width=\"24px\">\n",
              "    <g>\n",
              "        <path d=\"M19 3H5c-1.1 0-2 .9-2 2v14c0 1.1.9 2 2 2h14c1.1 0 2-.9 2-2V5c0-1.1-.9-2-2-2zM9 17H7v-7h2v7zm4 0h-2V7h2v10zm4 0h-2v-4h2v4z\"/>\n",
              "    </g>\n",
              "</svg>\n",
              "  </button>\n",
              "\n",
              "<style>\n",
              "  .colab-df-quickchart {\n",
              "      --bg-color: #E8F0FE;\n",
              "      --fill-color: #1967D2;\n",
              "      --hover-bg-color: #E2EBFA;\n",
              "      --hover-fill-color: #174EA6;\n",
              "      --disabled-fill-color: #AAA;\n",
              "      --disabled-bg-color: #DDD;\n",
              "  }\n",
              "\n",
              "  [theme=dark] .colab-df-quickchart {\n",
              "      --bg-color: #3B4455;\n",
              "      --fill-color: #D2E3FC;\n",
              "      --hover-bg-color: #434B5C;\n",
              "      --hover-fill-color: #FFFFFF;\n",
              "      --disabled-bg-color: #3B4455;\n",
              "      --disabled-fill-color: #666;\n",
              "  }\n",
              "\n",
              "  .colab-df-quickchart {\n",
              "    background-color: var(--bg-color);\n",
              "    border: none;\n",
              "    border-radius: 50%;\n",
              "    cursor: pointer;\n",
              "    display: none;\n",
              "    fill: var(--fill-color);\n",
              "    height: 32px;\n",
              "    padding: 0;\n",
              "    width: 32px;\n",
              "  }\n",
              "\n",
              "  .colab-df-quickchart:hover {\n",
              "    background-color: var(--hover-bg-color);\n",
              "    box-shadow: 0 1px 2px rgba(60, 64, 67, 0.3), 0 1px 3px 1px rgba(60, 64, 67, 0.15);\n",
              "    fill: var(--button-hover-fill-color);\n",
              "  }\n",
              "\n",
              "  .colab-df-quickchart-complete:disabled,\n",
              "  .colab-df-quickchart-complete:disabled:hover {\n",
              "    background-color: var(--disabled-bg-color);\n",
              "    fill: var(--disabled-fill-color);\n",
              "    box-shadow: none;\n",
              "  }\n",
              "\n",
              "  .colab-df-spinner {\n",
              "    border: 2px solid var(--fill-color);\n",
              "    border-color: transparent;\n",
              "    border-bottom-color: var(--fill-color);\n",
              "    animation:\n",
              "      spin 1s steps(1) infinite;\n",
              "  }\n",
              "\n",
              "  @keyframes spin {\n",
              "    0% {\n",
              "      border-color: transparent;\n",
              "      border-bottom-color: var(--fill-color);\n",
              "      border-left-color: var(--fill-color);\n",
              "    }\n",
              "    20% {\n",
              "      border-color: transparent;\n",
              "      border-left-color: var(--fill-color);\n",
              "      border-top-color: var(--fill-color);\n",
              "    }\n",
              "    30% {\n",
              "      border-color: transparent;\n",
              "      border-left-color: var(--fill-color);\n",
              "      border-top-color: var(--fill-color);\n",
              "      border-right-color: var(--fill-color);\n",
              "    }\n",
              "    40% {\n",
              "      border-color: transparent;\n",
              "      border-right-color: var(--fill-color);\n",
              "      border-top-color: var(--fill-color);\n",
              "    }\n",
              "    60% {\n",
              "      border-color: transparent;\n",
              "      border-right-color: var(--fill-color);\n",
              "    }\n",
              "    80% {\n",
              "      border-color: transparent;\n",
              "      border-right-color: var(--fill-color);\n",
              "      border-bottom-color: var(--fill-color);\n",
              "    }\n",
              "    90% {\n",
              "      border-color: transparent;\n",
              "      border-bottom-color: var(--fill-color);\n",
              "    }\n",
              "  }\n",
              "</style>\n",
              "\n",
              "  <script>\n",
              "    async function quickchart(key) {\n",
              "      const quickchartButtonEl =\n",
              "        document.querySelector('#' + key + ' button');\n",
              "      quickchartButtonEl.disabled = true;  // To prevent multiple clicks.\n",
              "      quickchartButtonEl.classList.add('colab-df-spinner');\n",
              "      try {\n",
              "        const charts = await google.colab.kernel.invokeFunction(\n",
              "            'suggestCharts', [key], {});\n",
              "      } catch (error) {\n",
              "        console.error('Error during call to suggestCharts:', error);\n",
              "      }\n",
              "      quickchartButtonEl.classList.remove('colab-df-spinner');\n",
              "      quickchartButtonEl.classList.add('colab-df-quickchart-complete');\n",
              "    }\n",
              "    (() => {\n",
              "      let quickchartButtonEl =\n",
              "        document.querySelector('#df-cdc59ebf-ea20-4b39-b3db-b9363fc85e74 button');\n",
              "      quickchartButtonEl.style.display =\n",
              "        google.colab.kernel.accessAllowed ? 'block' : 'none';\n",
              "    })();\n",
              "  </script>\n",
              "</div>\n",
              "\n",
              "    </div>\n",
              "  </div>\n"
            ]
          },
          "metadata": {},
          "execution_count": 12
        }
      ],
      "source": [
        "test_data.head(5)"
      ]
    },
    {
      "cell_type": "code",
      "execution_count": null,
      "metadata": {
        "id": "UOnWrmNDaS6V"
      },
      "outputs": [],
      "source": [
        "#dev_data_labels.head(5)"
      ]
    },
    {
      "cell_type": "code",
      "execution_count": null,
      "metadata": {
        "colab": {
          "base_uri": "https://localhost:8080/",
          "height": 206
        },
        "outputId": "ce84a770-e760-4842-a42b-b8be45eb60f8",
        "id": "4dAyngzsaS6W"
      },
      "outputs": [
        {
          "output_type": "display_data",
          "data": {
            "text/plain": [
              "                                            filename  \\\n",
              "0  /content/drive/MyDrive/CASE2023_Task4/CASE2023...   \n",
              "1  /content/drive/MyDrive/CASE2023_Task4/CASE2023...   \n",
              "2  /content/drive/MyDrive/CASE2023_Task4/CASE2023...   \n",
              "3  /content/drive/MyDrive/CASE2023_Task4/CASE2023...   \n",
              "4  /content/drive/MyDrive/CASE2023_Task4/CASE2023...   \n",
              "\n",
              "                                                text  enc_label  \n",
              "0  TRUTH BY TEXAS 2019 REPUBLICAN PRESIDENT DONAL...          1  \n",
              "1  Putin stressing tf out after hearing that some...          1  \n",
              "2  Ip Interference in Ukraine move would lead to ...          0  \n",
              "3  9:32 Carolina Forward Thread @ForwardCarolina ...          0  \n",
              "4  THAT'S NOT WHAT 'FUCK PUTIN' MEANS! SEE? EVERY...          1  "
            ],
            "text/html": [
              "\n",
              "  <div id=\"df-74fa73d7-f713-49f2-9961-94e33ee0c452\" class=\"colab-df-container\">\n",
              "    <div>\n",
              "<style scoped>\n",
              "    .dataframe tbody tr th:only-of-type {\n",
              "        vertical-align: middle;\n",
              "    }\n",
              "\n",
              "    .dataframe tbody tr th {\n",
              "        vertical-align: top;\n",
              "    }\n",
              "\n",
              "    .dataframe thead th {\n",
              "        text-align: right;\n",
              "    }\n",
              "</style>\n",
              "<table border=\"1\" class=\"dataframe\">\n",
              "  <thead>\n",
              "    <tr style=\"text-align: right;\">\n",
              "      <th></th>\n",
              "      <th>filename</th>\n",
              "      <th>text</th>\n",
              "      <th>enc_label</th>\n",
              "    </tr>\n",
              "  </thead>\n",
              "  <tbody>\n",
              "    <tr>\n",
              "      <th>0</th>\n",
              "      <td>/content/drive/MyDrive/CASE2023_Task4/CASE2023...</td>\n",
              "      <td>TRUTH BY TEXAS 2019 REPUBLICAN PRESIDENT DONAL...</td>\n",
              "      <td>1</td>\n",
              "    </tr>\n",
              "    <tr>\n",
              "      <th>1</th>\n",
              "      <td>/content/drive/MyDrive/CASE2023_Task4/CASE2023...</td>\n",
              "      <td>Putin stressing tf out after hearing that some...</td>\n",
              "      <td>1</td>\n",
              "    </tr>\n",
              "    <tr>\n",
              "      <th>2</th>\n",
              "      <td>/content/drive/MyDrive/CASE2023_Task4/CASE2023...</td>\n",
              "      <td>Ip Interference in Ukraine move would lead to ...</td>\n",
              "      <td>0</td>\n",
              "    </tr>\n",
              "    <tr>\n",
              "      <th>3</th>\n",
              "      <td>/content/drive/MyDrive/CASE2023_Task4/CASE2023...</td>\n",
              "      <td>9:32 Carolina Forward Thread @ForwardCarolina ...</td>\n",
              "      <td>0</td>\n",
              "    </tr>\n",
              "    <tr>\n",
              "      <th>4</th>\n",
              "      <td>/content/drive/MyDrive/CASE2023_Task4/CASE2023...</td>\n",
              "      <td>THAT'S NOT WHAT 'FUCK PUTIN' MEANS! SEE? EVERY...</td>\n",
              "      <td>1</td>\n",
              "    </tr>\n",
              "  </tbody>\n",
              "</table>\n",
              "</div>\n",
              "    <div class=\"colab-df-buttons\">\n",
              "\n",
              "  <div class=\"colab-df-container\">\n",
              "    <button class=\"colab-df-convert\" onclick=\"convertToInteractive('df-74fa73d7-f713-49f2-9961-94e33ee0c452')\"\n",
              "            title=\"Convert this dataframe to an interactive table.\"\n",
              "            style=\"display:none;\">\n",
              "\n",
              "  <svg xmlns=\"http://www.w3.org/2000/svg\" height=\"24px\" viewBox=\"0 -960 960 960\">\n",
              "    <path d=\"M120-120v-720h720v720H120Zm60-500h600v-160H180v160Zm220 220h160v-160H400v160Zm0 220h160v-160H400v160ZM180-400h160v-160H180v160Zm440 0h160v-160H620v160ZM180-180h160v-160H180v160Zm440 0h160v-160H620v160Z\"/>\n",
              "  </svg>\n",
              "    </button>\n",
              "\n",
              "  <style>\n",
              "    .colab-df-container {\n",
              "      display:flex;\n",
              "      gap: 12px;\n",
              "    }\n",
              "\n",
              "    .colab-df-convert {\n",
              "      background-color: #E8F0FE;\n",
              "      border: none;\n",
              "      border-radius: 50%;\n",
              "      cursor: pointer;\n",
              "      display: none;\n",
              "      fill: #1967D2;\n",
              "      height: 32px;\n",
              "      padding: 0 0 0 0;\n",
              "      width: 32px;\n",
              "    }\n",
              "\n",
              "    .colab-df-convert:hover {\n",
              "      background-color: #E2EBFA;\n",
              "      box-shadow: 0px 1px 2px rgba(60, 64, 67, 0.3), 0px 1px 3px 1px rgba(60, 64, 67, 0.15);\n",
              "      fill: #174EA6;\n",
              "    }\n",
              "\n",
              "    .colab-df-buttons div {\n",
              "      margin-bottom: 4px;\n",
              "    }\n",
              "\n",
              "    [theme=dark] .colab-df-convert {\n",
              "      background-color: #3B4455;\n",
              "      fill: #D2E3FC;\n",
              "    }\n",
              "\n",
              "    [theme=dark] .colab-df-convert:hover {\n",
              "      background-color: #434B5C;\n",
              "      box-shadow: 0px 1px 3px 1px rgba(0, 0, 0, 0.15);\n",
              "      filter: drop-shadow(0px 1px 2px rgba(0, 0, 0, 0.3));\n",
              "      fill: #FFFFFF;\n",
              "    }\n",
              "  </style>\n",
              "\n",
              "    <script>\n",
              "      const buttonEl =\n",
              "        document.querySelector('#df-74fa73d7-f713-49f2-9961-94e33ee0c452 button.colab-df-convert');\n",
              "      buttonEl.style.display =\n",
              "        google.colab.kernel.accessAllowed ? 'block' : 'none';\n",
              "\n",
              "      async function convertToInteractive(key) {\n",
              "        const element = document.querySelector('#df-74fa73d7-f713-49f2-9961-94e33ee0c452');\n",
              "        const dataTable =\n",
              "          await google.colab.kernel.invokeFunction('convertToInteractive',\n",
              "                                                    [key], {});\n",
              "        if (!dataTable) return;\n",
              "\n",
              "        const docLinkHtml = 'Like what you see? Visit the ' +\n",
              "          '<a target=\"_blank\" href=https://colab.research.google.com/notebooks/data_table.ipynb>data table notebook</a>'\n",
              "          + ' to learn more about interactive tables.';\n",
              "        element.innerHTML = '';\n",
              "        dataTable['output_type'] = 'display_data';\n",
              "        await google.colab.output.renderOutput(dataTable, element);\n",
              "        const docLink = document.createElement('div');\n",
              "        docLink.innerHTML = docLinkHtml;\n",
              "        element.appendChild(docLink);\n",
              "      }\n",
              "    </script>\n",
              "  </div>\n",
              "\n",
              "\n",
              "<div id=\"df-eabfbe68-7651-4a53-a5a7-dda8f3992f7a\">\n",
              "  <button class=\"colab-df-quickchart\" onclick=\"quickchart('df-eabfbe68-7651-4a53-a5a7-dda8f3992f7a')\"\n",
              "            title=\"Suggest charts\"\n",
              "            style=\"display:none;\">\n",
              "\n",
              "<svg xmlns=\"http://www.w3.org/2000/svg\" height=\"24px\"viewBox=\"0 0 24 24\"\n",
              "     width=\"24px\">\n",
              "    <g>\n",
              "        <path d=\"M19 3H5c-1.1 0-2 .9-2 2v14c0 1.1.9 2 2 2h14c1.1 0 2-.9 2-2V5c0-1.1-.9-2-2-2zM9 17H7v-7h2v7zm4 0h-2V7h2v10zm4 0h-2v-4h2v4z\"/>\n",
              "    </g>\n",
              "</svg>\n",
              "  </button>\n",
              "\n",
              "<style>\n",
              "  .colab-df-quickchart {\n",
              "      --bg-color: #E8F0FE;\n",
              "      --fill-color: #1967D2;\n",
              "      --hover-bg-color: #E2EBFA;\n",
              "      --hover-fill-color: #174EA6;\n",
              "      --disabled-fill-color: #AAA;\n",
              "      --disabled-bg-color: #DDD;\n",
              "  }\n",
              "\n",
              "  [theme=dark] .colab-df-quickchart {\n",
              "      --bg-color: #3B4455;\n",
              "      --fill-color: #D2E3FC;\n",
              "      --hover-bg-color: #434B5C;\n",
              "      --hover-fill-color: #FFFFFF;\n",
              "      --disabled-bg-color: #3B4455;\n",
              "      --disabled-fill-color: #666;\n",
              "  }\n",
              "\n",
              "  .colab-df-quickchart {\n",
              "    background-color: var(--bg-color);\n",
              "    border: none;\n",
              "    border-radius: 50%;\n",
              "    cursor: pointer;\n",
              "    display: none;\n",
              "    fill: var(--fill-color);\n",
              "    height: 32px;\n",
              "    padding: 0;\n",
              "    width: 32px;\n",
              "  }\n",
              "\n",
              "  .colab-df-quickchart:hover {\n",
              "    background-color: var(--hover-bg-color);\n",
              "    box-shadow: 0 1px 2px rgba(60, 64, 67, 0.3), 0 1px 3px 1px rgba(60, 64, 67, 0.15);\n",
              "    fill: var(--button-hover-fill-color);\n",
              "  }\n",
              "\n",
              "  .colab-df-quickchart-complete:disabled,\n",
              "  .colab-df-quickchart-complete:disabled:hover {\n",
              "    background-color: var(--disabled-bg-color);\n",
              "    fill: var(--disabled-fill-color);\n",
              "    box-shadow: none;\n",
              "  }\n",
              "\n",
              "  .colab-df-spinner {\n",
              "    border: 2px solid var(--fill-color);\n",
              "    border-color: transparent;\n",
              "    border-bottom-color: var(--fill-color);\n",
              "    animation:\n",
              "      spin 1s steps(1) infinite;\n",
              "  }\n",
              "\n",
              "  @keyframes spin {\n",
              "    0% {\n",
              "      border-color: transparent;\n",
              "      border-bottom-color: var(--fill-color);\n",
              "      border-left-color: var(--fill-color);\n",
              "    }\n",
              "    20% {\n",
              "      border-color: transparent;\n",
              "      border-left-color: var(--fill-color);\n",
              "      border-top-color: var(--fill-color);\n",
              "    }\n",
              "    30% {\n",
              "      border-color: transparent;\n",
              "      border-left-color: var(--fill-color);\n",
              "      border-top-color: var(--fill-color);\n",
              "      border-right-color: var(--fill-color);\n",
              "    }\n",
              "    40% {\n",
              "      border-color: transparent;\n",
              "      border-right-color: var(--fill-color);\n",
              "      border-top-color: var(--fill-color);\n",
              "    }\n",
              "    60% {\n",
              "      border-color: transparent;\n",
              "      border-right-color: var(--fill-color);\n",
              "    }\n",
              "    80% {\n",
              "      border-color: transparent;\n",
              "      border-right-color: var(--fill-color);\n",
              "      border-bottom-color: var(--fill-color);\n",
              "    }\n",
              "    90% {\n",
              "      border-color: transparent;\n",
              "      border-bottom-color: var(--fill-color);\n",
              "    }\n",
              "  }\n",
              "</style>\n",
              "\n",
              "  <script>\n",
              "    async function quickchart(key) {\n",
              "      const quickchartButtonEl =\n",
              "        document.querySelector('#' + key + ' button');\n",
              "      quickchartButtonEl.disabled = true;  // To prevent multiple clicks.\n",
              "      quickchartButtonEl.classList.add('colab-df-spinner');\n",
              "      try {\n",
              "        const charts = await google.colab.kernel.invokeFunction(\n",
              "            'suggestCharts', [key], {});\n",
              "      } catch (error) {\n",
              "        console.error('Error during call to suggestCharts:', error);\n",
              "      }\n",
              "      quickchartButtonEl.classList.remove('colab-df-spinner');\n",
              "      quickchartButtonEl.classList.add('colab-df-quickchart-complete');\n",
              "    }\n",
              "    (() => {\n",
              "      let quickchartButtonEl =\n",
              "        document.querySelector('#df-eabfbe68-7651-4a53-a5a7-dda8f3992f7a button');\n",
              "      quickchartButtonEl.style.display =\n",
              "        google.colab.kernel.accessAllowed ? 'block' : 'none';\n",
              "    })();\n",
              "  </script>\n",
              "</div>\n",
              "\n",
              "    </div>\n",
              "  </div>\n"
            ]
          },
          "metadata": {}
        }
      ],
      "source": [
        "#dev_data['enc_label']=dev_data_labels['Label']\n",
        "display(dev_data.head(5))"
      ]
    },
    {
      "cell_type": "code",
      "execution_count": null,
      "metadata": {
        "colab": {
          "base_uri": "https://localhost:8080/",
          "height": 379
        },
        "outputId": "6dce21a5-f984-4afd-aedd-96bad06dba29",
        "id": "VAKdwV9gaS6W"
      },
      "outputs": [
        {
          "output_type": "display_data",
          "data": {
            "text/plain": [
              "                                                                             filename  \\\n",
              "438  /content/drive/MyDrive/CASE2023_Task4/CASE2023_TASK4_EvalData/subtaskA/98992.jpg   \n",
              "439  /content/drive/MyDrive/CASE2023_Task4/CASE2023_TASK4_EvalData/subtaskA/98995.jpg   \n",
              "440  /content/drive/MyDrive/CASE2023_Task4/CASE2023_TASK4_EvalData/subtaskA/99385.jpg   \n",
              "441  /content/drive/MyDrive/CASE2023_Task4/CASE2023_TASK4_EvalData/subtaskA/99747.jpg   \n",
              "442  /content/drive/MyDrive/CASE2023_Task4/CASE2023_TASK4_EvalData/subtaskA/99997.jpg   \n",
              "\n",
              "                                                                                                                                                                                                                    text  \\\n",
              "438  - ANIMEGALAXYOFFICIAL CRUNCHYROLL SUSPENDS ANIME STREAMING IN RUSSIA                                                                                                                                                  \n",
              "439  The Washington Post Democracy Dies in Darkness International Cat Federation bans Russian cats from competitions Listen to article 2 min By Jennifer Hassan Today at 6:26 a.m. EST                                     \n",
              "440  Stephen King @Stephen King. 1h Ukrainian woman welcomes Russian troops. 450 3 489 19,2K 000                                                                                                                           \n",
              "441  aign WA HOSTILE imaria Gaalla Ukrain Solide Campaig кра ною Labour Movement Solidarity with Ukraine RUSSIAN TROOPS OUT NOW!! VICTORY TO THE UKRAINIAN PEOPLE Ukraine Solidarity Campaign ANOTHER EUROPE IS POSSIBLE   \n",
              "442  DUMBKIRK COMING SOON TO A RUSSIAN NEAR YOU                                                                                                                                                                            \n",
              "\n",
              "     enc_label  \n",
              "438  0          \n",
              "439  0          \n",
              "440  1          \n",
              "441  0          \n",
              "442  1          "
            ],
            "text/html": [
              "\n",
              "  <div id=\"df-b3f3db6c-6d98-49a8-b462-12d9bd7f1c19\" class=\"colab-df-container\">\n",
              "    <div>\n",
              "<style scoped>\n",
              "    .dataframe tbody tr th:only-of-type {\n",
              "        vertical-align: middle;\n",
              "    }\n",
              "\n",
              "    .dataframe tbody tr th {\n",
              "        vertical-align: top;\n",
              "    }\n",
              "\n",
              "    .dataframe thead th {\n",
              "        text-align: right;\n",
              "    }\n",
              "</style>\n",
              "<table border=\"1\" class=\"dataframe\">\n",
              "  <thead>\n",
              "    <tr style=\"text-align: right;\">\n",
              "      <th></th>\n",
              "      <th>filename</th>\n",
              "      <th>text</th>\n",
              "      <th>enc_label</th>\n",
              "    </tr>\n",
              "  </thead>\n",
              "  <tbody>\n",
              "    <tr>\n",
              "      <th>438</th>\n",
              "      <td>/content/drive/MyDrive/CASE2023_Task4/CASE2023_TASK4_EvalData/subtaskA/98992.jpg</td>\n",
              "      <td>- ANIMEGALAXYOFFICIAL CRUNCHYROLL SUSPENDS ANIME STREAMING IN RUSSIA</td>\n",
              "      <td>0</td>\n",
              "    </tr>\n",
              "    <tr>\n",
              "      <th>439</th>\n",
              "      <td>/content/drive/MyDrive/CASE2023_Task4/CASE2023_TASK4_EvalData/subtaskA/98995.jpg</td>\n",
              "      <td>The Washington Post Democracy Dies in Darkness International Cat Federation bans Russian cats from competitions Listen to article 2 min By Jennifer Hassan Today at 6:26 a.m. EST</td>\n",
              "      <td>0</td>\n",
              "    </tr>\n",
              "    <tr>\n",
              "      <th>440</th>\n",
              "      <td>/content/drive/MyDrive/CASE2023_Task4/CASE2023_TASK4_EvalData/subtaskA/99385.jpg</td>\n",
              "      <td>Stephen King @Stephen King. 1h Ukrainian woman welcomes Russian troops. 450 3 489 19,2K 000</td>\n",
              "      <td>1</td>\n",
              "    </tr>\n",
              "    <tr>\n",
              "      <th>441</th>\n",
              "      <td>/content/drive/MyDrive/CASE2023_Task4/CASE2023_TASK4_EvalData/subtaskA/99747.jpg</td>\n",
              "      <td>aign WA HOSTILE imaria Gaalla Ukrain Solide Campaig кра ною Labour Movement Solidarity with Ukraine RUSSIAN TROOPS OUT NOW!! VICTORY TO THE UKRAINIAN PEOPLE Ukraine Solidarity Campaign ANOTHER EUROPE IS POSSIBLE</td>\n",
              "      <td>0</td>\n",
              "    </tr>\n",
              "    <tr>\n",
              "      <th>442</th>\n",
              "      <td>/content/drive/MyDrive/CASE2023_Task4/CASE2023_TASK4_EvalData/subtaskA/99997.jpg</td>\n",
              "      <td>DUMBKIRK COMING SOON TO A RUSSIAN NEAR YOU</td>\n",
              "      <td>1</td>\n",
              "    </tr>\n",
              "  </tbody>\n",
              "</table>\n",
              "</div>\n",
              "    <div class=\"colab-df-buttons\">\n",
              "\n",
              "  <div class=\"colab-df-container\">\n",
              "    <button class=\"colab-df-convert\" onclick=\"convertToInteractive('df-b3f3db6c-6d98-49a8-b462-12d9bd7f1c19')\"\n",
              "            title=\"Convert this dataframe to an interactive table.\"\n",
              "            style=\"display:none;\">\n",
              "\n",
              "  <svg xmlns=\"http://www.w3.org/2000/svg\" height=\"24px\" viewBox=\"0 -960 960 960\">\n",
              "    <path d=\"M120-120v-720h720v720H120Zm60-500h600v-160H180v160Zm220 220h160v-160H400v160Zm0 220h160v-160H400v160ZM180-400h160v-160H180v160Zm440 0h160v-160H620v160ZM180-180h160v-160H180v160Zm440 0h160v-160H620v160Z\"/>\n",
              "  </svg>\n",
              "    </button>\n",
              "\n",
              "  <style>\n",
              "    .colab-df-container {\n",
              "      display:flex;\n",
              "      gap: 12px;\n",
              "    }\n",
              "\n",
              "    .colab-df-convert {\n",
              "      background-color: #E8F0FE;\n",
              "      border: none;\n",
              "      border-radius: 50%;\n",
              "      cursor: pointer;\n",
              "      display: none;\n",
              "      fill: #1967D2;\n",
              "      height: 32px;\n",
              "      padding: 0 0 0 0;\n",
              "      width: 32px;\n",
              "    }\n",
              "\n",
              "    .colab-df-convert:hover {\n",
              "      background-color: #E2EBFA;\n",
              "      box-shadow: 0px 1px 2px rgba(60, 64, 67, 0.3), 0px 1px 3px 1px rgba(60, 64, 67, 0.15);\n",
              "      fill: #174EA6;\n",
              "    }\n",
              "\n",
              "    .colab-df-buttons div {\n",
              "      margin-bottom: 4px;\n",
              "    }\n",
              "\n",
              "    [theme=dark] .colab-df-convert {\n",
              "      background-color: #3B4455;\n",
              "      fill: #D2E3FC;\n",
              "    }\n",
              "\n",
              "    [theme=dark] .colab-df-convert:hover {\n",
              "      background-color: #434B5C;\n",
              "      box-shadow: 0px 1px 3px 1px rgba(0, 0, 0, 0.15);\n",
              "      filter: drop-shadow(0px 1px 2px rgba(0, 0, 0, 0.3));\n",
              "      fill: #FFFFFF;\n",
              "    }\n",
              "  </style>\n",
              "\n",
              "    <script>\n",
              "      const buttonEl =\n",
              "        document.querySelector('#df-b3f3db6c-6d98-49a8-b462-12d9bd7f1c19 button.colab-df-convert');\n",
              "      buttonEl.style.display =\n",
              "        google.colab.kernel.accessAllowed ? 'block' : 'none';\n",
              "\n",
              "      async function convertToInteractive(key) {\n",
              "        const element = document.querySelector('#df-b3f3db6c-6d98-49a8-b462-12d9bd7f1c19');\n",
              "        const dataTable =\n",
              "          await google.colab.kernel.invokeFunction('convertToInteractive',\n",
              "                                                    [key], {});\n",
              "        if (!dataTable) return;\n",
              "\n",
              "        const docLinkHtml = 'Like what you see? Visit the ' +\n",
              "          '<a target=\"_blank\" href=https://colab.research.google.com/notebooks/data_table.ipynb>data table notebook</a>'\n",
              "          + ' to learn more about interactive tables.';\n",
              "        element.innerHTML = '';\n",
              "        dataTable['output_type'] = 'display_data';\n",
              "        await google.colab.output.renderOutput(dataTable, element);\n",
              "        const docLink = document.createElement('div');\n",
              "        docLink.innerHTML = docLinkHtml;\n",
              "        element.appendChild(docLink);\n",
              "      }\n",
              "    </script>\n",
              "  </div>\n",
              "\n",
              "\n",
              "<div id=\"df-06d987af-680a-477b-ace0-6271cf2fec2b\">\n",
              "  <button class=\"colab-df-quickchart\" onclick=\"quickchart('df-06d987af-680a-477b-ace0-6271cf2fec2b')\"\n",
              "            title=\"Suggest charts\"\n",
              "            style=\"display:none;\">\n",
              "\n",
              "<svg xmlns=\"http://www.w3.org/2000/svg\" height=\"24px\"viewBox=\"0 0 24 24\"\n",
              "     width=\"24px\">\n",
              "    <g>\n",
              "        <path d=\"M19 3H5c-1.1 0-2 .9-2 2v14c0 1.1.9 2 2 2h14c1.1 0 2-.9 2-2V5c0-1.1-.9-2-2-2zM9 17H7v-7h2v7zm4 0h-2V7h2v10zm4 0h-2v-4h2v4z\"/>\n",
              "    </g>\n",
              "</svg>\n",
              "  </button>\n",
              "\n",
              "<style>\n",
              "  .colab-df-quickchart {\n",
              "      --bg-color: #E8F0FE;\n",
              "      --fill-color: #1967D2;\n",
              "      --hover-bg-color: #E2EBFA;\n",
              "      --hover-fill-color: #174EA6;\n",
              "      --disabled-fill-color: #AAA;\n",
              "      --disabled-bg-color: #DDD;\n",
              "  }\n",
              "\n",
              "  [theme=dark] .colab-df-quickchart {\n",
              "      --bg-color: #3B4455;\n",
              "      --fill-color: #D2E3FC;\n",
              "      --hover-bg-color: #434B5C;\n",
              "      --hover-fill-color: #FFFFFF;\n",
              "      --disabled-bg-color: #3B4455;\n",
              "      --disabled-fill-color: #666;\n",
              "  }\n",
              "\n",
              "  .colab-df-quickchart {\n",
              "    background-color: var(--bg-color);\n",
              "    border: none;\n",
              "    border-radius: 50%;\n",
              "    cursor: pointer;\n",
              "    display: none;\n",
              "    fill: var(--fill-color);\n",
              "    height: 32px;\n",
              "    padding: 0;\n",
              "    width: 32px;\n",
              "  }\n",
              "\n",
              "  .colab-df-quickchart:hover {\n",
              "    background-color: var(--hover-bg-color);\n",
              "    box-shadow: 0 1px 2px rgba(60, 64, 67, 0.3), 0 1px 3px 1px rgba(60, 64, 67, 0.15);\n",
              "    fill: var(--button-hover-fill-color);\n",
              "  }\n",
              "\n",
              "  .colab-df-quickchart-complete:disabled,\n",
              "  .colab-df-quickchart-complete:disabled:hover {\n",
              "    background-color: var(--disabled-bg-color);\n",
              "    fill: var(--disabled-fill-color);\n",
              "    box-shadow: none;\n",
              "  }\n",
              "\n",
              "  .colab-df-spinner {\n",
              "    border: 2px solid var(--fill-color);\n",
              "    border-color: transparent;\n",
              "    border-bottom-color: var(--fill-color);\n",
              "    animation:\n",
              "      spin 1s steps(1) infinite;\n",
              "  }\n",
              "\n",
              "  @keyframes spin {\n",
              "    0% {\n",
              "      border-color: transparent;\n",
              "      border-bottom-color: var(--fill-color);\n",
              "      border-left-color: var(--fill-color);\n",
              "    }\n",
              "    20% {\n",
              "      border-color: transparent;\n",
              "      border-left-color: var(--fill-color);\n",
              "      border-top-color: var(--fill-color);\n",
              "    }\n",
              "    30% {\n",
              "      border-color: transparent;\n",
              "      border-left-color: var(--fill-color);\n",
              "      border-top-color: var(--fill-color);\n",
              "      border-right-color: var(--fill-color);\n",
              "    }\n",
              "    40% {\n",
              "      border-color: transparent;\n",
              "      border-right-color: var(--fill-color);\n",
              "      border-top-color: var(--fill-color);\n",
              "    }\n",
              "    60% {\n",
              "      border-color: transparent;\n",
              "      border-right-color: var(--fill-color);\n",
              "    }\n",
              "    80% {\n",
              "      border-color: transparent;\n",
              "      border-right-color: var(--fill-color);\n",
              "      border-bottom-color: var(--fill-color);\n",
              "    }\n",
              "    90% {\n",
              "      border-color: transparent;\n",
              "      border-bottom-color: var(--fill-color);\n",
              "    }\n",
              "  }\n",
              "</style>\n",
              "\n",
              "  <script>\n",
              "    async function quickchart(key) {\n",
              "      const quickchartButtonEl =\n",
              "        document.querySelector('#' + key + ' button');\n",
              "      quickchartButtonEl.disabled = true;  // To prevent multiple clicks.\n",
              "      quickchartButtonEl.classList.add('colab-df-spinner');\n",
              "      try {\n",
              "        const charts = await google.colab.kernel.invokeFunction(\n",
              "            'suggestCharts', [key], {});\n",
              "      } catch (error) {\n",
              "        console.error('Error during call to suggestCharts:', error);\n",
              "      }\n",
              "      quickchartButtonEl.classList.remove('colab-df-spinner');\n",
              "      quickchartButtonEl.classList.add('colab-df-quickchart-complete');\n",
              "    }\n",
              "    (() => {\n",
              "      let quickchartButtonEl =\n",
              "        document.querySelector('#df-06d987af-680a-477b-ace0-6271cf2fec2b button');\n",
              "      quickchartButtonEl.style.display =\n",
              "        google.colab.kernel.accessAllowed ? 'block' : 'none';\n",
              "    })();\n",
              "  </script>\n",
              "</div>\n",
              "\n",
              "    </div>\n",
              "  </div>\n"
            ]
          },
          "metadata": {}
        }
      ],
      "source": [
        "with pd.option_context('display.max_colwidth', 0):\n",
        "    display(dev_data.tail(n=5))\n",
        "#dev_data.head(5)"
      ]
    },
    {
      "cell_type": "code",
      "execution_count": null,
      "metadata": {
        "colab": {
          "base_uri": "https://localhost:8080/"
        },
        "outputId": "3b5bae80-273f-4128-a587-921f00f93d8e",
        "id": "fMyNJfs3aS6W"
      },
      "outputs": [
        {
          "output_type": "stream",
          "name": "stdout",
          "text": [
            "Shape of train data: (3600, 5)\n",
            "Shape of dev data: (443, 3)\n",
            "Shape of test data: (443, 2)\n"
          ]
        }
      ],
      "source": [
        "print(f\"Shape of train data: {train_data.shape}\")\n",
        "print(f\"Shape of dev data: {dev_data.shape}\")\n",
        "print(f\"Shape of test data: {test_data.shape}\")"
      ]
    },
    {
      "cell_type": "code",
      "execution_count": null,
      "metadata": {
        "colab": {
          "base_uri": "https://localhost:8080/"
        },
        "outputId": "d31a4713-c7ff-4616-a00a-29a5b33eab5a",
        "id": "SsmACb3haS6W"
      },
      "outputs": [
        {
          "output_type": "execute_result",
          "data": {
            "text/plain": [
              "hate        1942\n",
              "non-hate    1658\n",
              "Name: Label, dtype: int64"
            ]
          },
          "metadata": {},
          "execution_count": 17
        }
      ],
      "source": [
        "train_data.Label.value_counts()"
      ]
    },
    {
      "cell_type": "markdown",
      "metadata": {
        "id": "JrJbLt6uaS6W"
      },
      "source": [
        "## See Word Length"
      ]
    },
    {
      "cell_type": "code",
      "execution_count": null,
      "metadata": {
        "id": "COdrVMZdaS6X"
      },
      "outputs": [],
      "source": [
        "import pandas as pd\n",
        "\n",
        "# Assuming 'df' is your DataFrame and 'text' is the column containing the text\n",
        "# Replace 'df' and 'text' with your actual DataFrame and column name\n",
        "\n",
        "# Function to count words in a text\n",
        "def count_words(text):\n",
        "    words = str(text).split()  # Splitting text into words\n",
        "    return len(words)  # Returning the count of words\n",
        "\n",
        "\n",
        "# Applying the function to the 'text' column and creating a new column 'avg_word_length'\n",
        "train_word_length = train_data['text'].apply(count_words)\n",
        "dev_word_length = dev_data['text'].apply(count_words)\n",
        "test_word_length = test_data['text'].apply(count_words)\n",
        "# Displaying the DataFrame with average word lengths\n",
        "#print(test_word_length)\n"
      ]
    },
    {
      "cell_type": "code",
      "source": [
        "#train_word_length = train_data['cleanText'].apply(count_words)\n",
        "#dev_word_length = dev_data['cleanText'].apply(count_words)\n",
        "#test_word_length = test_data['cleanText'].apply(count_words)"
      ],
      "metadata": {
        "id": "YsypnaSSAe6x"
      },
      "execution_count": null,
      "outputs": []
    },
    {
      "cell_type": "code",
      "execution_count": null,
      "metadata": {
        "colab": {
          "base_uri": "https://localhost:8080/",
          "height": 354
        },
        "outputId": "8a9c389d-3b5f-46b6-9630-ff9c4b526b67",
        "id": "SJ_xZ5duaS6X"
      },
      "outputs": [
        {
          "output_type": "display_data",
          "data": {
            "text/plain": [
              "<Figure size 1800x500 with 3 Axes>"
            ],
            "image/png": "[encoded data removed]"
          },
          "metadata": {}
        }
      ],
      "source": [
        "fig, axes = plt.subplots(1, 3, figsize=(18, 5), sharey=True)\n",
        "\n",
        "#train_lengths = train_df[\"text\"].str.len()\n",
        "sns.histplot(ax=axes[0], data=train_word_length, bins=30).set(xlabel=\"Length of training text samples\")\n",
        "axes[0].axvline(train_word_length.mean(), c=\"k\", ls=\"--\", lw=2.5, label=\"Mean\")\n",
        "axes[0].legend()\n",
        "\n",
        "#dev_lengths = dev_df[\"text\"].str.len()\n",
        "sns.histplot(ax=axes[1], data=dev_word_length, bins=20).set(xlabel=\"Length of dev text samples\")\n",
        "axes[1].axvline(dev_word_length.mean(), c=\"k\", ls=\"--\", lw=2.5, label=\"Mean\")\n",
        "axes[1].legend()\n",
        "\n",
        "#test_lengths = test_df[\"Text\"].str.len()\n",
        "sns.histplot(ax=axes[2], data=test_word_length, bins=20).set(xlabel=\"Length of test text samples\")\n",
        "axes[2].axvline(test_word_length.mean(), c=\"k\", ls=\"--\", lw=2.5, label=\"Mean\")\n",
        "axes[2].legend()\n",
        "\n",
        "plt.show()"
      ]
    },
    {
      "cell_type": "code",
      "execution_count": null,
      "metadata": {
        "colab": {
          "base_uri": "https://localhost:8080/"
        },
        "outputId": "113b17cc-f515-42c1-f3d3-c5f7f46b7119",
        "id": "Q93y7G81aS6X"
      },
      "outputs": [
        {
          "output_type": "stream",
          "name": "stdout",
          "text": [
            "Max words length of Train rows 1673. Mean words length of Train rows 40.88944444444444\n",
            "Max words length of Dev rows 653. Mean words length of Dev rows 37.69977426636569\n",
            "Max words length of Test rows 2096. Mean words length of Test rows 51.61625282167043\n"
          ]
        }
      ],
      "source": [
        "print(f\"Max words length of Train rows {train_word_length.max()}. Mean words length of Train rows {train_word_length.mean()}\")\n",
        "print(f\"Max words length of Dev rows {dev_word_length.max()}. Mean words length of Dev rows {dev_word_length.mean()}\")\n",
        "print(f\"Max words length of Test rows {test_word_length.max()}. Mean words length of Test rows {test_word_length.mean()}\")"
      ]
    },
    {
      "cell_type": "code",
      "execution_count": null,
      "metadata": {
        "colab": {
          "base_uri": "https://localhost:8080/"
        },
        "outputId": "0fc34cc3-f87a-4e25-b44c-fabd97c9de74",
        "id": "yH6QNUP1aS6X"
      },
      "outputs": [
        {
          "output_type": "stream",
          "name": "stdout",
          "text": [
            "Number of unique words in training data: 29430\n",
            "Number of unique words in test data: 8009\n",
            "Number of out-of-vocabulary (OOV) words: 2941\n"
          ]
        }
      ],
      "source": [
        "import re\n",
        "\n",
        "train_corpus = train_data[\"text\"].sum()\n",
        "test_corpus = test_data[\"text\"].sum()\n",
        "\n",
        "# Remove punctuations\n",
        "chars_to_ignore = '[-,\\.:;\\'\"\\!?।]'\n",
        "\n",
        "train_corpus = re.sub(chars_to_ignore, ' ', train_corpus)\n",
        "train_vocab = set(train_corpus.split())\n",
        "\n",
        "test_corpus = re.sub(chars_to_ignore, ' ', test_corpus)\n",
        "test_vocab = set(test_corpus.split())\n",
        "\n",
        "oov = test_vocab - train_vocab\n",
        "\n",
        "print(\"Number of unique words in training data:\", len(train_vocab))\n",
        "print(\"Number of unique words in test data:\", len(test_vocab))\n",
        "print(\"Number of out-of-vocabulary (OOV) words:\", len(oov))"
      ]
    },
    {
      "cell_type": "markdown",
      "metadata": {
        "id": "DT83wjY_aS6Y"
      },
      "source": [
        "## Text Preprocessing"
      ]
    },
    {
      "cell_type": "code",
      "execution_count": null,
      "metadata": {
        "colab": {
          "base_uri": "https://localhost:8080/"
        },
        "outputId": "fb651ba3-cd84-4a85-b5f7-d37b55d01449",
        "id": "6p8ZdJ9daS6Y"
      },
      "outputs": [
        {
          "output_type": "stream",
          "name": "stderr",
          "text": [
            "[nltk_data] Downloading package punkt to /root/nltk_data...\n",
            "[nltk_data]   Package punkt is already up-to-date!\n",
            "[nltk_data] Downloading package stopwords to /root/nltk_data...\n",
            "[nltk_data]   Package stopwords is already up-to-date!\n"
          ]
        }
      ],
      "source": [
        "'''\n",
        "Text Cleaning\n",
        "'''\n",
        "\n",
        "import nltk\n",
        "import string\n",
        "nltk.download('punkt')\n",
        "nltk.download('stopwords')\n",
        "def preprocessing(row):\n",
        "\n",
        "  #to remove HTML tags\n",
        "  text = BeautifulSoup(row, 'html.parser').get_text()\n",
        "  d = re.sub(r'(https|http)?:\\/\\/(\\w|\\.|\\/|\\?|\\=|\\&|\\%)*\\b', '', text, flags=re.MULTILINE) #This line is for removing url\n",
        "  post = d.replace('\\n', '')\n",
        "  #punct = ['`','~','!','@','#','$','%','^','&','*','(',')','\"','_','-','=','+',',',';',':','\"','/','.','<','>','?','|']\n",
        "  #for i in punct:\n",
        "  post = re.sub(r'\\d+', ' ', post)\n",
        "  post = post.lower()\n",
        "  post = post.replace(':', ' ')\n",
        "  post = post.replace('\"', ' ')\n",
        "\n",
        "  # input texttext = \"Natural language processing is a field of artificial intelligence that deals with the interaction between computers and human (natural) language.\"# tokenize the text\n",
        "  tokens = nltk.word_tokenize(post)# remove punctuation\n",
        "  post = [token for token in tokens if token not in string.punctuation]\n",
        "\n",
        "  # get list of stopwords in English\n",
        "  stopwords = nltk.corpus.stopwords.words(\"english\")\n",
        "\n",
        "  #tokens = nltk.word_tokenize(post)\n",
        "  # remove stopwords\n",
        "  post = [token for token in post if token.lower() not in stopwords]\n",
        "\n",
        "  # remove leading and trailing white space\n",
        "  #post = post.strip()\n",
        "\n",
        "  # replace multiple consecutive white space characters with a single space\n",
        "  #post = \" \".join(post.split())\n",
        "\n",
        "  # calculate the frequency of each word\n",
        "  fdist = nltk.FreqDist(tokens)\n",
        "\n",
        "  #tokens = nltk.word_tokenize(post)\n",
        "  #  remove the most common words (e.g., the top 10% of words by frequency)\n",
        "  text = [token for token in post if fdist[token] < fdist.N() * 0.1]\n",
        "\n",
        "\n",
        "\n",
        "  '''post = post.replace('`', ' ')\n",
        "  post = post.replace('~', ' ')\n",
        "  post = post.replace('!', ' ')\n",
        "  post = post.replace('@', ' ')\n",
        "  post = post.replace('#', ' ')\n",
        "  post = post.replace('$', ' ')\n",
        "  post = post.replace('%', ' ')\n",
        "  post = post.replace('^', ' ')\n",
        "  post = post.replace('&', ' ')\n",
        "  post = post.replace('*', ' ')\n",
        "  post = post.replace('(', ' ')\n",
        "  post = post.replace(')', ' ')\n",
        "  post = post.replace('-', ' ')\n",
        "  post = post.replace('_', ' ')\n",
        "  post = post.replace('=', ' ')\n",
        "  post = post.replace('+', ' ')\n",
        "  post = post.replace(',', ' ')\n",
        "  post = post.replace(';', ' ')\n",
        "  post = post.replace(':', ' ')\n",
        "  post = post.replace('\"', ' ')\n",
        "  post = post.replace('/', ' ')\n",
        "  post = post.replace('.', ' ')\n",
        "  post = post.replace('<', ' ')\n",
        "  post = post.replace('>', ' ')\n",
        "  post = post.replace('?', ' ')\n",
        "  post = post.replace('|', ' ')'''\n",
        "\n",
        "\n",
        "  text = ' '.join(post)\n",
        "  # to remove accented characters\n",
        "  # to remove special characters and numbers\n",
        "  # define the pattern to keep\n",
        "  #pat = r'[^#@]'\n",
        "  #text = re.sub(pat, ' ', post)\n",
        "\n",
        "  #to remove punctuation\n",
        "  #text = ''.join([c for c in text if c not in string.punctuation])\n",
        "  # to remove special characters\n",
        "  #pattern = r'^\\s*|\\s\\s*'\n",
        "  #text = re.sub(pattern, ' ', text).strip()\n",
        "  # convert into lower case\n",
        "\n",
        "  # Stopword Removing\n",
        "  #tokenizer = ToktokTokenizer()\n",
        "  # convert sentence into token of words\n",
        "  #tokens = tokenizer.tokenize(text)\n",
        "  #tokens = [token.strip() for token in tokens]\n",
        "\n",
        "\n",
        "  return text"
      ]
    },
    {
      "cell_type": "code",
      "execution_count": null,
      "metadata": {
        "id": "f_U7cmm0aS6Y"
      },
      "outputs": [],
      "source": [
        "train_data['cleanText'] = train_data.text.apply(lambda x: preprocessing(str(x)))\n",
        "test_data['cleanText'] = test_data.text.apply(lambda x: preprocessing(str(x)))\n",
        "dev_data['cleanText'] = dev_data.text.apply(lambda x: preprocessing(str(x)))\n",
        "#Removing punctuations\n",
        "#train_data['cleanText'] = train_data['text'].apply(text_cleaning)\n",
        "#dev_data['cleanText'] = dev_data['text'].apply(text_cleaning)\n",
        "#test_data['cleanText'] = test_data['text'].apply(text_cleaning)"
      ]
    },
    {
      "cell_type": "code",
      "execution_count": null,
      "metadata": {
        "colab": {
          "base_uri": "https://localhost:8080/",
          "height": 1000
        },
        "outputId": "db90900e-fd0c-49ac-82e1-01a37b80c914",
        "id": "c3mp632jaS6Y"
      },
      "outputs": [
        {
          "output_type": "display_data",
          "data": {
            "text/plain": [
              "                                                                                           filename  \\\n",
              "0  /content/drive/MyDrive/CASE2023_Task4/CASE2023_TASK4_TrainData/subTaskA/No Hate Speech/10008.jpg   \n",
              "1  /content/drive/MyDrive/CASE2023_Task4/CASE2023_TASK4_TrainData/subTaskA/No Hate Speech/10032.jpg   \n",
              "2  /content/drive/MyDrive/CASE2023_Task4/CASE2023_TASK4_TrainData/subTaskA/Hate Speech/10041.jpg      \n",
              "3  /content/drive/MyDrive/CASE2023_Task4/CASE2023_TASK4_TrainData/subTaskA/No Hate Speech/10139.jpg   \n",
              "4  /content/drive/MyDrive/CASE2023_Task4/CASE2023_TASK4_TrainData/subTaskA/No Hate Speech/10146.jpg   \n",
              "\n",
              "                                                                                                                                                                                                                                                                                                                                                                                                                                                                                                                         text  \\\n",
              "0  Brian Lilley @brianlilley. 21h It's time for Canada, and our NATO allies, to actually stand with Ukraine rather than claiming to do so while letting them face this invasion alone. Read & RT #cdnpoli torontosun.com LILLEY: It's time for Canada to stand fully with Zelenskyy and Ukraine                                                                                                                                                                                                                                 \n",
              "1  19:40 3 gab TeoAnon17 @Teoquanon 22m ANONS Military Precision (()) Movie Moves & Counter moves Doubles everywhere Read more NOTHING IS WHAT IT SEEMS IT'S GONNA BE BIBLICAL 7 likes 5 reposts 4 ... ID O 99 Vol) :                                                                                                                                                                                                                                                                                                           \n",
              "2  pulse sports Babatunde Koiki @Babatu... Dear @FIFAcom, while you're at it, in the spirit of equity and justice, kindly extend bans to Israel for their depredations on the Palestinians, China for their depredations on the Uighurs and Saudi Arabia and it's allies for their depredations on Yemen.                                                                                                                                                                                                                       \n",
              "3  Near Belgorod, Russia 12:36 AM BREAKING NEWS UKRAINE: RUSSIAN ROCKET ATTACKS HIT NEIGHBORHOODS IN KHARKIV CAN THE LEAD                                                                                                                                                                                                                                                                                                                                                                                                       \n",
              "4  Russia destroys Chernobyl nuclear plant lab that helped manage radioactive waste Russian military forces have destroyed a new lak ratory at the Chernobyl nuclear power plant that worked to improve management of radioactive waste, the Ukrainian state agency said. The laboratory contained \"highly active samples and samples of radionuclides that are now in the hands of the enemy, which we hope will harm itself and not the civilised world\", the agency added. Radiation monitors around plant stopped working   \n",
              "\n",
              "      Label  enc_label  imgname  \\\n",
              "0  non-hate  0          10008     \n",
              "1  non-hate  0          10032     \n",
              "2  hate      1          10041     \n",
              "3  non-hate  0          10139     \n",
              "4  non-hate  0          10146     \n",
              "\n",
              "                                                                                                                                                                                                                                                                                                                                                                                                cleanText  \n",
              "0  brian lilley brianlilley h 's time canada nato allies actually stand ukraine rather claiming letting face invasion alone read rt cdnpoli torontosun.com lilley 's time canada stand fully zelenskyy ukraine                                                                                                                                                                                             \n",
              "1  gab teoanon teoquanon anons military precision movie moves counter moves doubles everywhere read nothing seems 's gon na biblical likes reposts ... id vol                                                                                                                                                                                                                                              \n",
              "2  pulse sports babatunde koiki babatu ... dear fifacom 're spirit equity justice kindly extend bans israel depredations palestinians china depredations uighurs saudi arabia 's allies depredations yemen                                                                                                                                                                                                 \n",
              "3  near belgorod russia breaking news ukraine russian rocket attacks hit neighborhoods kharkiv lead                                                                                                                                                                                                                                                                                                        \n",
              "4  russia destroys chernobyl nuclear plant lab helped manage radioactive waste russian military forces destroyed new lak ratory chernobyl nuclear power plant worked improve management radioactive waste ukrainian state agency said laboratory contained highly active samples samples radionuclides hands enemy hope harm civilised world agency added radiation monitors around plant stopped working  "
            ],
            "text/html": [
              "\n",
              "  <div id=\"df-b38fbe10-7915-4fdc-a5ed-3ea5b1c579e6\" class=\"colab-df-container\">\n",
              "    <div>\n",
              "<style scoped>\n",
              "    .dataframe tbody tr th:only-of-type {\n",
              "        vertical-align: middle;\n",
              "    }\n",
              "\n",
              "    .dataframe tbody tr th {\n",
              "        vertical-align: top;\n",
              "    }\n",
              "\n",
              "    .dataframe thead th {\n",
              "        text-align: right;\n",
              "    }\n",
              "</style>\n",
              "<table border=\"1\" class=\"dataframe\">\n",
              "  <thead>\n",
              "    <tr style=\"text-align: right;\">\n",
              "      <th></th>\n",
              "      <th>filename</th>\n",
              "      <th>text</th>\n",
              "      <th>Label</th>\n",
              "      <th>enc_label</th>\n",
              "      <th>imgname</th>\n",
              "      <th>cleanText</th>\n",
              "    </tr>\n",
              "  </thead>\n",
              "  <tbody>\n",
              "    <tr>\n",
              "      <th>0</th>\n",
              "      <td>/content/drive/MyDrive/CASE2023_Task4/CASE2023_TASK4_TrainData/subTaskA/No Hate Speech/10008.jpg</td>\n",
              "      <td>Brian Lilley @brianlilley. 21h It's time for Canada, and our NATO allies, to actually stand with Ukraine rather than claiming to do so while letting them face this invasion alone. Read &amp; RT #cdnpoli torontosun.com LILLEY: It's time for Canada to stand fully with Zelenskyy and Ukraine</td>\n",
              "      <td>non-hate</td>\n",
              "      <td>0</td>\n",
              "      <td>10008</td>\n",
              "      <td>brian lilley brianlilley h 's time canada nato allies actually stand ukraine rather claiming letting face invasion alone read rt cdnpoli torontosun.com lilley 's time canada stand fully zelenskyy ukraine</td>\n",
              "    </tr>\n",
              "    <tr>\n",
              "      <th>1</th>\n",
              "      <td>/content/drive/MyDrive/CASE2023_Task4/CASE2023_TASK4_TrainData/subTaskA/No Hate Speech/10032.jpg</td>\n",
              "      <td>19:40 3 gab TeoAnon17 @Teoquanon 22m ANONS Military Precision (()) Movie Moves &amp; Counter moves Doubles everywhere Read more NOTHING IS WHAT IT SEEMS IT'S GONNA BE BIBLICAL 7 likes 5 reposts 4 ... ID O 99 Vol) :</td>\n",
              "      <td>non-hate</td>\n",
              "      <td>0</td>\n",
              "      <td>10032</td>\n",
              "      <td>gab teoanon teoquanon anons military precision movie moves counter moves doubles everywhere read nothing seems 's gon na biblical likes reposts ... id vol</td>\n",
              "    </tr>\n",
              "    <tr>\n",
              "      <th>2</th>\n",
              "      <td>/content/drive/MyDrive/CASE2023_Task4/CASE2023_TASK4_TrainData/subTaskA/Hate Speech/10041.jpg</td>\n",
              "      <td>pulse sports Babatunde Koiki @Babatu... Dear @FIFAcom, while you're at it, in the spirit of equity and justice, kindly extend bans to Israel for their depredations on the Palestinians, China for their depredations on the Uighurs and Saudi Arabia and it's allies for their depredations on Yemen.</td>\n",
              "      <td>hate</td>\n",
              "      <td>1</td>\n",
              "      <td>10041</td>\n",
              "      <td>pulse sports babatunde koiki babatu ... dear fifacom 're spirit equity justice kindly extend bans israel depredations palestinians china depredations uighurs saudi arabia 's allies depredations yemen</td>\n",
              "    </tr>\n",
              "    <tr>\n",
              "      <th>3</th>\n",
              "      <td>/content/drive/MyDrive/CASE2023_Task4/CASE2023_TASK4_TrainData/subTaskA/No Hate Speech/10139.jpg</td>\n",
              "      <td>Near Belgorod, Russia 12:36 AM BREAKING NEWS UKRAINE: RUSSIAN ROCKET ATTACKS HIT NEIGHBORHOODS IN KHARKIV CAN THE LEAD</td>\n",
              "      <td>non-hate</td>\n",
              "      <td>0</td>\n",
              "      <td>10139</td>\n",
              "      <td>near belgorod russia breaking news ukraine russian rocket attacks hit neighborhoods kharkiv lead</td>\n",
              "    </tr>\n",
              "    <tr>\n",
              "      <th>4</th>\n",
              "      <td>/content/drive/MyDrive/CASE2023_Task4/CASE2023_TASK4_TrainData/subTaskA/No Hate Speech/10146.jpg</td>\n",
              "      <td>Russia destroys Chernobyl nuclear plant lab that helped manage radioactive waste Russian military forces have destroyed a new lak ratory at the Chernobyl nuclear power plant that worked to improve management of radioactive waste, the Ukrainian state agency said. The laboratory contained \"highly active samples and samples of radionuclides that are now in the hands of the enemy, which we hope will harm itself and not the civilised world\", the agency added. Radiation monitors around plant stopped working</td>\n",
              "      <td>non-hate</td>\n",
              "      <td>0</td>\n",
              "      <td>10146</td>\n",
              "      <td>russia destroys chernobyl nuclear plant lab helped manage radioactive waste russian military forces destroyed new lak ratory chernobyl nuclear power plant worked improve management radioactive waste ukrainian state agency said laboratory contained highly active samples samples radionuclides hands enemy hope harm civilised world agency added radiation monitors around plant stopped working</td>\n",
              "    </tr>\n",
              "  </tbody>\n",
              "</table>\n",
              "</div>\n",
              "    <div class=\"colab-df-buttons\">\n",
              "\n",
              "  <div class=\"colab-df-container\">\n",
              "    <button class=\"colab-df-convert\" onclick=\"convertToInteractive('df-b38fbe10-7915-4fdc-a5ed-3ea5b1c579e6')\"\n",
              "            title=\"Convert this dataframe to an interactive table.\"\n",
              "            style=\"display:none;\">\n",
              "\n",
              "  <svg xmlns=\"http://www.w3.org/2000/svg\" height=\"24px\" viewBox=\"0 -960 960 960\">\n",
              "    <path d=\"M120-120v-720h720v720H120Zm60-500h600v-160H180v160Zm220 220h160v-160H400v160Zm0 220h160v-160H400v160ZM180-400h160v-160H180v160Zm440 0h160v-160H620v160ZM180-180h160v-160H180v160Zm440 0h160v-160H620v160Z\"/>\n",
              "  </svg>\n",
              "    </button>\n",
              "\n",
              "  <style>\n",
              "    .colab-df-container {\n",
              "      display:flex;\n",
              "      gap: 12px;\n",
              "    }\n",
              "\n",
              "    .colab-df-convert {\n",
              "      background-color: #E8F0FE;\n",
              "      border: none;\n",
              "      border-radius: 50%;\n",
              "      cursor: pointer;\n",
              "      display: none;\n",
              "      fill: #1967D2;\n",
              "      height: 32px;\n",
              "      padding: 0 0 0 0;\n",
              "      width: 32px;\n",
              "    }\n",
              "\n",
              "    .colab-df-convert:hover {\n",
              "      background-color: #E2EBFA;\n",
              "      box-shadow: 0px 1px 2px rgba(60, 64, 67, 0.3), 0px 1px 3px 1px rgba(60, 64, 67, 0.15);\n",
              "      fill: #174EA6;\n",
              "    }\n",
              "\n",
              "    .colab-df-buttons div {\n",
              "      margin-bottom: 4px;\n",
              "    }\n",
              "\n",
              "    [theme=dark] .colab-df-convert {\n",
              "      background-color: #3B4455;\n",
              "      fill: #D2E3FC;\n",
              "    }\n",
              "\n",
              "    [theme=dark] .colab-df-convert:hover {\n",
              "      background-color: #434B5C;\n",
              "      box-shadow: 0px 1px 3px 1px rgba(0, 0, 0, 0.15);\n",
              "      filter: drop-shadow(0px 1px 2px rgba(0, 0, 0, 0.3));\n",
              "      fill: #FFFFFF;\n",
              "    }\n",
              "  </style>\n",
              "\n",
              "    <script>\n",
              "      const buttonEl =\n",
              "        document.querySelector('#df-b38fbe10-7915-4fdc-a5ed-3ea5b1c579e6 button.colab-df-convert');\n",
              "      buttonEl.style.display =\n",
              "        google.colab.kernel.accessAllowed ? 'block' : 'none';\n",
              "\n",
              "      async function convertToInteractive(key) {\n",
              "        const element = document.querySelector('#df-b38fbe10-7915-4fdc-a5ed-3ea5b1c579e6');\n",
              "        const dataTable =\n",
              "          await google.colab.kernel.invokeFunction('convertToInteractive',\n",
              "                                                    [key], {});\n",
              "        if (!dataTable) return;\n",
              "\n",
              "        const docLinkHtml = 'Like what you see? Visit the ' +\n",
              "          '<a target=\"_blank\" href=https://colab.research.google.com/notebooks/data_table.ipynb>data table notebook</a>'\n",
              "          + ' to learn more about interactive tables.';\n",
              "        element.innerHTML = '';\n",
              "        dataTable['output_type'] = 'display_data';\n",
              "        await google.colab.output.renderOutput(dataTable, element);\n",
              "        const docLink = document.createElement('div');\n",
              "        docLink.innerHTML = docLinkHtml;\n",
              "        element.appendChild(docLink);\n",
              "      }\n",
              "    </script>\n",
              "  </div>\n",
              "\n",
              "\n",
              "<div id=\"df-9dbe7f6e-88ec-438d-a2ea-730d1a857bd9\">\n",
              "  <button class=\"colab-df-quickchart\" onclick=\"quickchart('df-9dbe7f6e-88ec-438d-a2ea-730d1a857bd9')\"\n",
              "            title=\"Suggest charts\"\n",
              "            style=\"display:none;\">\n",
              "\n",
              "<svg xmlns=\"http://www.w3.org/2000/svg\" height=\"24px\"viewBox=\"0 0 24 24\"\n",
              "     width=\"24px\">\n",
              "    <g>\n",
              "        <path d=\"M19 3H5c-1.1 0-2 .9-2 2v14c0 1.1.9 2 2 2h14c1.1 0 2-.9 2-2V5c0-1.1-.9-2-2-2zM9 17H7v-7h2v7zm4 0h-2V7h2v10zm4 0h-2v-4h2v4z\"/>\n",
              "    </g>\n",
              "</svg>\n",
              "  </button>\n",
              "\n",
              "<style>\n",
              "  .colab-df-quickchart {\n",
              "      --bg-color: #E8F0FE;\n",
              "      --fill-color: #1967D2;\n",
              "      --hover-bg-color: #E2EBFA;\n",
              "      --hover-fill-color: #174EA6;\n",
              "      --disabled-fill-color: #AAA;\n",
              "      --disabled-bg-color: #DDD;\n",
              "  }\n",
              "\n",
              "  [theme=dark] .colab-df-quickchart {\n",
              "      --bg-color: #3B4455;\n",
              "      --fill-color: #D2E3FC;\n",
              "      --hover-bg-color: #434B5C;\n",
              "      --hover-fill-color: #FFFFFF;\n",
              "      --disabled-bg-color: #3B4455;\n",
              "      --disabled-fill-color: #666;\n",
              "  }\n",
              "\n",
              "  .colab-df-quickchart {\n",
              "    background-color: var(--bg-color);\n",
              "    border: none;\n",
              "    border-radius: 50%;\n",
              "    cursor: pointer;\n",
              "    display: none;\n",
              "    fill: var(--fill-color);\n",
              "    height: 32px;\n",
              "    padding: 0;\n",
              "    width: 32px;\n",
              "  }\n",
              "\n",
              "  .colab-df-quickchart:hover {\n",
              "    background-color: var(--hover-bg-color);\n",
              "    box-shadow: 0 1px 2px rgba(60, 64, 67, 0.3), 0 1px 3px 1px rgba(60, 64, 67, 0.15);\n",
              "    fill: var(--button-hover-fill-color);\n",
              "  }\n",
              "\n",
              "  .colab-df-quickchart-complete:disabled,\n",
              "  .colab-df-quickchart-complete:disabled:hover {\n",
              "    background-color: var(--disabled-bg-color);\n",
              "    fill: var(--disabled-fill-color);\n",
              "    box-shadow: none;\n",
              "  }\n",
              "\n",
              "  .colab-df-spinner {\n",
              "    border: 2px solid var(--fill-color);\n",
              "    border-color: transparent;\n",
              "    border-bottom-color: var(--fill-color);\n",
              "    animation:\n",
              "      spin 1s steps(1) infinite;\n",
              "  }\n",
              "\n",
              "  @keyframes spin {\n",
              "    0% {\n",
              "      border-color: transparent;\n",
              "      border-bottom-color: var(--fill-color);\n",
              "      border-left-color: var(--fill-color);\n",
              "    }\n",
              "    20% {\n",
              "      border-color: transparent;\n",
              "      border-left-color: var(--fill-color);\n",
              "      border-top-color: var(--fill-color);\n",
              "    }\n",
              "    30% {\n",
              "      border-color: transparent;\n",
              "      border-left-color: var(--fill-color);\n",
              "      border-top-color: var(--fill-color);\n",
              "      border-right-color: var(--fill-color);\n",
              "    }\n",
              "    40% {\n",
              "      border-color: transparent;\n",
              "      border-right-color: var(--fill-color);\n",
              "      border-top-color: var(--fill-color);\n",
              "    }\n",
              "    60% {\n",
              "      border-color: transparent;\n",
              "      border-right-color: var(--fill-color);\n",
              "    }\n",
              "    80% {\n",
              "      border-color: transparent;\n",
              "      border-right-color: var(--fill-color);\n",
              "      border-bottom-color: var(--fill-color);\n",
              "    }\n",
              "    90% {\n",
              "      border-color: transparent;\n",
              "      border-bottom-color: var(--fill-color);\n",
              "    }\n",
              "  }\n",
              "</style>\n",
              "\n",
              "  <script>\n",
              "    async function quickchart(key) {\n",
              "      const quickchartButtonEl =\n",
              "        document.querySelector('#' + key + ' button');\n",
              "      quickchartButtonEl.disabled = true;  // To prevent multiple clicks.\n",
              "      quickchartButtonEl.classList.add('colab-df-spinner');\n",
              "      try {\n",
              "        const charts = await google.colab.kernel.invokeFunction(\n",
              "            'suggestCharts', [key], {});\n",
              "      } catch (error) {\n",
              "        console.error('Error during call to suggestCharts:', error);\n",
              "      }\n",
              "      quickchartButtonEl.classList.remove('colab-df-spinner');\n",
              "      quickchartButtonEl.classList.add('colab-df-quickchart-complete');\n",
              "    }\n",
              "    (() => {\n",
              "      let quickchartButtonEl =\n",
              "        document.querySelector('#df-9dbe7f6e-88ec-438d-a2ea-730d1a857bd9 button');\n",
              "      quickchartButtonEl.style.display =\n",
              "        google.colab.kernel.accessAllowed ? 'block' : 'none';\n",
              "    })();\n",
              "  </script>\n",
              "</div>\n",
              "\n",
              "    </div>\n",
              "  </div>\n"
            ]
          },
          "metadata": {}
        }
      ],
      "source": [
        "with pd.option_context('display.max_colwidth',0):\n",
        "  display(train_data.head(n=5))"
      ]
    },
    {
      "cell_type": "markdown",
      "metadata": {
        "id": "BXoaLj158_Zg"
      },
      "source": [
        "## Evaluation Matrices"
      ]
    },
    {
      "cell_type": "code",
      "execution_count": null,
      "metadata": {
        "id": "BWHo0J-b8-gx"
      },
      "outputs": [],
      "source": [
        "def print_metrices(true,pred):\n",
        "    print(confusion_matrix(true,pred))\n",
        "    print(classification_report(true,pred))\n",
        "    print(\"Accuracy : \",accuracy_score(true,pred))\n",
        "    print(\"Precison : \",precision_score(true,pred, average = 'weighted'))\n",
        "    print(\"Recall : \",recall_score(true,pred,  average = 'weighted'))\n",
        "    print(\"F1 : \",f1_score(true,pred,  average = 'weighted'))"
      ]
    },
    {
      "cell_type": "markdown",
      "metadata": {
        "id": "nGn4lVGr9FGn"
      },
      "source": [
        "## Confusion Matrices"
      ]
    },
    {
      "cell_type": "code",
      "execution_count": null,
      "metadata": {
        "id": "BYtEie4p9IXw"
      },
      "outputs": [],
      "source": [
        "## Confusion matrix function\n",
        "def con_mat(true,pred,class_names,model_name):\n",
        "  cm = confusion_matrix(true,pred)\n",
        "  #sns.set()\n",
        "  plt.figure(figsize =(4, 3))\n",
        "  ax = plt.subplot()\n",
        " # 'Greys', 'Purples', 'Blues', 'Greens', 'Oranges', 'Reds','YlOrBr', 'YlOrRd', 'OrRd', 'PuRd', 'RdPu', 'BuPu',\n",
        "            #'GnBu', 'PuBu', 'YlGnBu', 'PuBuGn', 'BuGn', 'YlGn'\n",
        "  sns.heatmap(cm, annot=True,fmt=\"d\",cmap='YlOrRd', ax = ax,annot_kws={\"size\": 10},) #annot=True to annotate cells\n",
        "  # labels, title and ticks\n",
        "  ax.set_xlabel('Predicted labels',fontsize=10)\n",
        "  ax.set_ylabel('True labels',fontsize=10)\n",
        "  #ax.set_title(f'Confusion Matrix of {model_name}',fontsize=10)\n",
        "  ax.xaxis.set_ticklabels(class_names, rotation=45); ax.yaxis.set_ticklabels(class_names, rotation=45);\n",
        "  ax.xaxis.tick_top()\n",
        " # plt.savefig(folder_path + f\"{model_name}.png\",bbox_inches='tight',dpi =500)"
      ]
    },
    {
      "cell_type": "markdown",
      "metadata": {
        "id": "pQO54IuvVmkT"
      },
      "source": [
        "## Text Models"
      ]
    },
    {
      "cell_type": "code",
      "execution_count": null,
      "metadata": {
        "colab": {
          "base_uri": "https://localhost:8080/"
        },
        "id": "0EGXDK8nVpvs",
        "outputId": "1410f140-cc8b-4087-80f5-f24a07c0ff90"
      },
      "outputs": [
        {
          "output_type": "stream",
          "name": "stdout",
          "text": [
            "Requirement already satisfied: transformers in /usr/local/lib/python3.10/dist-packages (4.35.2)\n",
            "Requirement already satisfied: filelock in /usr/local/lib/python3.10/dist-packages (from transformers) (3.13.1)\n",
            "Requirement already satisfied: huggingface-hub<1.0,>=0.16.4 in /usr/local/lib/python3.10/dist-packages (from transformers) (0.20.1)\n",
            "Requirement already satisfied: numpy>=1.17 in /usr/local/lib/python3.10/dist-packages (from transformers) (1.23.5)\n",
            "Requirement already satisfied: packaging>=20.0 in /usr/local/lib/python3.10/dist-packages (from transformers) (23.2)\n",
            "Requirement already satisfied: pyyaml>=5.1 in /usr/local/lib/python3.10/dist-packages (from transformers) (6.0.1)\n",
            "Requirement already satisfied: regex!=2019.12.17 in /usr/local/lib/python3.10/dist-packages (from transformers) (2023.6.3)\n",
            "Requirement already satisfied: requests in /usr/local/lib/python3.10/dist-packages (from transformers) (2.31.0)\n",
            "Requirement already satisfied: tokenizers<0.19,>=0.14 in /usr/local/lib/python3.10/dist-packages (from transformers) (0.15.0)\n",
            "Requirement already satisfied: safetensors>=0.3.1 in /usr/local/lib/python3.10/dist-packages (from transformers) (0.4.1)\n",
            "Requirement already satisfied: tqdm>=4.27 in /usr/local/lib/python3.10/dist-packages (from transformers) (4.66.1)\n",
            "Requirement already satisfied: fsspec>=2023.5.0 in /usr/local/lib/python3.10/dist-packages (from huggingface-hub<1.0,>=0.16.4->transformers) (2023.6.0)\n",
            "Requirement already satisfied: typing-extensions>=3.7.4.3 in /usr/local/lib/python3.10/dist-packages (from huggingface-hub<1.0,>=0.16.4->transformers) (4.5.0)\n",
            "Requirement already satisfied: charset-normalizer<4,>=2 in /usr/local/lib/python3.10/dist-packages (from requests->transformers) (3.3.2)\n",
            "Requirement already satisfied: idna<4,>=2.5 in /usr/local/lib/python3.10/dist-packages (from requests->transformers) (3.6)\n",
            "Requirement already satisfied: urllib3<3,>=1.21.1 in /usr/local/lib/python3.10/dist-packages (from requests->transformers) (2.0.7)\n",
            "Requirement already satisfied: certifi>=2017.4.17 in /usr/local/lib/python3.10/dist-packages (from requests->transformers) (2023.11.17)\n"
          ]
        }
      ],
      "source": [
        "!pip install transformers"
      ]
    },
    {
      "cell_type": "code",
      "execution_count": null,
      "metadata": {
        "id": "Ln0dteURVpsM"
      },
      "outputs": [],
      "source": [
        "############################## Sentence Encoding for Transformers\n",
        "\n",
        "def bert_encode(data,maximum_length,tokenizer) :\n",
        "  input_ids = []\n",
        "  attention_masks = []\n",
        "\n",
        "\n",
        "  for i in range(len(data)):#.Captions\n",
        "      encoded = tokenizer.encode_plus(\n",
        "\n",
        "        data[i],#.Captions\n",
        "        add_special_tokens=True,\n",
        "        max_length=maximum_length,\n",
        "        pad_to_max_length=True,\n",
        "        truncation=True,\n",
        "        return_attention_mask=True,\n",
        "\n",
        "      )\n",
        "\n",
        "      input_ids.append(encoded['input_ids'])\n",
        "      attention_masks.append(encoded['attention_mask'])\n",
        "  return np.array(input_ids),np.array(attention_masks)"
      ]
    },
    {
      "cell_type": "code",
      "execution_count": null,
      "metadata": {
        "id": "exfN2gFbVpdj"
      },
      "outputs": [],
      "source": [
        "#######################################             Model Defination\n",
        "def create_model(bert_model,max_len):\n",
        "  input_ids = Input(shape=(max_len,),dtype='int32')\n",
        "  attention_masks = Input(shape=(max_len,),dtype='int32')\n",
        "  output = bert_model([input_ids,attention_masks])\n",
        "  output = output[0]                                ## 0 for distillbert\n",
        "  #output = Dense(32,activation='relu')(output[:, 0, :])\n",
        "  #output = Dropout(0.1)(output)\n",
        "  output = Dense(1,activation='sigmoid')(output[:, 0, :])\n",
        "  model = Model(inputs = [input_ids,attention_masks],outputs = output)\n",
        "  return model"
      ]
    },
    {
      "cell_type": "code",
      "execution_count": null,
      "metadata": {
        "colab": {
          "base_uri": "https://localhost:8080/"
        },
        "id": "uBbudEJ1a5lZ",
        "outputId": "c74238b3-16f2-49c9-84d3-b5123817e689"
      },
      "outputs": [
        {
          "output_type": "stream",
          "name": "stdout",
          "text": [
            "Collecting sentencepiece\n",
            "  Downloading sentencepiece-0.1.99-cp310-cp310-manylinux_2_17_x86_64.manylinux2014_x86_64.whl (1.3 MB)\n",
            "\u001b[2K     \u001b[90m━━━━━━━━━━━━━━━━━━━━━━━━━━━━━━━━━━━━━━━━\u001b[0m \u001b[32m1.3/1.3 MB\u001b[0m \u001b[31m7.0 MB/s\u001b[0m eta \u001b[36m0:00:00\u001b[0m\n",
            "\u001b[?25hInstalling collected packages: sentencepiece\n",
            "Successfully installed sentencepiece-0.1.99\n"
          ]
        },
        {
          "output_type": "stream",
          "name": "stderr",
          "text": [
            "UsageError: Line magic function `%` not found.\n"
          ]
        }
      ],
      "source": [
        "!pip install sentencepiece\n",
        "#import sentencepiece\n",
        "% git clone https://github.com/google/sentencepiece.git\n",
        "% cd sentencepiece\n",
        "% mkdir build\n",
        "% cd build\n",
        "% cmake .. -DSPM_ENABLE_SHARED=OFF -DCMAKE_INSTALL_PREFIX=./root\n",
        "% make install\n",
        "% cd ../python\n",
        "% python setup.py bdist_wheel\n",
        "% pip install dist/sentencepiece*.whl"
      ]
    },
    {
      "cell_type": "code",
      "execution_count": null,
      "metadata": {
        "id": "oJeWchgvVpaL"
      },
      "outputs": [],
      "source": [
        "from transformers import XLMRobertaTokenizer\n",
        "tokenizer = XLMRobertaTokenizer.from_pretrained('xlm-roberta-base')"
      ]
    },
    {
      "cell_type": "code",
      "execution_count": null,
      "metadata": {
        "id": "TiaLEpFoSKFM"
      },
      "outputs": [],
      "source": [
        "#from transformers import BertTokenizer\n",
        "\n",
        "#tokenizer = BertTokenizer.from_pretrained('bert-base-uncased')"
      ]
    },
    {
      "cell_type": "code",
      "execution_count": null,
      "metadata": {
        "id": "A34cX_urVpYL"
      },
      "outputs": [],
      "source": [
        "train_input_ids,train_attention_masks = bert_encode(train_data['cleanText'],50,tokenizer)\n",
        "valid_input_ids,valid_attention_masks = bert_encode(dev_data['cleanText'],50,tokenizer)\n",
        "test_input_ids,test_attention_masks = bert_encode(test_data['cleanText'],50,tokenizer)"
      ]
    },
    {
      "cell_type": "code",
      "execution_count": null,
      "metadata": {
        "id": "rE2k2N-lVpV6"
      },
      "outputs": [],
      "source": [
        "from transformers import TFXLMRobertaModel\n",
        "xlm_model = TFXLMRobertaModel.from_pretrained(\"jplu/tf-xlm-roberta-base\")"
      ]
    },
    {
      "cell_type": "code",
      "execution_count": null,
      "metadata": {
        "id": "c1cGfGMCSTkS"
      },
      "outputs": [],
      "source": [
        "#from transformers import TFBertModel\n",
        "\n",
        "#bert_model = TFBertModel.from_pretrained(\"bert-base-uncased\")\n"
      ]
    },
    {
      "cell_type": "code",
      "execution_count": null,
      "metadata": {
        "id": "aNswjHGgVpL0"
      },
      "outputs": [],
      "source": [
        "### Checkpoint\n",
        "filepath = '/content/drive/MyDrive/Colab Notebooks/xlmr-1.h5'\n",
        "checkpoint = keras.callbacks.ModelCheckpoint(filepath, monitor='val_accuracy', verbose=2, save_best_only=True,\n",
        "                                             save_weights_only=True, mode='max' )\n"
      ]
    },
    {
      "cell_type": "code",
      "execution_count": null,
      "metadata": {
        "id": "Ecn-fwsgZKMJ"
      },
      "outputs": [],
      "source": [
        "keras.backend.clear_session()\n",
        "# 3e-4, 1e-4, 5e-5, 3e-5,1e-5\n",
        "model = create_model(xlm_model,50)\n",
        "model.compile(Adam(lr=1e-6), loss='binary_crossentropy', metrics=['accuracy'])\n",
        "#model.summary()"
      ]
    },
    {
      "cell_type": "code",
      "execution_count": null,
      "metadata": {
        "id": "nwNibAO8ZJ-E"
      },
      "outputs": [],
      "source": [
        "model.fit([train_input_ids,train_attention_masks],\n",
        "                    train_data['enc_label'],\n",
        "                    validation_data = ([valid_input_ids,valid_attention_masks], dev_data['enc_label']),\n",
        "                    epochs=6,\n",
        "                    batch_size=16,\n",
        "                    callbacks = [checkpoint]\n",
        "                    # class_weight = weight\n",
        "          )"
      ]
    },
    {
      "cell_type": "code",
      "execution_count": null,
      "metadata": {
        "id": "b9SPTj9OZJ6r"
      },
      "outputs": [],
      "source": [
        "model2 = create_model(xlm_model,50)\n",
        "model2.load_weights(filepath)\n",
        "y_pred = (model2.predict([valid_input_ids,valid_attention_masks])>0.5).astype(int)\n",
        "#y_pred = np.argmax(pred,axis=1)\n",
        "y_true = dev_data['enc_label']\n",
        "print_metrices(y_true,y_pred)"
      ]
    },
    {
      "cell_type": "code",
      "execution_count": null,
      "metadata": {
        "id": "_vvyrUIgM6Vq"
      },
      "outputs": [],
      "source": [
        "con_mat(y_true,y_pred,['non-hate','hate'],\"XLMRoBERTa\")"
      ]
    },
    {
      "cell_type": "code",
      "source": [],
      "metadata": {
        "id": "Yx8QH5uyZAbD"
      },
      "execution_count": null,
      "outputs": []
    },
    {
      "cell_type": "code",
      "source": [
        "import json\n",
        "import zipfile\n",
        "\n",
        "# Assuming Atest is your DataFrame with an \"index\" column and y_pred is your predicted labels\n",
        "# Replace y_pred with your actual predicted labels\n",
        "predicted_result = pd.DataFrame()\n",
        "predicted_result['index'] = imgnames\n",
        "predicted_result['prediction'] = y_pred\n",
        "# Create a DataFrame with \"index\" and \"prediction\" columns\n",
        "#submission_df = pd.DataFrame({\"index\": imgnames, \"prediction\": y_pred})\n",
        "\n",
        "# Sort the DataFrame based on the \"index\" column\n",
        "submission_df = predicted_result.sort_values(by=\"index\")\n",
        "\n",
        "# Define the path to save the submission file\n",
        "submission_file_path = \"submission.json\"\n",
        "\n",
        "# Save the DataFrame to a JSON file\n",
        "submission_df.to_json(submission_file_path, orient=\"records\", lines=True)\n",
        "\n",
        "# Zip the JSON file\n",
        "with zipfile.ZipFile(\"ref.zip\", \"w\") as zipf:\n",
        "    zipf.write(submission_file_path, arcname=\"submission.json\")"
      ],
      "metadata": {
        "id": "ppd0lH2VZAAy"
      },
      "execution_count": null,
      "outputs": []
    },
    {
      "cell_type": "markdown",
      "metadata": {
        "id": "hhp_nbOKaS6b"
      },
      "source": [
        "## Fetch Image"
      ]
    },
    {
      "cell_type": "code",
      "execution_count": null,
      "metadata": {
        "colab": {
          "base_uri": "https://localhost:8080/",
          "height": 374
        },
        "outputId": "41fef7c1-bfc6-44d1-edb1-a974035b6fa2",
        "id": "4cOHxqjzaS6b"
      },
      "outputs": [
        {
          "output_type": "stream",
          "name": "stdout",
          "text": [
            "/content/drive/MyDrive/CASE2023_Task4/CASE2023_TASK4_TrainData/subTaskA/No Hate Speech/10139.jpg\n"
          ]
        },
        {
          "output_type": "execute_result",
          "data": {
            "text/plain": [
              "'Near Belgorod, Russia 12:36 AM BREAKING NEWS UKRAINE: RUSSIAN ROCKET ATTACKS HIT NEIGHBORHOODS IN KHARKIV CAN THE LEAD'"
            ],
            "application/vnd.google.colaboratory.intrinsic+json": {
              "type": "string"
            }
          },
          "metadata": {},
          "execution_count": 28
        },
        {
          "output_type": "display_data",
          "data": {
            "text/plain": [
              "<Figure size 640x480 with 1 Axes>"
            ],
            "image/png": "[encoded data removed]"
          },
          "metadata": {}
        }
      ],
      "source": [
        "n =3\n",
        "print(train_data['filename'][n])\n",
        "from matplotlib import image as im\n",
        "data = im.imread(train_data['filename'][n])\n",
        "plt.figure()\n",
        "plt.axis('off')\n",
        "plt.imshow(data)\n",
        "plt.title(train_data['Label'][n])\n",
        "#plt.savefig(folder_path+\"human-D.png\",bbox_inches='tight')\n",
        "train_data['text'][n]"
      ]
    },
    {
      "cell_type": "code",
      "execution_count": null,
      "metadata": {
        "id": "48Ahcl0caS6b"
      },
      "outputs": [],
      "source": [
        "# Function that returns image reading from the path\n",
        "def get_input(path):\n",
        "    # Loading image from given path\n",
        "    # and resizing it to 150*150*3 format\n",
        "    ImageFile.LOAD_TRUNCATED_IMAGES = True\n",
        "    img= image.load_img(path, target_size=(150,150))\n",
        "    # img.close()\n",
        "    return(img)\n",
        "\n",
        "# Takes in image and preprocess it\n",
        "def process_input(img):\n",
        "    # Converting image to array\n",
        "    img_data = image.img_to_array(img)\n",
        "    # Adding one more dimension to array\n",
        "    img_data = np.expand_dims(img_data, axis=0)\n",
        "    #\n",
        "    img_data = preprocess_input(img_data)\n",
        "    #img_data = preprocess_input(img_data)\n",
        "    return(img_data)\n"
      ]
    },
    {
      "cell_type": "code",
      "execution_count": null,
      "metadata": {
        "id": "61rWgrvxaS6b"
      },
      "outputs": [],
      "source": [
        "# Create an array of training images\n",
        "train_images = []\n",
        "for file in train_data['filename']:\n",
        "  input_img = get_input(file)\n",
        "  process_img = process_input(input_img)\n",
        "  #print(train_data['Level'][i])\n",
        "  train_images.append(process_img[0])"
      ]
    },
    {
      "cell_type": "code",
      "execution_count": null,
      "metadata": {
        "id": "DSpGxmsTaS6c"
      },
      "outputs": [],
      "source": [
        "dev_images = []\n",
        "for file in dev_data['filename']:\n",
        "  input_img = get_input(file)\n",
        "  process_img = process_input(input_img)\n",
        "  #print(train_data['Level'][i])\n",
        "  dev_images.append(process_img[0])"
      ]
    },
    {
      "cell_type": "code",
      "execution_count": null,
      "metadata": {
        "id": "t_cKcWRHaS6c"
      },
      "outputs": [],
      "source": [
        "test_images = []\n",
        "for file in test_data['filename']:\n",
        "  input_img = get_input(file)\n",
        "  process_img = process_input(input_img)\n",
        "  #print(train_data['Level'][i])\n",
        "  test_images.append(process_img[0])"
      ]
    },
    {
      "cell_type": "code",
      "execution_count": null,
      "metadata": {
        "colab": {
          "base_uri": "https://localhost:8080/"
        },
        "outputId": "534ab702-51ce-40c4-95fe-bc41af2be6af",
        "id": "BEj9PXONaS6c"
      },
      "outputs": [
        {
          "output_type": "stream",
          "name": "stdout",
          "text": [
            "length of train image 3600\n",
            "length of test image 443\n",
            "length of dev image 443\n"
          ]
        }
      ],
      "source": [
        "# convert into numpy array\n",
        "train_image = np.array(train_images)\n",
        "dev_image = np.array(dev_images)\n",
        "test_image = np.array(test_images)\n",
        "print(f\"length of train image {len(train_image)}\")\n",
        "print(f\"length of test image {len(test_image)}\")\n",
        "print(f\"length of dev image {len(dev_image)}\")"
      ]
    },
    {
      "cell_type": "code",
      "execution_count": null,
      "metadata": {
        "id": "vN4VMJGhaS6c"
      },
      "outputs": [],
      "source": [
        "train_image.shape"
      ]
    },
    {
      "cell_type": "code",
      "execution_count": null,
      "metadata": {
        "id": "Ar82BYeeaS6c"
      },
      "outputs": [],
      "source": [
        "train_data['image']=train_image\n",
        "dev_data['image']=dev_image\n",
        "test_data['image']=test_image"
      ]
    },
    {
      "cell_type": "code",
      "execution_count": null,
      "metadata": {
        "id": "dirQ3ZLWaS6c"
      },
      "outputs": [],
      "source": [
        "train_data.to_csv('trainstAwithimages.csv')"
      ]
    },
    {
      "cell_type": "code",
      "execution_count": null,
      "metadata": {
        "id": "CCw9vr5iaS6c"
      },
      "outputs": [],
      "source": [
        "#train_data['image'].shape"
      ]
    },
    {
      "cell_type": "markdown",
      "source": [
        "## Visual Model"
      ],
      "metadata": {
        "id": "kVRxFbZfnYTm"
      }
    },
    {
      "cell_type": "code",
      "source": [
        "from transformers import ViTImageProcessor\n",
        "\n",
        "model_name_or_path = 'google/vit-base-patch16-224-in21k'\n",
        "processor = ViTImageProcessor.from_pretrained(model_name_or_path)\n"
      ],
      "metadata": {
        "colab": {
          "base_uri": "https://localhost:8080/",
          "height": 49,
          "referenced_widgets": [
            "d4b9f122edc5411dadec47aa8882d763",
            "2dc04412f68a4fb99206693915e8777b",
            "b8ba5b02a6d347c28488297f3670e5ab",
            "d13b2f87a9634b3184cd83040324f2b0",
            "f9fed94fa8ce4b08a1080a49a83abaa0",
            "aa2e1958eb7e46208424e998c089b1c5",
            "4e0b49de8f2e4e7a9e16e96c07d04afb",
            "a1bb0cdfdd144f18b438f79c9f6f622f",
            "3369c350e2354f0d83cdbf4c849945d8",
            "312b4f9f33d444a1b6ab5f6a77b1b024",
            "9a2c6e0bf01343e0a3b1213c3671d89a"
          ]
        },
        "id": "W_GktzDdneT6",
        "outputId": "612b5407-c33e-453a-89d8-1d3609e22a2b"
      },
      "execution_count": null,
      "outputs": [
        {
          "output_type": "display_data",
          "data": {
            "text/plain": [
              "preprocessor_config.json:   0%|          | 0.00/160 [00:00<?, ?B/s]"
            ],
            "application/vnd.jupyter.widget-view+json": {
              "version_major": 2,
              "version_minor": 0,
              "model_id": "d4b9f122edc5411dadec47aa8882d763"
            }
          },
          "metadata": {}
        }
      ]
    },
    {
      "cell_type": "code",
      "source": [
        "def process_example(example):\n",
        "    inputs = processor(example['image'], return_tensors='pt')\n",
        "    inputs['labels'] = example['labels']\n",
        "    return inputs\n"
      ],
      "metadata": {
        "id": "HBR3TjRNneQc"
      },
      "execution_count": null,
      "outputs": []
    },
    {
      "cell_type": "code",
      "source": [
        "\n",
        "\n",
        "def transform(example_batch):\n",
        "    # Take a list of PIL images and turn them to pixel values\n",
        "    inputs = processor([x for x in example_batch['image']], return_tensors='pt')\n",
        "\n",
        "    # Don't forget to include the labels!\n",
        "    inputs['labels'] = example_batch['enc_label']\n",
        "    return inputs\n"
      ],
      "metadata": {
        "id": "gKCRX9mDneNt"
      },
      "execution_count": null,
      "outputs": []
    },
    {
      "cell_type": "code",
      "source": [
        "train_ds = train_data.with_transform(transform)\n",
        "dev_ds = dev_data.with_transform(transform)\n",
        "test_ds = test_data.with_transform(transform)"
      ],
      "metadata": {
        "colab": {
          "base_uri": "https://localhost:8080/",
          "height": 331
        },
        "id": "sGZHUzE0neK0",
        "outputId": "a643ff55-e3ef-44ba-b861-111259cd47cd"
      },
      "execution_count": null,
      "outputs": [
        {
          "output_type": "error",
          "ename": "AttributeError",
          "evalue": "ignored",
          "traceback": [
            "\u001b[0;31m---------------------------------------------------------------------------\u001b[0m",
            "\u001b[0;31mAttributeError\u001b[0m                            Traceback (most recent call last)",
            "\u001b[0;32m<ipython-input-65-b1698873bda7>\u001b[0m in \u001b[0;36m<cell line: 1>\u001b[0;34m()\u001b[0m\n\u001b[0;32m----> 1\u001b[0;31m \u001b[0mtrain_ds\u001b[0m \u001b[0;34m=\u001b[0m \u001b[0mtrain_data\u001b[0m\u001b[0;34m.\u001b[0m\u001b[0mwith_transform\u001b[0m\u001b[0;34m(\u001b[0m\u001b[0mtransform\u001b[0m\u001b[0;34m)\u001b[0m\u001b[0;34m\u001b[0m\u001b[0;34m\u001b[0m\u001b[0m\n\u001b[0m\u001b[1;32m      2\u001b[0m \u001b[0mdev_ds\u001b[0m \u001b[0;34m=\u001b[0m \u001b[0mdev_data\u001b[0m\u001b[0;34m.\u001b[0m\u001b[0mwith_transform\u001b[0m\u001b[0;34m(\u001b[0m\u001b[0mtransform\u001b[0m\u001b[0;34m)\u001b[0m\u001b[0;34m\u001b[0m\u001b[0;34m\u001b[0m\u001b[0m\n\u001b[1;32m      3\u001b[0m \u001b[0mtest_ds\u001b[0m \u001b[0;34m=\u001b[0m \u001b[0mtest_data\u001b[0m\u001b[0;34m.\u001b[0m\u001b[0mwith_transform\u001b[0m\u001b[0;34m(\u001b[0m\u001b[0mtransform\u001b[0m\u001b[0;34m)\u001b[0m\u001b[0;34m\u001b[0m\u001b[0;34m\u001b[0m\u001b[0m\n",
            "\u001b[0;32m/usr/local/lib/python3.10/dist-packages/pandas/core/generic.py\u001b[0m in \u001b[0;36m__getattr__\u001b[0;34m(self, name)\u001b[0m\n\u001b[1;32m   5900\u001b[0m         ):\n\u001b[1;32m   5901\u001b[0m             \u001b[0;32mreturn\u001b[0m \u001b[0mself\u001b[0m\u001b[0;34m[\u001b[0m\u001b[0mname\u001b[0m\u001b[0;34m]\u001b[0m\u001b[0;34m\u001b[0m\u001b[0;34m\u001b[0m\u001b[0m\n\u001b[0;32m-> 5902\u001b[0;31m         \u001b[0;32mreturn\u001b[0m \u001b[0mobject\u001b[0m\u001b[0;34m.\u001b[0m\u001b[0m__getattribute__\u001b[0m\u001b[0;34m(\u001b[0m\u001b[0mself\u001b[0m\u001b[0;34m,\u001b[0m \u001b[0mname\u001b[0m\u001b[0;34m)\u001b[0m\u001b[0;34m\u001b[0m\u001b[0;34m\u001b[0m\u001b[0m\n\u001b[0m\u001b[1;32m   5903\u001b[0m \u001b[0;34m\u001b[0m\u001b[0m\n\u001b[1;32m   5904\u001b[0m     \u001b[0;32mdef\u001b[0m \u001b[0m__setattr__\u001b[0m\u001b[0;34m(\u001b[0m\u001b[0mself\u001b[0m\u001b[0;34m,\u001b[0m \u001b[0mname\u001b[0m\u001b[0;34m:\u001b[0m \u001b[0mstr\u001b[0m\u001b[0;34m,\u001b[0m \u001b[0mvalue\u001b[0m\u001b[0;34m)\u001b[0m \u001b[0;34m->\u001b[0m \u001b[0;32mNone\u001b[0m\u001b[0;34m:\u001b[0m\u001b[0;34m\u001b[0m\u001b[0;34m\u001b[0m\u001b[0m\n",
            "\u001b[0;31mAttributeError\u001b[0m: 'DataFrame' object has no attribute 'with_transform'"
          ]
        }
      ]
    },
    {
      "cell_type": "code",
      "source": [
        "import torch\n",
        "\n",
        "def collate_fn(batch):\n",
        "    return {\n",
        "        'pixel_values': torch.stack([x['pixel_values'] for x in batch]),\n",
        "        'labels': torch.tensor([x['labels'] for x in batch])\n",
        "    }\n"
      ],
      "metadata": {
        "id": "EZS4jhpmneIH"
      },
      "execution_count": null,
      "outputs": []
    },
    {
      "cell_type": "code",
      "source": [
        "import numpy as np\n",
        "!pip install datasets\n",
        "\n",
        "from datasets import load_metric\n",
        "\n",
        "metric = load_metric(\"accuracy\")\n",
        "def compute_metrics(p):\n",
        "    return metric.compute(predictions=np.argmax(p.predictions, axis=1), references=p.label_ids)\n"
      ],
      "metadata": {
        "colab": {
          "base_uri": "https://localhost:8080/",
          "height": 746,
          "referenced_widgets": [
            "98146a6b618140498d7d7c2ce838c7a2",
            "67238b3b37a84e619be78ce299eecc02",
            "2452f2e718e2485a8760179a4eef8cc6",
            "80b2a7c6f26946ccb330c6fccd9b4c81",
            "144f1fa133fa432b968da3897733036c",
            "69adbc39791c49d1a61a976328f9d3b1",
            "ec9d50105c5040e1880bafb9a01c5230",
            "547c5c6e5d6040aca40ec548244b6e82",
            "bc01c00f46ae45c7944bd84944d9d68a",
            "4aa65c2f51f9450ab19901f8cc2be6bf",
            "ed19aeec75b649e3932a98951f7012fe"
          ]
        },
        "id": "5OHAkafzneDa",
        "outputId": "1d72d3d4-6641-4354-9f3d-44959bf92843"
      },
      "execution_count": null,
      "outputs": [
        {
          "output_type": "stream",
          "name": "stdout",
          "text": [
            "Collecting datasets\n",
            "  Downloading datasets-2.16.1-py3-none-any.whl (507 kB)\n",
            "\u001b[2K     \u001b[90m━━━━━━━━━━━━━━━━━━━━━━━━━━━━━━━━━━━━━━━━\u001b[0m \u001b[32m507.1/507.1 kB\u001b[0m \u001b[31m6.4 MB/s\u001b[0m eta \u001b[36m0:00:00\u001b[0m\n",
            "\u001b[?25hRequirement already satisfied: filelock in /usr/local/lib/python3.10/dist-packages (from datasets) (3.13.1)\n",
            "Requirement already satisfied: numpy>=1.17 in /usr/local/lib/python3.10/dist-packages (from datasets) (1.23.5)\n",
            "Requirement already satisfied: pyarrow>=8.0.0 in /usr/local/lib/python3.10/dist-packages (from datasets) (10.0.1)\n",
            "Collecting pyarrow-hotfix (from datasets)\n",
            "  Downloading pyarrow_hotfix-0.6-py3-none-any.whl (7.9 kB)\n",
            "Collecting dill<0.3.8,>=0.3.0 (from datasets)\n",
            "  Downloading dill-0.3.7-py3-none-any.whl (115 kB)\n",
            "\u001b[2K     \u001b[90m━━━━━━━━━━━━━━━━━━━━━━━━━━━━━━━━━━━━━━━━\u001b[0m \u001b[32m115.3/115.3 kB\u001b[0m \u001b[31m10.2 MB/s\u001b[0m eta \u001b[36m0:00:00\u001b[0m\n",
            "\u001b[?25hRequirement already satisfied: pandas in /usr/local/lib/python3.10/dist-packages (from datasets) (1.5.3)\n",
            "Requirement already satisfied: requests>=2.19.0 in /usr/local/lib/python3.10/dist-packages (from datasets) (2.31.0)\n",
            "Requirement already satisfied: tqdm>=4.62.1 in /usr/local/lib/python3.10/dist-packages (from datasets) (4.66.1)\n",
            "Requirement already satisfied: xxhash in /usr/local/lib/python3.10/dist-packages (from datasets) (3.4.1)\n",
            "Collecting multiprocess (from datasets)\n",
            "  Downloading multiprocess-0.70.15-py310-none-any.whl (134 kB)\n",
            "\u001b[2K     \u001b[90m━━━━━━━━━━━━━━━━━━━━━━━━━━━━━━━━━━━━━━━━\u001b[0m \u001b[32m134.8/134.8 kB\u001b[0m \u001b[31m14.7 MB/s\u001b[0m eta \u001b[36m0:00:00\u001b[0m\n",
            "\u001b[?25hRequirement already satisfied: fsspec[http]<=2023.10.0,>=2023.1.0 in /usr/local/lib/python3.10/dist-packages (from datasets) (2023.6.0)\n",
            "Requirement already satisfied: aiohttp in /usr/local/lib/python3.10/dist-packages (from datasets) (3.9.1)\n",
            "Requirement already satisfied: huggingface-hub>=0.19.4 in /usr/local/lib/python3.10/dist-packages (from datasets) (0.20.1)\n",
            "Requirement already satisfied: packaging in /usr/local/lib/python3.10/dist-packages (from datasets) (23.2)\n",
            "Requirement already satisfied: pyyaml>=5.1 in /usr/local/lib/python3.10/dist-packages (from datasets) (6.0.1)\n",
            "Requirement already satisfied: attrs>=17.3.0 in /usr/local/lib/python3.10/dist-packages (from aiohttp->datasets) (23.1.0)\n",
            "Requirement already satisfied: multidict<7.0,>=4.5 in /usr/local/lib/python3.10/dist-packages (from aiohttp->datasets) (6.0.4)\n",
            "Requirement already satisfied: yarl<2.0,>=1.0 in /usr/local/lib/python3.10/dist-packages (from aiohttp->datasets) (1.9.4)\n",
            "Requirement already satisfied: frozenlist>=1.1.1 in /usr/local/lib/python3.10/dist-packages (from aiohttp->datasets) (1.4.1)\n",
            "Requirement already satisfied: aiosignal>=1.1.2 in /usr/local/lib/python3.10/dist-packages (from aiohttp->datasets) (1.3.1)\n",
            "Requirement already satisfied: async-timeout<5.0,>=4.0 in /usr/local/lib/python3.10/dist-packages (from aiohttp->datasets) (4.0.3)\n",
            "Requirement already satisfied: typing-extensions>=3.7.4.3 in /usr/local/lib/python3.10/dist-packages (from huggingface-hub>=0.19.4->datasets) (4.5.0)\n",
            "Requirement already satisfied: charset-normalizer<4,>=2 in /usr/local/lib/python3.10/dist-packages (from requests>=2.19.0->datasets) (3.3.2)\n",
            "Requirement already satisfied: idna<4,>=2.5 in /usr/local/lib/python3.10/dist-packages (from requests>=2.19.0->datasets) (3.6)\n",
            "Requirement already satisfied: urllib3<3,>=1.21.1 in /usr/local/lib/python3.10/dist-packages (from requests>=2.19.0->datasets) (2.0.7)\n",
            "Requirement already satisfied: certifi>=2017.4.17 in /usr/local/lib/python3.10/dist-packages (from requests>=2.19.0->datasets) (2023.11.17)\n",
            "Requirement already satisfied: python-dateutil>=2.8.1 in /usr/local/lib/python3.10/dist-packages (from pandas->datasets) (2.8.2)\n",
            "Requirement already satisfied: pytz>=2020.1 in /usr/local/lib/python3.10/dist-packages (from pandas->datasets) (2023.3.post1)\n",
            "Requirement already satisfied: six>=1.5 in /usr/local/lib/python3.10/dist-packages (from python-dateutil>=2.8.1->pandas->datasets) (1.16.0)\n",
            "Installing collected packages: pyarrow-hotfix, dill, multiprocess, datasets\n",
            "Successfully installed datasets-2.16.1 dill-0.3.7 multiprocess-0.70.15 pyarrow-hotfix-0.6\n"
          ]
        },
        {
          "output_type": "display_data",
          "data": {
            "text/plain": [
              "Downloading builder script:   0%|          | 0.00/1.65k [00:00<?, ?B/s]"
            ],
            "application/vnd.jupyter.widget-view+json": {
              "version_major": 2,
              "version_minor": 0,
              "model_id": "98146a6b618140498d7d7c2ce838c7a2"
            }
          },
          "metadata": {}
        }
      ]
    },
    {
      "cell_type": "code",
      "source": [
        "from transformers import ViTForImageClassification\n",
        "\n",
        "labels = train_data['enc_label']\n",
        "\n",
        "model = ViTForImageClassification.from_pretrained(\n",
        "    model_name_or_path,\n",
        "    num_labels=len(labels),\n",
        "    id2label={str(i): c for i, c in enumerate(labels)},\n",
        "    label2id={c: str(i) for i, c in enumerate(labels)}\n",
        ")\n"
      ],
      "metadata": {
        "colab": {
          "base_uri": "https://localhost:8080/",
          "height": 136,
          "referenced_widgets": [
            "872bb0ba963948e2ae7f1d2d3e4fce5e",
            "9fbbdf9b6b3044898859e2a7539a6a8c",
            "daefe019adf0432486a910a2950b9a01",
            "f934bd614ba043f0aa3dbcf74df6bb59",
            "8326c6572d734f75ab74552c476b9c7a",
            "5023d95536ce46ebaac0a240cc0b99a3",
            "dd9fcc4ffc644ab9a5388d95112594ee",
            "4df1c71e784943eea744830557362e56",
            "486d3918f325461894b4249851b9f0dd",
            "7720ce4cd84a47a7b9092b0c40a3aef2",
            "cda5dc76a1c6481b912ba51267d65b02",
            "e5229beddbed4b0c944bab99e5a6f8d4",
            "2ddedfeebc2c4fa8b5d3ad89061bd1d2",
            "09d89d0cae2f4d9c91a04444b020c15c",
            "667f48e949694a588ca2bdd560c8a6bf",
            "98497f5c9ebe4da8b6e367917005cad2",
            "c0c26306a86c432bb2ff8771dfc4141c",
            "292fc4b58fd34aad9916f5fee2cfdc2f",
            "1c82081b56804215867ebd6a14daf3b3",
            "8172dbb260824a1282c52eac35624374",
            "318ae25e6d9e48e38d02a424c63c8d1f",
            "84018b78292048e79d8258b3df2d13ac"
          ]
        },
        "id": "fNOGdjC0nd_l",
        "outputId": "bb5ee5fb-e0ee-46d5-b604-bfd30b7e05a8"
      },
      "execution_count": null,
      "outputs": [
        {
          "output_type": "display_data",
          "data": {
            "text/plain": [
              "config.json:   0%|          | 0.00/502 [00:00<?, ?B/s]"
            ],
            "application/vnd.jupyter.widget-view+json": {
              "version_major": 2,
              "version_minor": 0,
              "model_id": "872bb0ba963948e2ae7f1d2d3e4fce5e"
            }
          },
          "metadata": {}
        },
        {
          "output_type": "display_data",
          "data": {
            "text/plain": [
              "pytorch_model.bin:   0%|          | 0.00/346M [00:00<?, ?B/s]"
            ],
            "application/vnd.jupyter.widget-view+json": {
              "version_major": 2,
              "version_minor": 0,
              "model_id": "e5229beddbed4b0c944bab99e5a6f8d4"
            }
          },
          "metadata": {}
        },
        {
          "output_type": "stream",
          "name": "stderr",
          "text": [
            "Some weights of ViTForImageClassification were not initialized from the model checkpoint at google/vit-base-patch16-224-in21k and are newly initialized: ['classifier.bias', 'classifier.weight']\n",
            "You should probably TRAIN this model on a down-stream task to be able to use it for predictions and inference.\n"
          ]
        }
      ]
    },
    {
      "cell_type": "code",
      "source": [
        "#!pip install accelerate>=0.20.1\n",
        "#!pip install transformers[torch]\n",
        "#!pip install transformers accelerate -U"
      ],
      "metadata": {
        "colab": {
          "base_uri": "https://localhost:8080/",
          "height": 740
        },
        "id": "rFVc9qsRoBhR",
        "outputId": "3ac83fae-eede-4e88-ea0d-dd560a9d3bcc"
      },
      "execution_count": null,
      "outputs": [
        {
          "output_type": "stream",
          "name": "stdout",
          "text": [
            "Requirement already satisfied: transformers in /usr/local/lib/python3.10/dist-packages (4.35.2)\n",
            "Collecting transformers\n",
            "  Downloading transformers-4.36.2-py3-none-any.whl (8.2 MB)\n",
            "\u001b[2K     \u001b[90m━━━━━━━━━━━━━━━━━━━━━━━━━━━━━━━━━━━━━━━━\u001b[0m \u001b[32m8.2/8.2 MB\u001b[0m \u001b[31m28.5 MB/s\u001b[0m eta \u001b[36m0:00:00\u001b[0m\n",
            "\u001b[?25hRequirement already satisfied: accelerate in /usr/local/lib/python3.10/dist-packages (0.25.0)\n",
            "Requirement already satisfied: filelock in /usr/local/lib/python3.10/dist-packages (from transformers) (3.13.1)\n",
            "Requirement already satisfied: huggingface-hub<1.0,>=0.19.3 in /usr/local/lib/python3.10/dist-packages (from transformers) (0.20.1)\n",
            "Requirement already satisfied: numpy>=1.17 in /usr/local/lib/python3.10/dist-packages (from transformers) (1.23.5)\n",
            "Requirement already satisfied: packaging>=20.0 in /usr/local/lib/python3.10/dist-packages (from transformers) (23.2)\n",
            "Requirement already satisfied: pyyaml>=5.1 in /usr/local/lib/python3.10/dist-packages (from transformers) (6.0.1)\n",
            "Requirement already satisfied: regex!=2019.12.17 in /usr/local/lib/python3.10/dist-packages (from transformers) (2023.6.3)\n",
            "Requirement already satisfied: requests in /usr/local/lib/python3.10/dist-packages (from transformers) (2.31.0)\n",
            "Requirement already satisfied: tokenizers<0.19,>=0.14 in /usr/local/lib/python3.10/dist-packages (from transformers) (0.15.0)\n",
            "Requirement already satisfied: safetensors>=0.3.1 in /usr/local/lib/python3.10/dist-packages (from transformers) (0.4.1)\n",
            "Requirement already satisfied: tqdm>=4.27 in /usr/local/lib/python3.10/dist-packages (from transformers) (4.66.1)\n",
            "Requirement already satisfied: psutil in /usr/local/lib/python3.10/dist-packages (from accelerate) (5.9.5)\n",
            "Requirement already satisfied: torch>=1.10.0 in /usr/local/lib/python3.10/dist-packages (from accelerate) (2.1.0+cu121)\n",
            "Requirement already satisfied: fsspec>=2023.5.0 in /usr/local/lib/python3.10/dist-packages (from huggingface-hub<1.0,>=0.19.3->transformers) (2023.6.0)\n",
            "Requirement already satisfied: typing-extensions>=3.7.4.3 in /usr/local/lib/python3.10/dist-packages (from huggingface-hub<1.0,>=0.19.3->transformers) (4.5.0)\n",
            "Requirement already satisfied: sympy in /usr/local/lib/python3.10/dist-packages (from torch>=1.10.0->accelerate) (1.12)\n",
            "Requirement already satisfied: networkx in /usr/local/lib/python3.10/dist-packages (from torch>=1.10.0->accelerate) (3.2.1)\n",
            "Requirement already satisfied: jinja2 in /usr/local/lib/python3.10/dist-packages (from torch>=1.10.0->accelerate) (3.1.2)\n",
            "Requirement already satisfied: triton==2.1.0 in /usr/local/lib/python3.10/dist-packages (from torch>=1.10.0->accelerate) (2.1.0)\n",
            "Requirement already satisfied: charset-normalizer<4,>=2 in /usr/local/lib/python3.10/dist-packages (from requests->transformers) (3.3.2)\n",
            "Requirement already satisfied: idna<4,>=2.5 in /usr/local/lib/python3.10/dist-packages (from requests->transformers) (3.6)\n",
            "Requirement already satisfied: urllib3<3,>=1.21.1 in /usr/local/lib/python3.10/dist-packages (from requests->transformers) (2.0.7)\n",
            "Requirement already satisfied: certifi>=2017.4.17 in /usr/local/lib/python3.10/dist-packages (from requests->transformers) (2023.11.17)\n",
            "Requirement already satisfied: MarkupSafe>=2.0 in /usr/local/lib/python3.10/dist-packages (from jinja2->torch>=1.10.0->accelerate) (2.1.3)\n",
            "Requirement already satisfied: mpmath>=0.19 in /usr/local/lib/python3.10/dist-packages (from sympy->torch>=1.10.0->accelerate) (1.3.0)\n",
            "Installing collected packages: transformers\n",
            "  Attempting uninstall: transformers\n",
            "    Found existing installation: transformers 4.35.2\n",
            "    Uninstalling transformers-4.35.2:\n",
            "      Successfully uninstalled transformers-4.35.2\n",
            "Successfully installed transformers-4.36.2\n"
          ]
        },
        {
          "output_type": "display_data",
          "data": {
            "application/vnd.colab-display-data+json": {
              "pip_warning": {
                "packages": [
                  "transformers"
                ]
              }
            }
          },
          "metadata": {}
        }
      ]
    },
    {
      "cell_type": "code",
      "source": [
        "#!pip install transformers==4.17\n",
        "!pip uninstall transformers accelerate\n",
        "!pip install transformers accelerate\n",
        "\n",
        "from transformers import TrainingArguments\n",
        "\n",
        "training_args = TrainingArguments(\n",
        "  output_dir=\"/content/drive/MyDrive/Colab Notebooks/vit-base-3.h5\",\n",
        "  per_device_train_batch_size=16,\n",
        "  evaluation_strategy=\"steps\",\n",
        "  num_train_epochs=4,\n",
        "  fp16=True,\n",
        "  save_steps=100,\n",
        "  eval_steps=100,\n",
        "  logging_steps=10,\n",
        "  learning_rate=2e-4,\n",
        "  save_total_limit=2,\n",
        "  remove_unused_columns=False,\n",
        "  push_to_hub=False,\n",
        "  report_to='tensorboard',\n",
        "  load_best_model_at_end=True,\n",
        ")\n"
      ],
      "metadata": {
        "colab": {
          "base_uri": "https://localhost:8080/",
          "height": 1000
        },
        "id": "ur9stlVknd7a",
        "outputId": "f8307641-a390-4803-9829-08fb7bb181c0"
      },
      "execution_count": null,
      "outputs": [
        {
          "output_type": "stream",
          "name": "stdout",
          "text": [
            "Found existing installation: transformers 4.36.2\n",
            "Uninstalling transformers-4.36.2:\n",
            "  Would remove:\n",
            "    /usr/local/bin/transformers-cli\n",
            "    /usr/local/lib/python3.10/dist-packages/transformers-4.36.2.dist-info/*\n",
            "    /usr/local/lib/python3.10/dist-packages/transformers/*\n",
            "Proceed (Y/n)? Y\n",
            "  Successfully uninstalled transformers-4.36.2\n",
            "Found existing installation: accelerate 0.25.0\n",
            "Uninstalling accelerate-0.25.0:\n",
            "  Would remove:\n",
            "    /usr/local/bin/accelerate\n",
            "    /usr/local/bin/accelerate-config\n",
            "    /usr/local/bin/accelerate-estimate-memory\n",
            "    /usr/local/bin/accelerate-launch\n",
            "    /usr/local/lib/python3.10/dist-packages/accelerate-0.25.0.dist-info/*\n",
            "    /usr/local/lib/python3.10/dist-packages/accelerate/*\n",
            "Proceed (Y/n)? Y\n",
            "  Successfully uninstalled accelerate-0.25.0\n",
            "Collecting transformers\n",
            "  Using cached transformers-4.36.2-py3-none-any.whl (8.2 MB)\n",
            "Collecting accelerate\n",
            "  Using cached accelerate-0.25.0-py3-none-any.whl (265 kB)\n",
            "Requirement already satisfied: filelock in /usr/local/lib/python3.10/dist-packages (from transformers) (3.13.1)\n",
            "Requirement already satisfied: huggingface-hub<1.0,>=0.19.3 in /usr/local/lib/python3.10/dist-packages (from transformers) (0.20.1)\n",
            "Requirement already satisfied: numpy>=1.17 in /usr/local/lib/python3.10/dist-packages (from transformers) (1.23.5)\n",
            "Requirement already satisfied: packaging>=20.0 in /usr/local/lib/python3.10/dist-packages (from transformers) (23.2)\n",
            "Requirement already satisfied: pyyaml>=5.1 in /usr/local/lib/python3.10/dist-packages (from transformers) (6.0.1)\n",
            "Requirement already satisfied: regex!=2019.12.17 in /usr/local/lib/python3.10/dist-packages (from transformers) (2023.6.3)\n",
            "Requirement already satisfied: requests in /usr/local/lib/python3.10/dist-packages (from transformers) (2.31.0)\n",
            "Requirement already satisfied: tokenizers<0.19,>=0.14 in /usr/local/lib/python3.10/dist-packages (from transformers) (0.15.0)\n",
            "Requirement already satisfied: safetensors>=0.3.1 in /usr/local/lib/python3.10/dist-packages (from transformers) (0.4.1)\n",
            "Requirement already satisfied: tqdm>=4.27 in /usr/local/lib/python3.10/dist-packages (from transformers) (4.66.1)\n",
            "Requirement already satisfied: psutil in /usr/local/lib/python3.10/dist-packages (from accelerate) (5.9.5)\n",
            "Requirement already satisfied: torch>=1.10.0 in /usr/local/lib/python3.10/dist-packages (from accelerate) (2.1.0+cu121)\n",
            "Requirement already satisfied: fsspec>=2023.5.0 in /usr/local/lib/python3.10/dist-packages (from huggingface-hub<1.0,>=0.19.3->transformers) (2023.6.0)\n",
            "Requirement already satisfied: typing-extensions>=3.7.4.3 in /usr/local/lib/python3.10/dist-packages (from huggingface-hub<1.0,>=0.19.3->transformers) (4.5.0)\n",
            "Requirement already satisfied: sympy in /usr/local/lib/python3.10/dist-packages (from torch>=1.10.0->accelerate) (1.12)\n",
            "Requirement already satisfied: networkx in /usr/local/lib/python3.10/dist-packages (from torch>=1.10.0->accelerate) (3.2.1)\n",
            "Requirement already satisfied: jinja2 in /usr/local/lib/python3.10/dist-packages (from torch>=1.10.0->accelerate) (3.1.2)\n",
            "Requirement already satisfied: triton==2.1.0 in /usr/local/lib/python3.10/dist-packages (from torch>=1.10.0->accelerate) (2.1.0)\n",
            "Requirement already satisfied: charset-normalizer<4,>=2 in /usr/local/lib/python3.10/dist-packages (from requests->transformers) (3.3.2)\n",
            "Requirement already satisfied: idna<4,>=2.5 in /usr/local/lib/python3.10/dist-packages (from requests->transformers) (3.6)\n",
            "Requirement already satisfied: urllib3<3,>=1.21.1 in /usr/local/lib/python3.10/dist-packages (from requests->transformers) (2.0.7)\n",
            "Requirement already satisfied: certifi>=2017.4.17 in /usr/local/lib/python3.10/dist-packages (from requests->transformers) (2023.11.17)\n",
            "Requirement already satisfied: MarkupSafe>=2.0 in /usr/local/lib/python3.10/dist-packages (from jinja2->torch>=1.10.0->accelerate) (2.1.3)\n",
            "Requirement already satisfied: mpmath>=0.19 in /usr/local/lib/python3.10/dist-packages (from sympy->torch>=1.10.0->accelerate) (1.3.0)\n",
            "Installing collected packages: accelerate, transformers\n",
            "Successfully installed accelerate-0.25.0 transformers-4.36.2\n"
          ]
        },
        {
          "output_type": "display_data",
          "data": {
            "application/vnd.colab-display-data+json": {
              "pip_warning": {
                "packages": [
                  "transformers"
                ]
              }
            }
          },
          "metadata": {}
        },
        {
          "output_type": "error",
          "ename": "ImportError",
          "evalue": "ignored",
          "traceback": [
            "\u001b[0;31m---------------------------------------------------------------------------\u001b[0m",
            "\u001b[0;31mImportError\u001b[0m                               Traceback (most recent call last)",
            "\u001b[0;32m<ipython-input-86-06c8ac8a0dc5>\u001b[0m in \u001b[0;36m<cell line: 7>\u001b[0;34m()\u001b[0m\n\u001b[1;32m      5\u001b[0m \u001b[0;32mfrom\u001b[0m \u001b[0mtransformers\u001b[0m \u001b[0;32mimport\u001b[0m \u001b[0mTrainingArguments\u001b[0m\u001b[0;34m\u001b[0m\u001b[0;34m\u001b[0m\u001b[0m\n\u001b[1;32m      6\u001b[0m \u001b[0;34m\u001b[0m\u001b[0m\n\u001b[0;32m----> 7\u001b[0;31m training_args = TrainingArguments(\n\u001b[0m\u001b[1;32m      8\u001b[0m   \u001b[0moutput_dir\u001b[0m\u001b[0;34m=\u001b[0m\u001b[0;34m\"/content/drive/MyDrive/Colab Notebooks/vit-base-3.h5\"\u001b[0m\u001b[0;34m,\u001b[0m\u001b[0;34m\u001b[0m\u001b[0;34m\u001b[0m\u001b[0m\n\u001b[1;32m      9\u001b[0m   \u001b[0mper_device_train_batch_size\u001b[0m\u001b[0;34m=\u001b[0m\u001b[0;36m16\u001b[0m\u001b[0;34m,\u001b[0m\u001b[0;34m\u001b[0m\u001b[0;34m\u001b[0m\u001b[0m\n",
            "\u001b[0;32m/usr/local/lib/python3.10/dist-packages/transformers/training_args.py\u001b[0m in \u001b[0;36m__init__\u001b[0;34m(self, output_dir, overwrite_output_dir, do_train, do_eval, do_predict, evaluation_strategy, prediction_loss_only, per_device_train_batch_size, per_device_eval_batch_size, per_gpu_train_batch_size, per_gpu_eval_batch_size, gradient_accumulation_steps, eval_accumulation_steps, eval_delay, learning_rate, weight_decay, adam_beta1, adam_beta2, adam_epsilon, max_grad_norm, num_train_epochs, max_steps, lr_scheduler_type, warmup_ratio, warmup_steps, log_level, log_level_replica, log_on_each_node, logging_dir, logging_strategy, logging_first_step, logging_steps, logging_nan_inf_filter, save_strategy, save_steps, save_total_limit, save_safetensors, save_on_each_node, no_cuda, use_cpu, use_mps_device, seed, data_seed, jit_mode_eval, use_ipex, bf16, fp16, fp16_opt_level, half_precision_backend, bf16_full_eval, fp16_full_eval, tf32, local_rank, ddp_backend, tpu_num_cores, tpu_metrics_debug, debug, dataloader_drop_last, eval_steps, dataloader_num_workers, past_index, run_name, disable_tqdm, remove_unused_columns, label_names, load_best_model_at_end, metric_for_best_model, greater_is_better, ignore_data_skip, fsdp, fsdp_min_num_params, fsdp_config, fsdp_transformer_layer_cls_to_wrap, deepspeed, label_smoothing_factor, optim, optim_args, adafactor, group_by_length, length_column_name, report_to, ddp_find_unused_parameters, ddp_bucket_cap_mb, ddp_broadcast_buffers, dataloader_pin_memo...\n",
            "\u001b[0;32m/usr/local/lib/python3.10/dist-packages/transformers/training_args.py\u001b[0m in \u001b[0;36m__post_init__\u001b[0;34m(self)\u001b[0m\n\u001b[1;32m   1440\u001b[0m                         )\n\u001b[1;32m   1441\u001b[0m                     \u001b[0;32melif\u001b[0m \u001b[0mis_torch_npu_available\u001b[0m\u001b[0;34m(\u001b[0m\u001b[0;34m)\u001b[0m\u001b[0;34m:\u001b[0m\u001b[0;34m\u001b[0m\u001b[0;34m\u001b[0m\u001b[0m\n\u001b[0;32m-> 1442\u001b[0;31m                         \u001b[0;31m# npu\u001b[0m\u001b[0;34m\u001b[0m\u001b[0;34m\u001b[0m\u001b[0m\n\u001b[0m\u001b[1;32m   1443\u001b[0m                         \u001b[0;32mfrom\u001b[0m \u001b[0;34m.\u001b[0m\u001b[0mpytorch_utils\u001b[0m \u001b[0;32mimport\u001b[0m \u001b[0mis_torch_greater_or_equal_than_1_11\u001b[0m\u001b[0;34m\u001b[0m\u001b[0;34m\u001b[0m\u001b[0m\n\u001b[1;32m   1444\u001b[0m \u001b[0;34m\u001b[0m\u001b[0m\n",
            "\u001b[0;32m/usr/local/lib/python3.10/dist-packages/transformers/training_args.py\u001b[0m in \u001b[0;36mdevice\u001b[0;34m(self)\u001b[0m\n\u001b[1;32m   1885\u001b[0m             \u001b[0mself\u001b[0m\u001b[0;34m.\u001b[0m\u001b[0m_n_gpu\u001b[0m \u001b[0;34m=\u001b[0m \u001b[0;36m0\u001b[0m\u001b[0;34m\u001b[0m\u001b[0;34m\u001b[0m\u001b[0m\n\u001b[1;32m   1886\u001b[0m         \u001b[0;32melif\u001b[0m \u001b[0mis_sagemaker_dp_enabled\u001b[0m\u001b[0;34m(\u001b[0m\u001b[0;34m)\u001b[0m \u001b[0;32mor\u001b[0m \u001b[0mis_sagemaker_mp_enabled\u001b[0m\u001b[0;34m(\u001b[0m\u001b[0;34m)\u001b[0m\u001b[0;34m:\u001b[0m\u001b[0;34m\u001b[0m\u001b[0;34m\u001b[0m\u001b[0m\n\u001b[0;32m-> 1887\u001b[0;31m             \u001b[0;31m# Already set _n_gpu\u001b[0m\u001b[0;34m\u001b[0m\u001b[0;34m\u001b[0m\u001b[0m\n\u001b[0m\u001b[1;32m   1888\u001b[0m             \u001b[0;32mpass\u001b[0m\u001b[0;34m\u001b[0m\u001b[0;34m\u001b[0m\u001b[0m\n\u001b[1;32m   1889\u001b[0m         \u001b[0;32melif\u001b[0m \u001b[0mself\u001b[0m\u001b[0;34m.\u001b[0m\u001b[0mdistributed_state\u001b[0m\u001b[0;34m.\u001b[0m\u001b[0mdistributed_type\u001b[0m \u001b[0;34m==\u001b[0m \u001b[0mDistributedType\u001b[0m\u001b[0;34m.\u001b[0m\u001b[0mMULTI_XPU\u001b[0m\u001b[0;34m:\u001b[0m\u001b[0;34m\u001b[0m\u001b[0;34m\u001b[0m\u001b[0m\n",
            "\u001b[0;32m/usr/local/lib/python3.10/dist-packages/transformers/utils/generic.py\u001b[0m in \u001b[0;36m__get__\u001b[0;34m(self, obj, objtype)\u001b[0m\n\u001b[1;32m     52\u001b[0m         \u001b[0mcached\u001b[0m \u001b[0;34m=\u001b[0m \u001b[0mgetattr\u001b[0m\u001b[0;34m(\u001b[0m\u001b[0mobj\u001b[0m\u001b[0;34m,\u001b[0m \u001b[0mattr\u001b[0m\u001b[0;34m,\u001b[0m \u001b[0;32mNone\u001b[0m\u001b[0;34m)\u001b[0m\u001b[0;34m\u001b[0m\u001b[0;34m\u001b[0m\u001b[0m\n\u001b[1;32m     53\u001b[0m         \u001b[0;32mif\u001b[0m \u001b[0mcached\u001b[0m \u001b[0;32mis\u001b[0m \u001b[0;32mNone\u001b[0m\u001b[0;34m:\u001b[0m\u001b[0;34m\u001b[0m\u001b[0;34m\u001b[0m\u001b[0m\n\u001b[0;32m---> 54\u001b[0;31m             \u001b[0mcached\u001b[0m \u001b[0;34m=\u001b[0m \u001b[0mself\u001b[0m\u001b[0;34m.\u001b[0m\u001b[0mfget\u001b[0m\u001b[0;34m(\u001b[0m\u001b[0mobj\u001b[0m\u001b[0;34m)\u001b[0m\u001b[0;34m\u001b[0m\u001b[0;34m\u001b[0m\u001b[0m\n\u001b[0m\u001b[1;32m     55\u001b[0m             \u001b[0msetattr\u001b[0m\u001b[0;34m(\u001b[0m\u001b[0mobj\u001b[0m\u001b[0;34m,\u001b[0m \u001b[0mattr\u001b[0m\u001b[0;34m,\u001b[0m \u001b[0mcached\u001b[0m\u001b[0;34m)\u001b[0m\u001b[0;34m\u001b[0m\u001b[0;34m\u001b[0m\u001b[0m\n\u001b[1;32m     56\u001b[0m         \u001b[0;32mreturn\u001b[0m \u001b[0mcached\u001b[0m\u001b[0;34m\u001b[0m\u001b[0;34m\u001b[0m\u001b[0m\n",
            "\u001b[0;32m/usr/local/lib/python3.10/dist-packages/transformers/training_args.py\u001b[0m in \u001b[0;36m_setup_devices\u001b[0;34m(self)\u001b[0m\n\u001b[1;32m   1785\u001b[0m     \u001b[0;32mdef\u001b[0m \u001b[0m__str__\u001b[0m\u001b[0;34m(\u001b[0m\u001b[0mself\u001b[0m\u001b[0;34m)\u001b[0m\u001b[0;34m:\u001b[0m\u001b[0;34m\u001b[0m\u001b[0;34m\u001b[0m\u001b[0m\n\u001b[1;32m   1786\u001b[0m         \u001b[0mself_as_dict\u001b[0m \u001b[0;34m=\u001b[0m \u001b[0masdict\u001b[0m\u001b[0;34m(\u001b[0m\u001b[0mself\u001b[0m\u001b[0;34m)\u001b[0m\u001b[0;34m\u001b[0m\u001b[0;34m\u001b[0m\u001b[0m\n\u001b[0;32m-> 1787\u001b[0;31m \u001b[0;34m\u001b[0m\u001b[0m\n\u001b[0m\u001b[1;32m   1788\u001b[0m         \u001b[0;31m# Remove deprecated arguments. That code should be removed once\u001b[0m\u001b[0;34m\u001b[0m\u001b[0;34m\u001b[0m\u001b[0m\n\u001b[1;32m   1789\u001b[0m         \u001b[0;31m# those deprecated arguments are removed from TrainingArguments. (TODO: v5)\u001b[0m\u001b[0;34m\u001b[0m\u001b[0;34m\u001b[0m\u001b[0m\n",
            "\u001b[0;31mImportError\u001b[0m: Using the `Trainer` with `PyTorch` requires `accelerate>=0.20.1`: Please run `pip install transformers[torch]` or `pip install accelerate -U`",
            "",
            "\u001b[0;31m---------------------------------------------------------------------------\u001b[0;32m\nNOTE: If your import is failing due to a missing package, you can\nmanually install dependencies using either !pip or !apt.\n\nTo view examples of installing some common dependencies, click the\n\"Open Examples\" button below.\n\u001b[0;31m---------------------------------------------------------------------------\u001b[0m\n"
          ],
          "errorDetails": {
            "actions": [
              {
                "action": "open_url",
                "actionText": "Open Examples",
                "url": "/notebooks/snippets/importing_libraries.ipynb"
              }
            ]
          }
        }
      ]
    },
    {
      "cell_type": "code",
      "source": [
        "!pip install --upgrade transformers\n",
        "\n",
        "from transformers import Trainer\n",
        "\n",
        "trainer = Trainer(\n",
        "    model=model,\n",
        "    args=training_args,\n",
        "    data_collator=collate_fn,\n",
        "    compute_metrics=compute_metrics,\n",
        "    train_dataset=train_data,\n",
        "    eval_dataset=dev_data,\n",
        "    tokenizer=processor,\n",
        ")\n"
      ],
      "metadata": {
        "colab": {
          "base_uri": "https://localhost:8080/",
          "height": 559
        },
        "id": "TwKA-4vend4z",
        "outputId": "d6fc3da1-f6bb-4389-9e08-368c3aa7b528"
      },
      "execution_count": null,
      "outputs": [
        {
          "output_type": "stream",
          "name": "stdout",
          "text": [
            "Requirement already satisfied: transformers in /usr/local/lib/python3.10/dist-packages (4.36.2)\n",
            "Requirement already satisfied: filelock in /usr/local/lib/python3.10/dist-packages (from transformers) (3.13.1)\n",
            "Requirement already satisfied: huggingface-hub<1.0,>=0.19.3 in /usr/local/lib/python3.10/dist-packages (from transformers) (0.20.1)\n",
            "Requirement already satisfied: numpy>=1.17 in /usr/local/lib/python3.10/dist-packages (from transformers) (1.23.5)\n",
            "Requirement already satisfied: packaging>=20.0 in /usr/local/lib/python3.10/dist-packages (from transformers) (23.2)\n",
            "Requirement already satisfied: pyyaml>=5.1 in /usr/local/lib/python3.10/dist-packages (from transformers) (6.0.1)\n",
            "Requirement already satisfied: regex!=2019.12.17 in /usr/local/lib/python3.10/dist-packages (from transformers) (2023.6.3)\n",
            "Requirement already satisfied: requests in /usr/local/lib/python3.10/dist-packages (from transformers) (2.31.0)\n",
            "Requirement already satisfied: tokenizers<0.19,>=0.14 in /usr/local/lib/python3.10/dist-packages (from transformers) (0.15.0)\n",
            "Requirement already satisfied: safetensors>=0.3.1 in /usr/local/lib/python3.10/dist-packages (from transformers) (0.4.1)\n",
            "Requirement already satisfied: tqdm>=4.27 in /usr/local/lib/python3.10/dist-packages (from transformers) (4.66.1)\n",
            "Requirement already satisfied: fsspec>=2023.5.0 in /usr/local/lib/python3.10/dist-packages (from huggingface-hub<1.0,>=0.19.3->transformers) (2023.6.0)\n",
            "Requirement already satisfied: typing-extensions>=3.7.4.3 in /usr/local/lib/python3.10/dist-packages (from huggingface-hub<1.0,>=0.19.3->transformers) (4.5.0)\n",
            "Requirement already satisfied: charset-normalizer<4,>=2 in /usr/local/lib/python3.10/dist-packages (from requests->transformers) (3.3.2)\n",
            "Requirement already satisfied: idna<4,>=2.5 in /usr/local/lib/python3.10/dist-packages (from requests->transformers) (3.6)\n",
            "Requirement already satisfied: urllib3<3,>=1.21.1 in /usr/local/lib/python3.10/dist-packages (from requests->transformers) (2.0.7)\n",
            "Requirement already satisfied: certifi>=2017.4.17 in /usr/local/lib/python3.10/dist-packages (from requests->transformers) (2023.11.17)\n"
          ]
        },
        {
          "output_type": "error",
          "ename": "TypeError",
          "evalue": "ignored",
          "traceback": [
            "\u001b[0;31m---------------------------------------------------------------------------\u001b[0m",
            "\u001b[0;31mTypeError\u001b[0m                                 Traceback (most recent call last)",
            "\u001b[0;32m<ipython-input-85-56ea20370e5a>\u001b[0m in \u001b[0;36m<cell line: 5>\u001b[0;34m()\u001b[0m\n\u001b[1;32m      3\u001b[0m \u001b[0;32mfrom\u001b[0m \u001b[0mtransformers\u001b[0m \u001b[0;32mimport\u001b[0m \u001b[0mTrainer\u001b[0m\u001b[0;34m\u001b[0m\u001b[0;34m\u001b[0m\u001b[0m\n\u001b[1;32m      4\u001b[0m \u001b[0;34m\u001b[0m\u001b[0m\n\u001b[0;32m----> 5\u001b[0;31m trainer = Trainer(\n\u001b[0m\u001b[1;32m      6\u001b[0m     \u001b[0mmodel\u001b[0m\u001b[0;34m=\u001b[0m\u001b[0mmodel\u001b[0m\u001b[0;34m,\u001b[0m\u001b[0;31m#\u001b[0m\u001b[0;34m\u001b[0m\u001b[0;34m\u001b[0m\u001b[0m\n\u001b[1;32m      7\u001b[0m     \u001b[0moutput_dir\u001b[0m\u001b[0;34m=\u001b[0m\u001b[0;34m\"/content/drive/MyDrive/Colab Notebooks/vit-base-3.h5\"\u001b[0m\u001b[0;34m,\u001b[0m\u001b[0;34m\u001b[0m\u001b[0;34m\u001b[0m\u001b[0m\n",
            "\u001b[0;31mTypeError\u001b[0m: Trainer.__init__() got an unexpected keyword argument 'output_dir'"
          ]
        }
      ]
    },
    {
      "cell_type": "code",
      "source": [
        "train_results = trainer.train()\n",
        "trainer.save_model()\n",
        "trainer.log_metrics(\"train\", train_results.metrics)\n",
        "trainer.save_metrics(\"train\", train_results.metrics)\n",
        "trainer.save_state()\n"
      ],
      "metadata": {
        "id": "jAIK5ZCSnd0_"
      },
      "execution_count": null,
      "outputs": []
    },
    {
      "cell_type": "code",
      "source": [
        "metrics = trainer.evaluate(prepared_ds['validation'])\n",
        "trainer.log_metrics(\"eval\", metrics)\n",
        "trainer.save_metrics(\"eval\", metrics)\n"
      ],
      "metadata": {
        "id": "ALxBw9MQndy4"
      },
      "execution_count": null,
      "outputs": []
    },
    {
      "cell_type": "code",
      "source": [],
      "metadata": {
        "id": "VpPSaIRYndva"
      },
      "execution_count": null,
      "outputs": []
    },
    {
      "cell_type": "markdown",
      "metadata": {
        "id": "lQCBFOtyaS6e"
      },
      "source": [
        "## Tokenizer"
      ]
    },
    {
      "cell_type": "code",
      "execution_count": null,
      "metadata": {
        "id": "u29Spa2MaS6e"
      },
      "outputs": [],
      "source": [
        "''' Tokenizer '''\n",
        "\n",
        "def text_tokenizer(train_data,dev_data,test_data,vocabulary,max_len,sample_text_num):\n",
        "\n",
        "  tokenizer = Tokenizer(num_words = vocabulary ,filters='!\"#$%&()*+,-./:;<=>?@[\\\\]^_`{|}~\\t\\n-',\n",
        "                        split=' ', char_level=False, oov_token='<oov>', document_count=0)\n",
        "  tokenizer.fit_on_texts(train_data['cleanText'])\n",
        "  word_index = tokenizer.word_index\n",
        "  vocab_size = len(word_index)+1\n",
        "\n",
        "  # Training Sequences\n",
        "  train_sequences = tokenizer.texts_to_sequences(train_data['cleanText'])\n",
        "  train_pad_sequences =  keras.preprocessing.sequence.pad_sequences(train_sequences, value=0.0, padding='post', maxlen= max_len)\n",
        "\n",
        "  # dev Sequences\n",
        "  dev_sequences = tokenizer.texts_to_sequences(dev_data['cleanText'])\n",
        "  dev_pad_sequences =  keras.preprocessing.sequence.pad_sequences(dev_sequences, value=0.0, padding='post', maxlen= max_len)\n",
        "\n",
        "  # Test Sequences\n",
        "  test_sequences = tokenizer.texts_to_sequences(test_data['cleanText'])\n",
        "  test_pad_sequences =  keras.preprocessing.sequence.pad_sequences(test_sequences, value=0.0, padding='post', maxlen= max_len)\n",
        "\n",
        "\n",
        "  print(color.BOLD+\"\\n\\t\\t\\t====== Encoded Sequences ======\"+color.END,\"\\n\")\n",
        "  print(train_data.cleanText[sample_text_num],\"\\n\",train_sequences[sample_text_num])\n",
        "  print(color.BOLD+\"\\n\\t\\t\\t====== Paded Sequences ======\\n\"+color.END,\"\\n\",train_pad_sequences[sample_text_num])\n",
        "\n",
        "  return train_pad_sequences, dev_pad_sequences, test_pad_sequences, vocab_size, word_index\n",
        "\n",
        "\n",
        "vocabulary = 30000\n",
        "max_len = 90\n",
        "sample_text_num = 10\n",
        "\n",
        "## Call Tokenizer\n",
        "train_pad_sequences, dev_pad_sequences, test_pad_sequences, vocab_size, word_index =  text_tokenizer(train_data,dev_data,test_data,\n",
        "                                                                      vocabulary,max_len,sample_text_num)\n",
        "\n",
        "print(\"Number of Train Sequences :\" ,train_pad_sequences.shape)\n",
        "print(\"Number of Test Sequences :\" ,test_pad_sequences.shape)\n",
        "print(\"Vocabulary Size: \",vocab_size)"
      ]
    },
    {
      "cell_type": "markdown",
      "metadata": {
        "id": "55sFNtTlaS6e"
      },
      "source": [
        "## Multimodal Models"
      ]
    },
    {
      "cell_type": "markdown",
      "metadata": {
        "id": "e5gIAh65S76_"
      },
      "source": [
        "### LSTM-ATTN + VGG16"
      ]
    },
    {
      "cell_type": "code",
      "execution_count": null,
      "metadata": {
        "id": "I_H1uFZFaS6e"
      },
      "outputs": [],
      "source": [
        "keras.backend.clear_session()\n",
        "def create_lstm_attention_vgg16_model ():\n",
        "\n",
        "  # create the base pre-trained model\n",
        "  vgg = VGG16(weights='imagenet', include_top=False,input_shape=(150, 150, 3))\n",
        "  for layer in vgg.layers[0:-10]:\n",
        "      layer.trainable = False\n",
        "  # add a global spatial average pooling layer\n",
        "  x = vgg.output\n",
        "  pool = GlobalAveragePooling2D()(x)\n",
        "  # let's add a fully-connected layer\n",
        "  flat = Flatten()(pool)\n",
        "  # and a logistic layer -- let's say we have 200 classes\n",
        "  #hidden1 = Dense(512, activation='relu')(flat)\n",
        "  #dropout = Dropout(0.1)(hidden1)\n",
        "  hidden2 = Dense(200, activation='relu')(flat)\n",
        "  #output = Dense(6, activation='softmax')(dropout)\n",
        "  # this is the model we will train\n",
        "  vgg_img_model = Model(inputs=vgg.input, outputs=hidden2)\n",
        "\n",
        "\n",
        "  # Text Model\n",
        "\n",
        "  class Attention(tf.keras.Model):\n",
        "      def __init__(self, units):\n",
        "          super(Attention, self).__init__()\n",
        "          self.W1 = tf.keras.layers.Dense(units)\n",
        "          self.W2 = tf.keras.layers.Dense(units)\n",
        "          self.V = tf.keras.layers.Dense(1)\n",
        "\n",
        "      def call(self, features, hidden):\n",
        "          # hidden shape == (batch_size, hidden size)\n",
        "          # hidden_with_time_axis shape == (batch_size, 1, hidden size)\n",
        "          # we are doing this to perform addition to calculate the score\n",
        "          hidden_with_time_axis = tf.expand_dims(hidden, 1)\n",
        "\n",
        "          # score shape == (batch_size, max_length, 1)\n",
        "          # we get 1 at the last axis because we are applying score to self.V\n",
        "          # the shape of the tensor before applying self.V is (batch_size, max_length, units)\n",
        "          score = tf.nn.tanh(\n",
        "              self.W1(features) + self.W2(hidden_with_time_axis))\n",
        "          # attention_weights shape == (batch_size, max_length, 1)\n",
        "          attention_weights = tf.nn.softmax(self.V(score), axis=1)\n",
        "\n",
        "          # context_vector shape after sum == (batch_size, hidden_size)\n",
        "          context_vector = attention_weights * features\n",
        "          context_vector = tf.reduce_sum(context_vector, axis=1)\n",
        "          return context_vector, attention_weights\n",
        "\n",
        "  sequence_input = Input(shape=(90,), dtype=\"int32\")  #150\n",
        "  embedded_sequences = Embedding(vocab_size, 100)(sequence_input)\n",
        "  lstm = Bidirectional(LSTM(128, return_sequences = True,dropout=0.01), name=\"bi_lstm_0\")(embedded_sequences)\n",
        "  # Getting our LSTM outputs\n",
        "  (lstm, forward_h, forward_c, backward_h, backward_c) = Bidirectional(LSTM(64, return_sequences=True, return_state=True), name=\"bi_lstm_1\")(lstm)\n",
        "\n",
        "  state_h = Concatenate()([forward_h, backward_h])\n",
        "  state_c = Concatenate()([forward_c, backward_c])\n",
        "  context_vector, attention_weights = Attention(20)(lstm, state_h)\n",
        "  dense1 = Dense(200, activation=\"relu\")(context_vector)\n",
        "  #dropout = Dropout(0.01)(dense1)\n",
        "  #output = Dense(6, activation=\"softmax\")(dropout)\n",
        "\n",
        "  lstm_attention_model = Model(inputs=sequence_input, outputs=dense1)\n",
        "\n",
        "  # Concatenating the output of 2 classifiers\n",
        "  con_layer = keras.layers.concatenate([vgg_img_model.output, lstm_attention_model.output])\n",
        "  dropout = Dropout(0.3)(con_layer)\n",
        "  out = Dense(1,activation='sigmoid')(dropout)   ##Dense(6,activation='softmax')(dropout)\n",
        "\n",
        "  #Defining model input and output\n",
        "  com_model = Model(inputs = [vgg_img_model.input, lstm_attention_model.input], outputs=out)\n",
        "\n",
        "  return com_model\n"
      ]
    },
    {
      "cell_type": "code",
      "execution_count": null,
      "metadata": {
        "id": "hWfGpK9-aS6f"
      },
      "outputs": [],
      "source": [
        "filepath = '/content/drive/MyDrive/Colab Notebooks/vgg_lstm_att-3.h5'\n",
        "checkpoint = keras.callbacks.ModelCheckpoint(filepath, monitor='val_accuracy', verbose=2, save_best_only=True,\n",
        "                                             save_weights_only=True, mode='max' )"
      ]
    },
    {
      "cell_type": "code",
      "execution_count": null,
      "metadata": {
        "colab": {
          "base_uri": "https://localhost:8080/"
        },
        "outputId": "bcb61267-b055-4a42-96be-e65a34db32f6",
        "id": "qhUv4FuIaS6f"
      },
      "outputs": [
        {
          "name": "stdout",
          "output_type": "stream",
          "text": [
            "Downloading data from https://storage.googleapis.com/tensorflow/keras-applications/vgg16/vgg16_weights_tf_dim_ordering_tf_kernels_notop.h5\n",
            "58889256/58889256 [==============================] - 0s 0us/step\n"
          ]
        }
      ],
      "source": [
        "model = create_lstm_attention_vgg16_model()\n",
        "# Plot model\n",
        "#plot_model(model, to_file='Two_LSTM_Inception_mul_model.png', show_shapes=True, show_layer_names=True)"
      ]
    },
    {
      "cell_type": "code",
      "execution_count": null,
      "metadata": {
        "id": "mlexMlQGaS6f"
      },
      "outputs": [],
      "source": [
        "model.compile(loss='binary_crossentropy',\n",
        "                      optimizer=RMSprop(learning_rate=0.0005),\n",
        "                      metrics = [\"accuracy\"])\n",
        "\n",
        "#Adam(lr=.001, beta_1=0.9, beta_2=0.999, epsilon=None, decay=0.0, amsgrad=False)"
      ]
    },
    {
      "cell_type": "code",
      "execution_count": null,
      "metadata": {
        "colab": {
          "base_uri": "https://localhost:8080/"
        },
        "outputId": "709a8313-855e-4b9c-c8b1-2ba2e99cef82",
        "id": "z0lD0R1AaS6f"
      },
      "outputs": [
        {
          "name": "stdout",
          "output_type": "stream",
          "text": [
            "Epoch 1/50\n",
            "51/51 [==============================] - ETA: 0s - loss: 0.0503 - accuracy: 0.9843\n",
            "Epoch 1: val_accuracy did not improve from 0.79167\n",
            "51/51 [==============================] - 24s 301ms/step - loss: 0.0503 - accuracy: 0.9843 - val_loss: 0.9990 - val_accuracy: 0.7167\n",
            "Epoch 2/50\n",
            "51/51 [==============================] - ETA: 0s - loss: 0.0371 - accuracy: 0.9898\n",
            "Epoch 2: val_accuracy did not improve from 0.79167\n",
            "51/51 [==============================] - 14s 271ms/step - loss: 0.0371 - accuracy: 0.9898 - val_loss: 1.3831 - val_accuracy: 0.6667\n",
            "Epoch 3/50\n",
            "51/51 [==============================] - ETA: 0s - loss: 0.0263 - accuracy: 0.9926\n",
            "Epoch 3: val_accuracy did not improve from 0.79167\n",
            "51/51 [==============================] - 16s 309ms/step - loss: 0.0263 - accuracy: 0.9926 - val_loss: 0.9921 - val_accuracy: 0.7611\n",
            "Epoch 4/50\n",
            "51/51 [==============================] - ETA: 0s - loss: 0.0228 - accuracy: 0.9941\n",
            "Epoch 4: val_accuracy did not improve from 0.79167\n",
            "51/51 [==============================] - 14s 284ms/step - loss: 0.0228 - accuracy: 0.9941 - val_loss: 0.8835 - val_accuracy: 0.7833\n",
            "Epoch 5/50\n",
            "51/51 [==============================] - ETA: 0s - loss: 0.0174 - accuracy: 0.9963\n",
            "Epoch 5: val_accuracy did not improve from 0.79167\n",
            "51/51 [==============================] - 13s 255ms/step - loss: 0.0174 - accuracy: 0.9963 - val_loss: 1.4562 - val_accuracy: 0.7111\n",
            "Epoch 6/50\n",
            "51/51 [==============================] - ETA: 0s - loss: 0.0155 - accuracy: 0.9957\n",
            "Epoch 6: val_accuracy did not improve from 0.79167\n",
            "51/51 [==============================] - 13s 261ms/step - loss: 0.0155 - accuracy: 0.9957 - val_loss: 1.8503 - val_accuracy: 0.6778\n",
            "Epoch 7/50\n",
            "51/51 [==============================] - ETA: 0s - loss: 0.0147 - accuracy: 0.9957\n",
            "Epoch 7: val_accuracy did not improve from 0.79167\n",
            "51/51 [==============================] - 13s 254ms/step - loss: 0.0147 - accuracy: 0.9957 - val_loss: 1.5962 - val_accuracy: 0.7222\n",
            "Epoch 8/50\n",
            "51/51 [==============================] - ETA: 0s - loss: 0.0123 - accuracy: 0.9969\n",
            "Epoch 8: val_accuracy did not improve from 0.79167\n",
            "51/51 [==============================] - 13s 264ms/step - loss: 0.0123 - accuracy: 0.9969 - val_loss: 2.0457 - val_accuracy: 0.6861\n",
            "Epoch 9/50\n",
            "51/51 [==============================] - ETA: 0s - loss: 0.0133 - accuracy: 0.9966\n",
            "Epoch 9: val_accuracy did not improve from 0.79167\n",
            "51/51 [==============================] - 13s 262ms/step - loss: 0.0133 - accuracy: 0.9966 - val_loss: 1.4004 - val_accuracy: 0.7250\n",
            "Epoch 10/50\n",
            "51/51 [==============================] - ETA: 0s - loss: 0.0110 - accuracy: 0.9969\n",
            "Epoch 10: val_accuracy did not improve from 0.79167\n",
            "51/51 [==============================] - 14s 266ms/step - loss: 0.0110 - accuracy: 0.9969 - val_loss: 2.6522 - val_accuracy: 0.6306\n",
            "Epoch 11/50\n",
            "51/51 [==============================] - ETA: 0s - loss: 0.0179 - accuracy: 0.9966\n",
            "Epoch 11: val_accuracy did not improve from 0.79167\n",
            "51/51 [==============================] - 13s 265ms/step - loss: 0.0179 - accuracy: 0.9966 - val_loss: 2.3364 - val_accuracy: 0.6583\n",
            "Epoch 12/50\n",
            "51/51 [==============================] - ETA: 0s - loss: 0.0081 - accuracy: 0.9978\n",
            "Epoch 12: val_accuracy did not improve from 0.79167\n",
            "51/51 [==============================] - 13s 256ms/step - loss: 0.0081 - accuracy: 0.9978 - val_loss: 1.7342 - val_accuracy: 0.7056\n",
            "Epoch 13/50\n",
            "51/51 [==============================] - ETA: 0s - loss: 0.0109 - accuracy: 0.9969\n",
            "Epoch 13: val_accuracy did not improve from 0.79167\n",
            "51/51 [==============================] - 14s 267ms/step - loss: 0.0109 - accuracy: 0.9969 - val_loss: 2.1659 - val_accuracy: 0.6667\n",
            "Epoch 14/50\n",
            "51/51 [==============================] - ETA: 0s - loss: 0.0220 - accuracy: 0.9954\n",
            "Epoch 14: val_accuracy did not improve from 0.79167\n",
            "51/51 [==============================] - 13s 265ms/step - loss: 0.0220 - accuracy: 0.9954 - val_loss: 1.5740 - val_accuracy: 0.7028\n",
            "Epoch 15/50\n",
            "51/51 [==============================] - ETA: 0s - loss: 0.0070 - accuracy: 0.9966\n",
            "Epoch 15: val_accuracy did not improve from 0.79167\n",
            "51/51 [==============================] - 13s 265ms/step - loss: 0.0070 - accuracy: 0.9966 - val_loss: 2.2188 - val_accuracy: 0.7028\n",
            "Epoch 16/50\n",
            "51/51 [==============================] - ETA: 0s - loss: 0.0117 - accuracy: 0.9963\n",
            "Epoch 16: val_accuracy did not improve from 0.79167\n",
            "51/51 [==============================] - 13s 255ms/step - loss: 0.0117 - accuracy: 0.9963 - val_loss: 2.0520 - val_accuracy: 0.6694\n",
            "Epoch 17/50\n",
            "51/51 [==============================] - ETA: 0s - loss: 0.0087 - accuracy: 0.9981\n",
            "Epoch 17: val_accuracy did not improve from 0.79167\n",
            "51/51 [==============================] - 13s 253ms/step - loss: 0.0087 - accuracy: 0.9981 - val_loss: 2.4701 - val_accuracy: 0.6556\n",
            "Epoch 18/50\n",
            "51/51 [==============================] - ETA: 0s - loss: 0.0078 - accuracy: 0.9975\n",
            "Epoch 18: val_accuracy did not improve from 0.79167\n",
            "51/51 [==============================] - 13s 258ms/step - loss: 0.0078 - accuracy: 0.9975 - val_loss: 2.1907 - val_accuracy: 0.6667\n",
            "Epoch 19/50\n",
            "51/51 [==============================] - ETA: 0s - loss: 0.0089 - accuracy: 0.9969\n",
            "Epoch 19: val_accuracy did not improve from 0.79167\n",
            "51/51 [==============================] - 13s 264ms/step - loss: 0.0089 - accuracy: 0.9969 - val_loss: 1.1766 - val_accuracy: 0.7028\n",
            "Epoch 20/50\n",
            "51/51 [==============================] - ETA: 0s - loss: 0.0073 - accuracy: 0.9969\n",
            "Epoch 20: val_accuracy did not improve from 0.79167\n",
            "51/51 [==============================] - 13s 262ms/step - loss: 0.0073 - accuracy: 0.9969 - val_loss: 2.0776 - val_accuracy: 0.6667\n",
            "Epoch 21/50\n",
            "51/51 [==============================] - ETA: 0s - loss: 0.0079 - accuracy: 0.9972\n",
            "Epoch 21: val_accuracy did not improve from 0.79167\n",
            "51/51 [==============================] - 13s 263ms/step - loss: 0.0079 - accuracy: 0.9972 - val_loss: 2.0848 - val_accuracy: 0.5944\n",
            "Epoch 22/50\n",
            "51/51 [==============================] - ETA: 0s - loss: 0.0117 - accuracy: 0.9966\n",
            "Epoch 22: val_accuracy did not improve from 0.79167\n",
            "51/51 [==============================] - 13s 262ms/step - loss: 0.0117 - accuracy: 0.9966 - val_loss: 2.2627 - val_accuracy: 0.6861\n",
            "Epoch 23/50\n",
            "51/51 [==============================] - ETA: 0s - loss: 0.0109 - accuracy: 0.9972\n",
            "Epoch 23: val_accuracy did not improve from 0.79167\n",
            "51/51 [==============================] - 13s 253ms/step - loss: 0.0109 - accuracy: 0.9972 - val_loss: 2.3145 - val_accuracy: 0.6417\n",
            "Epoch 24/50\n",
            "51/51 [==============================] - ETA: 0s - loss: 0.0095 - accuracy: 0.9969\n",
            "Epoch 24: val_accuracy did not improve from 0.79167\n",
            "51/51 [==============================] - 13s 263ms/step - loss: 0.0095 - accuracy: 0.9969 - val_loss: 2.0266 - val_accuracy: 0.6750\n",
            "Epoch 25/50\n",
            "51/51 [==============================] - ETA: 0s - loss: 0.0077 - accuracy: 0.9975\n",
            "Epoch 25: val_accuracy did not improve from 0.79167\n",
            "51/51 [==============================] - 13s 253ms/step - loss: 0.0077 - accuracy: 0.9975 - val_loss: 1.5724 - val_accuracy: 0.6750\n",
            "Epoch 26/50\n",
            "51/51 [==============================] - ETA: 0s - loss: 0.0071 - accuracy: 0.9975\n",
            "Epoch 26: val_accuracy did not improve from 0.79167\n",
            "51/51 [==============================] - 13s 255ms/step - loss: 0.0071 - accuracy: 0.9975 - val_loss: 2.7089 - val_accuracy: 0.6556\n",
            "Epoch 27/50\n",
            "51/51 [==============================] - ETA: 0s - loss: 0.0076 - accuracy: 0.9972\n",
            "Epoch 27: val_accuracy did not improve from 0.79167\n",
            "51/51 [==============================] - 13s 254ms/step - loss: 0.0076 - accuracy: 0.9972 - val_loss: 2.6271 - val_accuracy: 0.6694\n",
            "Epoch 28/50\n",
            "51/51 [==============================] - ETA: 0s - loss: 0.0078 - accuracy: 0.9978\n",
            "Epoch 28: val_accuracy did not improve from 0.79167\n",
            "51/51 [==============================] - 13s 263ms/step - loss: 0.0078 - accuracy: 0.9978 - val_loss: 2.8097 - val_accuracy: 0.6722\n",
            "Epoch 29/50\n",
            "51/51 [==============================] - ETA: 0s - loss: 0.0111 - accuracy: 0.9978\n",
            "Epoch 29: val_accuracy did not improve from 0.79167\n",
            "51/51 [==============================] - 13s 262ms/step - loss: 0.0111 - accuracy: 0.9978 - val_loss: 3.1039 - val_accuracy: 0.5972\n",
            "Epoch 30/50\n",
            "51/51 [==============================] - ETA: 0s - loss: 0.0043 - accuracy: 0.9985\n",
            "Epoch 30: val_accuracy did not improve from 0.79167\n",
            "51/51 [==============================] - 13s 263ms/step - loss: 0.0043 - accuracy: 0.9985 - val_loss: 2.5947 - val_accuracy: 0.7028\n",
            "Epoch 31/50\n",
            "51/51 [==============================] - ETA: 0s - loss: 0.0112 - accuracy: 0.9966\n",
            "Epoch 31: val_accuracy did not improve from 0.79167\n",
            "51/51 [==============================] - 13s 254ms/step - loss: 0.0112 - accuracy: 0.9966 - val_loss: 2.0925 - val_accuracy: 0.6778\n",
            "Epoch 32/50\n",
            "51/51 [==============================] - ETA: 0s - loss: 0.0041 - accuracy: 0.9975\n",
            "Epoch 32: val_accuracy did not improve from 0.79167\n",
            "51/51 [==============================] - 13s 254ms/step - loss: 0.0041 - accuracy: 0.9975 - val_loss: 2.5585 - val_accuracy: 0.7083\n",
            "Epoch 33/50\n",
            "51/51 [==============================] - ETA: 0s - loss: 0.0064 - accuracy: 0.9975\n",
            "Epoch 33: val_accuracy did not improve from 0.79167\n",
            "51/51 [==============================] - 13s 255ms/step - loss: 0.0064 - accuracy: 0.9975 - val_loss: 1.9477 - val_accuracy: 0.7250\n",
            "Epoch 34/50\n",
            "51/51 [==============================] - ETA: 0s - loss: 0.0084 - accuracy: 0.9969\n",
            "Epoch 34: val_accuracy did not improve from 0.79167\n",
            "51/51 [==============================] - 13s 253ms/step - loss: 0.0084 - accuracy: 0.9969 - val_loss: 1.8263 - val_accuracy: 0.6583\n",
            "Epoch 35/50\n",
            "51/51 [==============================] - ETA: 0s - loss: 0.0040 - accuracy: 0.9978\n",
            "Epoch 35: val_accuracy did not improve from 0.79167\n",
            "51/51 [==============================] - 13s 264ms/step - loss: 0.0040 - accuracy: 0.9978 - val_loss: 2.7350 - val_accuracy: 0.6722\n",
            "Epoch 36/50\n",
            "51/51 [==============================] - ETA: 0s - loss: 0.0059 - accuracy: 0.9969\n",
            "Epoch 36: val_accuracy did not improve from 0.79167\n",
            "51/51 [==============================] - 13s 253ms/step - loss: 0.0059 - accuracy: 0.9969 - val_loss: 2.4480 - val_accuracy: 0.6694\n",
            "Epoch 37/50\n",
            "51/51 [==============================] - ETA: 0s - loss: 0.0064 - accuracy: 0.9978\n",
            "Epoch 37: val_accuracy did not improve from 0.79167\n",
            "51/51 [==============================] - 13s 253ms/step - loss: 0.0064 - accuracy: 0.9978 - val_loss: 2.2885 - val_accuracy: 0.7028\n",
            "Epoch 38/50\n",
            "51/51 [==============================] - ETA: 0s - loss: 0.0038 - accuracy: 0.9978\n",
            "Epoch 38: val_accuracy did not improve from 0.79167\n",
            "51/51 [==============================] - 13s 252ms/step - loss: 0.0038 - accuracy: 0.9978 - val_loss: 2.3604 - val_accuracy: 0.7028\n",
            "Epoch 39/50\n",
            "51/51 [==============================] - ETA: 0s - loss: 0.0063 - accuracy: 0.9975\n",
            "Epoch 39: val_accuracy did not improve from 0.79167\n",
            "51/51 [==============================] - 13s 263ms/step - loss: 0.0063 - accuracy: 0.9975 - val_loss: 2.6272 - val_accuracy: 0.6861\n",
            "Epoch 40/50\n",
            "51/51 [==============================] - ETA: 0s - loss: 0.0053 - accuracy: 0.9981\n",
            "Epoch 40: val_accuracy did not improve from 0.79167\n",
            "51/51 [==============================] - 13s 263ms/step - loss: 0.0053 - accuracy: 0.9981 - val_loss: 2.1194 - val_accuracy: 0.6889\n",
            "Epoch 41/50\n",
            "51/51 [==============================] - ETA: 0s - loss: 0.0100 - accuracy: 0.9975\n",
            "Epoch 41: val_accuracy did not improve from 0.79167\n",
            "51/51 [==============================] - 13s 263ms/step - loss: 0.0100 - accuracy: 0.9975 - val_loss: 2.1024 - val_accuracy: 0.6861\n",
            "Epoch 42/50\n",
            "51/51 [==============================] - ETA: 0s - loss: 0.0113 - accuracy: 0.9972\n",
            "Epoch 42: val_accuracy did not improve from 0.79167\n",
            "51/51 [==============================] - 13s 253ms/step - loss: 0.0113 - accuracy: 0.9972 - val_loss: 1.7261 - val_accuracy: 0.6556\n",
            "Epoch 43/50\n",
            "51/51 [==============================] - ETA: 0s - loss: 0.0085 - accuracy: 0.9972\n",
            "Epoch 43: val_accuracy did not improve from 0.79167\n",
            "51/51 [==============================] - 13s 262ms/step - loss: 0.0085 - accuracy: 0.9972 - val_loss: 2.2605 - val_accuracy: 0.6472\n",
            "Epoch 44/50\n",
            "51/51 [==============================] - ETA: 0s - loss: 0.0033 - accuracy: 0.9978\n",
            "Epoch 44: val_accuracy did not improve from 0.79167\n",
            "51/51 [==============================] - 13s 264ms/step - loss: 0.0033 - accuracy: 0.9978 - val_loss: 2.5941 - val_accuracy: 0.6722\n",
            "Epoch 45/50\n",
            "51/51 [==============================] - ETA: 0s - loss: 0.0125 - accuracy: 0.9966\n",
            "Epoch 45: val_accuracy did not improve from 0.79167\n",
            "51/51 [==============================] - 13s 263ms/step - loss: 0.0125 - accuracy: 0.9966 - val_loss: 1.3891 - val_accuracy: 0.6889\n",
            "Epoch 46/50\n",
            "51/51 [==============================] - ETA: 0s - loss: 0.0037 - accuracy: 0.9981\n",
            "Epoch 46: val_accuracy did not improve from 0.79167\n",
            "51/51 [==============================] - 13s 253ms/step - loss: 0.0037 - accuracy: 0.9981 - val_loss: 3.0069 - val_accuracy: 0.6472\n",
            "Epoch 47/50\n",
            "51/51 [==============================] - ETA: 0s - loss: 0.0032 - accuracy: 0.9981\n",
            "Epoch 47: val_accuracy did not improve from 0.79167\n",
            "51/51 [==============================] - 13s 254ms/step - loss: 0.0032 - accuracy: 0.9981 - val_loss: 2.1753 - val_accuracy: 0.6889\n",
            "Epoch 48/50\n",
            "51/51 [==============================] - ETA: 0s - loss: 0.0029 - accuracy: 0.9981\n",
            "Epoch 48: val_accuracy did not improve from 0.79167\n",
            "51/51 [==============================] - 13s 254ms/step - loss: 0.0029 - accuracy: 0.9981 - val_loss: 2.6026 - val_accuracy: 0.6806\n",
            "Epoch 49/50\n",
            "51/51 [==============================] - ETA: 0s - loss: 0.0149 - accuracy: 0.9972\n",
            "Epoch 49: val_accuracy did not improve from 0.79167\n",
            "51/51 [==============================] - 13s 252ms/step - loss: 0.0149 - accuracy: 0.9972 - val_loss: 2.1678 - val_accuracy: 0.6667\n",
            "Epoch 50/50\n",
            "51/51 [==============================] - ETA: 0s - loss: 0.0058 - accuracy: 0.9972\n",
            "Epoch 50: val_accuracy did not improve from 0.79167\n",
            "51/51 [==============================] - 13s 253ms/step - loss: 0.0058 - accuracy: 0.9972 - val_loss: 2.1322 - val_accuracy: 0.7028\n"
          ]
        },
        {
          "data": {
            "text/plain": [
              "<keras.src.callbacks.History at 0x7f1777286110>"
            ]
          },
          "execution_count": 46,
          "metadata": {},
          "output_type": "execute_result"
        }
      ],
      "source": [
        "model.fit([train_image,train_pad_sequences],\n",
        "          train_data['enc_label'],\n",
        "          batch_size=64,\n",
        "          epochs=50,\n",
        "          validation_split=0.10,\n",
        "          verbose =1,\n",
        "          callbacks = [checkpoint] )"
      ]
    },
    {
      "cell_type": "code",
      "execution_count": null,
      "metadata": {
        "colab": {
          "base_uri": "https://localhost:8080/"
        },
        "outputId": "fc7c2f9a-9fb3-463e-f1a3-30fa5b444676",
        "id": "IQuJ9actaS6f"
      },
      "outputs": [
        {
          "name": "stdout",
          "output_type": "stream",
          "text": [
            "14/14 [==============================] - 3s 75ms/step\n",
            "[[200   0]\n",
            " [243   0]]\n",
            "              precision    recall  f1-score   support\n",
            "\n",
            "           0       0.45      1.00      0.62       200\n",
            "           1       0.00      0.00      0.00       243\n",
            "\n",
            "    accuracy                           0.45       443\n",
            "   macro avg       0.23      0.50      0.31       443\n",
            "weighted avg       0.20      0.45      0.28       443\n",
            "\n",
            "Accuracy :  0.45146726862302483\n",
            "Precison :  0.20382269463793448\n",
            "Recall :  0.45146726862302483\n",
            "F1 :  0.2808505559085691\n"
          ]
        }
      ],
      "source": [
        "model = create_lstm_attention_vgg16_model()\n",
        "# Load the saved model\n",
        "model.load_weights(filepath)\n",
        "y_pred = np.argmax(model.predict([dev_image,dev_pad_sequences]), axis=-1)\n",
        "print_metrices(dev_data['enc_label'],y_pred)"
      ]
    },
    {
      "cell_type": "code",
      "execution_count": null,
      "metadata": {
        "colab": {
          "base_uri": "https://localhost:8080/",
          "height": 351
        },
        "id": "iEaQvOp0AfpB",
        "outputId": "d8ab7e06-6db1-4b05-f0f9-ed58687c3693"
      },
      "outputs": [
        {
          "data": {
            "image/png": "[encoded data removed]",
            "text/plain": [
              "<Figure size 400x300 with 2 Axes>"
            ]
          },
          "metadata": {},
          "output_type": "display_data"
        }
      ],
      "source": [
        "con_mat(dev_data['enc_label'],y_pred,['hate','non-hate'],\"VGG16\")"
      ]
    },
    {
      "cell_type": "markdown",
      "metadata": {
        "id": "f_TCN2gkSv1t"
      },
      "source": [
        "### XLMR+VGG16"
      ]
    },
    {
      "cell_type": "code",
      "execution_count": null,
      "metadata": {
        "colab": {
          "base_uri": "https://localhost:8080/",
          "height": 113,
          "referenced_widgets": [
            "a09a37b3667b4a6687083efe1acf8aa1",
            "c5e1e9238d9d4f6eaace9ae4663a5bd4",
            "f2d7dd90833540c0b114c0fd7259d3d8",
            "68055e53c2f3422292e44122d0bfa5fd",
            "31c20abbd18f40fcbb75124ddcff3618",
            "41ce1fa7946d4de2b96e0ec0f0558fc4",
            "9bd6b9e5881e4a9da1ea4201b1083347",
            "f6052f94c3814de0bf04ecb677e74923",
            "f0f9c57c1a7e45ea94ae054951b216d4",
            "a64cbe14ce4743d7a0e02a9bf438dbbc",
            "567e72b81f2046f59f6eda61ff97d27b",
            "a36343d179194c7f8e84e986f304a371",
            "965591fbc46e4f12bc9cebc359a5d1ba",
            "eea52449dbc1459893f757a36654b2ce",
            "d6acad383e184ef2b441a1f0676c845b",
            "95d1bc51d3de4e1b9f4bd80a563c9d6a",
            "0f2545fa3a774d84b4015714a710a159",
            "9d58822357c344458b9f925b7d508417",
            "71cb0c929e7a4f34af3f64c79a1f7b82",
            "0cefab4497874b6d999d8e399c33923d",
            "a5ef5fb248524e8f96f9c8ad1263e869",
            "18e54235322840b1a374034e37142acb",
            "b801854eefba41949058b9e5c524cd63",
            "2ddcb167d3814a5aacc8b51f12f68000",
            "a2d4b4e062c54dc4959017b4b01219e7",
            "662f5009e496423ba4b3c0c0dbac24db",
            "d3bad69d814c444dad410d6e92159350",
            "42204e9501cc4469b696b6e6510ab164",
            "b5a268990c3c48a0a3aed31a2560e01a",
            "36f39eb3867f40488a7e441addf986ed",
            "50422eb772fa4c589a80b0f74acd88c6",
            "2053f2c1f22945538e96c5ae1d596861",
            "b5f5c95976bb4b17867aa6667b1bac1c"
          ]
        },
        "id": "TJ4qTJnbTCN3",
        "outputId": "209fd0a8-6976-469b-f51f-e1da05dace4a"
      },
      "outputs": [
        {
          "output_type": "display_data",
          "data": {
            "text/plain": [
              "sentencepiece.bpe.model:   0%|          | 0.00/5.07M [00:00<?, ?B/s]"
            ],
            "application/vnd.jupyter.widget-view+json": {
              "version_major": 2,
              "version_minor": 0,
              "model_id": "a09a37b3667b4a6687083efe1acf8aa1"
            }
          },
          "metadata": {}
        },
        {
          "output_type": "display_data",
          "data": {
            "text/plain": [
              "tokenizer.json:   0%|          | 0.00/9.10M [00:00<?, ?B/s]"
            ],
            "application/vnd.jupyter.widget-view+json": {
              "version_major": 2,
              "version_minor": 0,
              "model_id": "a36343d179194c7f8e84e986f304a371"
            }
          },
          "metadata": {}
        },
        {
          "output_type": "display_data",
          "data": {
            "text/plain": [
              "config.json:   0%|          | 0.00/615 [00:00<?, ?B/s]"
            ],
            "application/vnd.jupyter.widget-view+json": {
              "version_major": 2,
              "version_minor": 0,
              "model_id": "b801854eefba41949058b9e5c524cd63"
            }
          },
          "metadata": {}
        }
      ],
      "source": [
        "from transformers import XLMRobertaTokenizer\n",
        "tokenizer = XLMRobertaTokenizer.from_pretrained('xlm-roberta-base')"
      ]
    },
    {
      "cell_type": "code",
      "execution_count": null,
      "metadata": {
        "id": "GhmSPOoRTCLM"
      },
      "outputs": [],
      "source": [
        "train_input_ids,train_attention_masks = bert_encode(train_data['cleanText'],90,tokenizer)\n",
        "val_input_ids,val_attention_masks = bert_encode(dev_data['cleanText'],90,tokenizer)\n",
        "test_input_ids,test_attention_masks = bert_encode(test_data['cleanText'],90,tokenizer)"
      ]
    },
    {
      "cell_type": "code",
      "execution_count": null,
      "metadata": {
        "id": "iOfdo_0KTCII",
        "colab": {
          "base_uri": "https://localhost:8080/",
          "height": 188,
          "referenced_widgets": [
            "8112a637359f47eeac4d6bfefd263eca",
            "fbf2c7d0f1cf4fbc98f185a58620ae97",
            "6f48fe34f432485aa43cfe56b885cea5",
            "4e2c91ed920c4e4b922180606844125f",
            "f51ade88b94b4cb8b3791e245bf7722a",
            "b55312ee408f4f9da3b9d4f8fc6e4663",
            "48430c5618f44321882f5b24ae67a5e6",
            "3fd9f5d694624e4ba29985af93108c74",
            "8cb6b51833104994995b79172a340e59",
            "2642d448f7f74a3995fff2103e383441",
            "70054538c2954cce88543eb5c6cd0317",
            "fa6178db6b7f4ff396095959d4ddf76a",
            "c5be93c95f1847a9864557e747ab6cc1",
            "d021fbf8b6384c61805946e7f8ff8f74",
            "199937b7e3b145f0b7024d0c2980f6e7",
            "2f930b21e6e048899550c1a5d05e2a26",
            "d56f8dca74944878afa7041f354600e2",
            "fe8f8ddb9cdb46a59fc1f7b2bb23dacb",
            "6f9ad30a66d942cb88f27f43f0a14e48",
            "aebde6563d924422bf02c8c903e1f804",
            "50138083080a41b999db06e37e2855a2",
            "1af38807d8f343dd842a2c4242223ef8"
          ]
        },
        "outputId": "00a92e16-d990-4b7c-de3c-19501689339d"
      },
      "outputs": [
        {
          "output_type": "display_data",
          "data": {
            "text/plain": [
              "config.json:   0%|          | 0.00/512 [00:00<?, ?B/s]"
            ],
            "application/vnd.jupyter.widget-view+json": {
              "version_major": 2,
              "version_minor": 0,
              "model_id": "8112a637359f47eeac4d6bfefd263eca"
            }
          },
          "metadata": {}
        },
        {
          "output_type": "display_data",
          "data": {
            "text/plain": [
              "tf_model.h5:   0%|          | 0.00/1.89G [00:00<?, ?B/s]"
            ],
            "application/vnd.jupyter.widget-view+json": {
              "version_major": 2,
              "version_minor": 0,
              "model_id": "fa6178db6b7f4ff396095959d4ddf76a"
            }
          },
          "metadata": {}
        },
        {
          "output_type": "stream",
          "name": "stderr",
          "text": [
            "Some layers from the model checkpoint at jplu/tf-xlm-roberta-base were not used when initializing TFXLMRobertaModel: ['lm_head']\n",
            "- This IS expected if you are initializing TFXLMRobertaModel from the checkpoint of a model trained on another task or with another architecture (e.g. initializing a BertForSequenceClassification model from a BertForPreTraining model).\n",
            "- This IS NOT expected if you are initializing TFXLMRobertaModel from the checkpoint of a model that you expect to be exactly identical (initializing a BertForSequenceClassification model from a BertForSequenceClassification model).\n",
            "All the layers of TFXLMRobertaModel were initialized from the model checkpoint at jplu/tf-xlm-roberta-base.\n",
            "If your task is similar to the task the model of the checkpoint was trained on, you can already use TFXLMRobertaModel for predictions without further training.\n"
          ]
        }
      ],
      "source": [
        "from transformers import TFXLMRobertaModel\n",
        "xlm_model = TFXLMRobertaModel.from_pretrained(\"jplu/tf-xlm-roberta-base\")"
      ]
    },
    {
      "cell_type": "code",
      "execution_count": null,
      "metadata": {
        "id": "vCwCvulcTCF0"
      },
      "outputs": [],
      "source": [
        "### Checkpoint\n",
        "filepath = '/content/drive/MyDrive/Colab Notebooks/xlm-r.h5'\n",
        "checkpoint = keras.callbacks.ModelCheckpoint(filepath, monitor='val_accuracy', verbose=2, save_best_only=True,\n",
        "                                             save_weights_only=True, mode='max' )"
      ]
    },
    {
      "cell_type": "code",
      "source": [
        "from keras.applications import VGG19"
      ],
      "metadata": {
        "id": "PbV936PFBUB5"
      },
      "execution_count": null,
      "outputs": []
    },
    {
      "cell_type": "code",
      "execution_count": null,
      "metadata": {
        "id": "F96o4SNFTCDd",
        "colab": {
          "base_uri": "https://localhost:8080/"
        },
        "outputId": "ba970385-6ab1-4cbf-8e5f-591140009506"
      },
      "outputs": [
        {
          "output_type": "stream",
          "name": "stdout",
          "text": [
            "Downloading data from https://storage.googleapis.com/tensorflow/keras-applications/vgg19/vgg19_weights_tf_dim_ordering_tf_kernels_notop.h5\n",
            "80134624/80134624 [==============================] - 1s 0us/step\n"
          ]
        }
      ],
      "source": [
        "## VGG16\n",
        "base_model = VGG19(weights='imagenet', include_top=False,input_shape=(150, 150, 3))  ##16/19\n",
        "base_model.trainable = False\n",
        "y = base_model.output\n",
        "pool = GlobalAveragePooling2D()(y)\n",
        "#flatten = Flatten()(pool)\n",
        "fc_layer_v = Dense(10, activation='relu')(pool)\n",
        "#output = Dense(1, activation='sigmoid')(pool)\n",
        "  # this is the model we will train\n",
        "img_model = Model(inputs=base_model.input, outputs=fc_layer_v)\n",
        "\n",
        "\n",
        "# text model\n",
        "text_model = create_model(xlm_model,90)\n",
        "\n",
        "# Fusion\n",
        "con_layer = keras.layers.concatenate([img_model.output, text_model.output])\n",
        "final_dense = Dense(4, activation=\"relu\")(con_layer)\n",
        "dropout = Dropout(0.1)(final_dense)\n",
        "out = Dense(1,activation='sigmoid')(dropout)\n",
        "com_model = Model(inputs = [img_model.input, text_model.input], outputs=out)\n",
        "#com_model.summary()"
      ]
    },
    {
      "cell_type": "code",
      "execution_count": null,
      "metadata": {
        "id": "nvGpKYMaTCAy"
      },
      "outputs": [],
      "source": [
        "### Checkpoint\n",
        "filepath = '/content/drive/MyDrive/Colab Notebooks/xlmr+vgg19.h5'\n",
        "checkpoint = keras.callbacks.ModelCheckpoint(filepath, monitor='val_accuracy', verbose=2, save_best_only=True,\n",
        "                                             save_weights_only=True, mode='max' )\n"
      ]
    },
    {
      "cell_type": "code",
      "execution_count": null,
      "metadata": {
        "id": "KkEpBM34TBoA",
        "colab": {
          "base_uri": "https://localhost:8080/"
        },
        "outputId": "e76b86be-30c5-4080-fd81-169c60391877"
      },
      "outputs": [
        {
          "output_type": "stream",
          "name": "stderr",
          "text": [
            "WARNING:absl:`lr` is deprecated in Keras optimizer, please use `learning_rate` or use the legacy optimizer, e.g.,tf.keras.optimizers.legacy.Adam.\n"
          ]
        }
      ],
      "source": [
        "keras.backend.clear_session()\n",
        "# 3e-4, 1e-4, 5e-5, 3e-5,1e-5\n",
        "model = com_model\n",
        "model.compile(Adam(lr=1e-5), loss='binary_crossentropy', metrics=['accuracy'])\n",
        "#model.summary()"
      ]
    },
    {
      "cell_type": "code",
      "execution_count": null,
      "metadata": {
        "id": "xfuqFJMYTBko",
        "colab": {
          "base_uri": "https://localhost:8080/"
        },
        "outputId": "4724819c-131d-41da-f440-4ca3c1d1498d"
      },
      "outputs": [
        {
          "output_type": "stream",
          "name": "stdout",
          "text": [
            "Epoch 1/15\n"
          ]
        },
        {
          "output_type": "stream",
          "name": "stderr",
          "text": [
            "WARNING:tensorflow:Gradients do not exist for variables ['tfxlm_roberta_model/roberta/pooler/dense/kernel:0', 'tfxlm_roberta_model/roberta/pooler/dense/bias:0'] when minimizing the loss. If you're using `model.compile()`, did you forget to provide a `loss` argument?\n",
            "WARNING:tensorflow:Gradients do not exist for variables ['tfxlm_roberta_model/roberta/pooler/dense/kernel:0', 'tfxlm_roberta_model/roberta/pooler/dense/bias:0'] when minimizing the loss. If you're using `model.compile()`, did you forget to provide a `loss` argument?\n",
            "WARNING:tensorflow:Gradients do not exist for variables ['tfxlm_roberta_model/roberta/pooler/dense/kernel:0', 'tfxlm_roberta_model/roberta/pooler/dense/bias:0'] when minimizing the loss. If you're using `model.compile()`, did you forget to provide a `loss` argument?\n",
            "WARNING:tensorflow:Gradients do not exist for variables ['tfxlm_roberta_model/roberta/pooler/dense/kernel:0', 'tfxlm_roberta_model/roberta/pooler/dense/bias:0'] when minimizing the loss. If you're using `model.compile()`, did you forget to provide a `loss` argument?\n"
          ]
        },
        {
          "output_type": "stream",
          "name": "stdout",
          "text": [
            "225/225 [==============================] - ETA: 0s - loss: 0.8496 - accuracy: 0.5583\n",
            "Epoch 1: val_accuracy improved from -inf to 0.56885, saving model to /content/drive/MyDrive/Colab Notebooks/xlmr+vgg19.h5\n",
            "225/225 [==============================] - 182s 605ms/step - loss: 0.8496 - accuracy: 0.5583 - val_loss: 0.7374 - val_accuracy: 0.5688\n",
            "Epoch 2/15\n",
            "225/225 [==============================] - ETA: 0s - loss: 0.6700 - accuracy: 0.5611\n",
            "Epoch 2: val_accuracy did not improve from 0.56885\n",
            "225/225 [==============================] - 88s 392ms/step - loss: 0.6700 - accuracy: 0.5611 - val_loss: 0.7317 - val_accuracy: 0.5598\n",
            "Epoch 3/15\n",
            "225/225 [==============================] - ETA: 0s - loss: 0.6409 - accuracy: 0.5658\n",
            "Epoch 3: val_accuracy did not improve from 0.56885\n",
            "225/225 [==============================] - 88s 391ms/step - loss: 0.6409 - accuracy: 0.5658 - val_loss: 0.7141 - val_accuracy: 0.5553\n",
            "Epoch 4/15\n",
            "225/225 [==============================] - ETA: 0s - loss: 0.6150 - accuracy: 0.5839\n",
            "Epoch 4: val_accuracy did not improve from 0.56885\n",
            "225/225 [==============================] - 89s 395ms/step - loss: 0.6150 - accuracy: 0.5839 - val_loss: 0.7285 - val_accuracy: 0.5643\n",
            "Epoch 5/15\n",
            "225/225 [==============================] - ETA: 0s - loss: 0.5987 - accuracy: 0.6328\n",
            "Epoch 5: val_accuracy improved from 0.56885 to 0.58014, saving model to /content/drive/MyDrive/Colab Notebooks/xlmr+vgg19.h5\n",
            "225/225 [==============================] - 147s 655ms/step - loss: 0.5987 - accuracy: 0.6328 - val_loss: 0.7302 - val_accuracy: 0.5801\n",
            "Epoch 6/15\n",
            "225/225 [==============================] - ETA: 0s - loss: 0.5888 - accuracy: 0.6378\n",
            "Epoch 6: val_accuracy improved from 0.58014 to 0.58239, saving model to /content/drive/MyDrive/Colab Notebooks/xlmr+vgg19.h5\n",
            "225/225 [==============================] - 148s 658ms/step - loss: 0.5888 - accuracy: 0.6378 - val_loss: 0.7314 - val_accuracy: 0.5824\n",
            "Epoch 7/15\n",
            "225/225 [==============================] - ETA: 0s - loss: 0.5748 - accuracy: 0.6478\n",
            "Epoch 7: val_accuracy improved from 0.58239 to 0.63657, saving model to /content/drive/MyDrive/Colab Notebooks/xlmr+vgg19.h5\n",
            "225/225 [==============================] - 157s 700ms/step - loss: 0.5748 - accuracy: 0.6478 - val_loss: 0.7446 - val_accuracy: 0.6366\n",
            "Epoch 8/15\n",
            "225/225 [==============================] - ETA: 0s - loss: 0.5609 - accuracy: 0.6536\n",
            "Epoch 8: val_accuracy did not improve from 0.63657\n",
            "225/225 [==============================] - 87s 388ms/step - loss: 0.5609 - accuracy: 0.6536 - val_loss: 0.7554 - val_accuracy: 0.6321\n",
            "Epoch 9/15\n",
            "225/225 [==============================] - ETA: 0s - loss: 0.5541 - accuracy: 0.6553\n",
            "Epoch 9: val_accuracy did not improve from 0.63657\n",
            "225/225 [==============================] - 87s 388ms/step - loss: 0.5541 - accuracy: 0.6553 - val_loss: 0.7431 - val_accuracy: 0.6050\n",
            "Epoch 10/15\n",
            "225/225 [==============================] - ETA: 0s - loss: 0.5397 - accuracy: 0.6669\n",
            "Epoch 10: val_accuracy did not improve from 0.63657\n",
            "225/225 [==============================] - 88s 390ms/step - loss: 0.5397 - accuracy: 0.6669 - val_loss: 0.7662 - val_accuracy: 0.6072\n",
            "Epoch 11/15\n",
            "225/225 [==============================] - ETA: 0s - loss: 0.5270 - accuracy: 0.6767\n",
            "Epoch 11: val_accuracy did not improve from 0.63657\n",
            "225/225 [==============================] - 88s 389ms/step - loss: 0.5270 - accuracy: 0.6767 - val_loss: 0.7893 - val_accuracy: 0.6230\n",
            "Epoch 12/15\n",
            "225/225 [==============================] - ETA: 0s - loss: 0.5175 - accuracy: 0.6778\n",
            "Epoch 12: val_accuracy did not improve from 0.63657\n",
            "225/225 [==============================] - 89s 394ms/step - loss: 0.5175 - accuracy: 0.6778 - val_loss: 0.7902 - val_accuracy: 0.6072\n",
            "Epoch 13/15\n",
            "225/225 [==============================] - ETA: 0s - loss: 0.5175 - accuracy: 0.6831\n",
            "Epoch 13: val_accuracy did not improve from 0.63657\n",
            "225/225 [==============================] - 89s 394ms/step - loss: 0.5175 - accuracy: 0.6831 - val_loss: 0.8108 - val_accuracy: 0.6140\n",
            "Epoch 14/15\n",
            "225/225 [==============================] - ETA: 0s - loss: 0.5058 - accuracy: 0.6925\n",
            "Epoch 14: val_accuracy did not improve from 0.63657\n",
            "225/225 [==============================] - 89s 394ms/step - loss: 0.5058 - accuracy: 0.6925 - val_loss: 0.8104 - val_accuracy: 0.5869\n",
            "Epoch 15/15\n",
            "225/225 [==============================] - ETA: 0s - loss: 0.4968 - accuracy: 0.6939\n",
            "Epoch 15: val_accuracy did not improve from 0.63657\n",
            "225/225 [==============================] - 89s 394ms/step - loss: 0.4968 - accuracy: 0.6939 - val_loss: 0.8899 - val_accuracy: 0.6230\n"
          ]
        },
        {
          "output_type": "execute_result",
          "data": {
            "text/plain": [
              "<keras.src.callbacks.History at 0x78d019b51f00>"
            ]
          },
          "metadata": {},
          "execution_count": 48
        }
      ],
      "source": [
        "model.fit([train_image,train_input_ids,train_attention_masks],\n",
        "                    train_data['enc_label'],\n",
        "                    validation_data = ([dev_image, val_input_ids,val_attention_masks], dev_data['enc_label']),\n",
        "                    epochs=15,\n",
        "                    batch_size=16,\n",
        "                    callbacks = [checkpoint],\n",
        "                    # class_weight = weight\n",
        "          )"
      ]
    },
    {
      "cell_type": "code",
      "execution_count": null,
      "metadata": {
        "id": "NtxKvYeuTBiK",
        "colab": {
          "base_uri": "https://localhost:8080/"
        },
        "outputId": "e08e7b0b-b357-4d56-8034-0ded9e1ed846"
      },
      "outputs": [
        {
          "output_type": "stream",
          "name": "stdout",
          "text": [
            "14/14 [==============================] - 270s 19s/step\n",
            "[[163  37]\n",
            " [124 119]]\n",
            "              precision    recall  f1-score   support\n",
            "\n",
            "           0       0.57      0.81      0.67       200\n",
            "           1       0.76      0.49      0.60       243\n",
            "\n",
            "    accuracy                           0.64       443\n",
            "   macro avg       0.67      0.65      0.63       443\n",
            "weighted avg       0.67      0.64      0.63       443\n",
            "\n",
            "Accuracy :  0.636568848758465\n",
            "Precison :  0.6748402591187372\n",
            "Recall :  0.636568848758465\n",
            "F1 :  0.6294091916745201\n"
          ]
        }
      ],
      "source": [
        "#model2 = create_model(xlm_model,90)\n",
        "model.load_weights(filepath)\n",
        "y_pred = (model.predict([dev_image,val_input_ids,val_attention_masks])>0.50).astype(int)\n",
        "y_true = dev_data['enc_label']\n",
        "print_metrices(y_true,y_pred)"
      ]
    },
    {
      "cell_type": "code",
      "execution_count": null,
      "metadata": {
        "id": "jla1OAGNTBgE",
        "colab": {
          "base_uri": "https://localhost:8080/",
          "height": 351
        },
        "outputId": "818a1c87-3977-44b9-8aa9-24cfe133734c"
      },
      "outputs": [
        {
          "output_type": "display_data",
          "data": {
            "text/plain": [
              "<Figure size 400x300 with 2 Axes>"
            ],
            "image/png": "[encoded data removed]"
          },
          "metadata": {}
        }
      ],
      "source": [
        "con_mat(y_true,y_pred,['non-hate','hate'],\"VGG+XLMR\")"
      ]
    },
    {
      "cell_type": "code",
      "execution_count": null,
      "metadata": {
        "id": "JshGNn5qTBdp",
        "colab": {
          "base_uri": "https://localhost:8080/"
        },
        "outputId": "7682d0b4-25cd-401c-b037-ad04808c5f3f"
      },
      "outputs": [
        {
          "output_type": "stream",
          "name": "stdout",
          "text": [
            "14/14 [==============================] - 258s 18s/step\n"
          ]
        }
      ],
      "source": [
        "y_pred = (model.predict([test_image,test_input_ids,test_attention_masks])>0.60).astype(int)\n",
        "#y_true = test_data['enc_label']\n",
        "#print_metrices(y_true,y_pred)"
      ]
    },
    {
      "cell_type": "code",
      "execution_count": null,
      "metadata": {
        "id": "VLYZM97-TBam"
      },
      "outputs": [],
      "source": [
        "import json\n",
        "import zipfile\n",
        "\n",
        "# Assuming Atest is your DataFrame with an \"index\" column and y_pred is your predicted labels\n",
        "# Replace y_pred with your actual predicted labels\n",
        "predicted_result = pd.DataFrame()\n",
        "predicted_result['index'] = imgnames\n",
        "predicted_result['prediction'] = y_pred\n",
        "# Create a DataFrame with \"index\" and \"prediction\" columns\n",
        "#submission_df = pd.DataFrame({\"index\": imgnames, \"prediction\": y_pred})\n",
        "\n",
        "# Sort the DataFrame based on the \"index\" column\n",
        "submission_df = predicted_result.sort_values(by=\"index\")\n",
        "\n",
        "# Define the path to save the submission file\n",
        "submission_file_path = \"submission.json\"\n",
        "\n",
        "# Save the DataFrame to a JSON file\n",
        "submission_df.to_json(submission_file_path, orient=\"records\", lines=True)\n",
        "\n",
        "# Zip the JSON file\n",
        "with zipfile.ZipFile(\"ref.zip\", \"w\") as zipf:\n",
        "    zipf.write(submission_file_path, arcname=\"submission.json\")"
      ]
    }
  ]
}